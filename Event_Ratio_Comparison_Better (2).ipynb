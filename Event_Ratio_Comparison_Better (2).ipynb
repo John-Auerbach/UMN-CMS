{
 "cells": [
  {
   "cell_type": "code",
   "execution_count": 1,
   "id": "9067c1f3-ba25-45dc-beb5-c1d6f99f2c53",
   "metadata": {
    "scrolled": true
   },
   "outputs": [],
   "source": [
    "#UNADJUSTED, ADJUSTED, AND ALL RATIOS MUST BE PLOTTED IN ORDER\n",
    "\n",
    "import uproot\n",
    "import awkward as ak\n",
    "import matplotlib.pyplot as plt\n",
    "import numpy as np\n",
    "import pandas as pd\n",
    "import math\n",
    "from IPython.display import Image, display\n",
    "from IPython.display import HTML\n",
    "\n",
    "np.seterr(divide='ignore', invalid='ignore') # Ignore division errors >:)\n",
    "\n",
    "class Type:\n",
    "    def __init__(self, name):\n",
    "        self.name = name\n",
    "        self.sameSignFile = uproot.open('highHcal_'+str(name)+'_tagAligned (2).root')\n",
    "        self.sameSignEvents = self.sameSignFile['demo']['allEvents']['sigVariables']\n",
    "        self.branches = self.sameSignEvents.arrays()\n",
    "        self.EventWeight = self.branches['EventWeight']\n",
    "        self.eta = self.branches['eta']\n",
    "        self.phi = self.branches['phi']\n",
    "        \n",
    "        self.DR_S = []\n",
    "        self.DPhi_S = []\n",
    "        self.DEta_S = []\n",
    "\n",
    "        for i in range (4):\n",
    "            self.DR_S.append(self.branches['dtDRbyStation_' + str(i)])\n",
    "            self.DPhi_S.append(self.branches['dtDPhibyStation_' + str(i)])\n",
    "            self.DEta_S.append(self.branches['dtDEtabyStation_' + str(i)])\n",
    "\n",
    "Data = Type('data')\n",
    "MC = Type('mc')\n",
    "\n",
    "#Data.sameSignFile.keys()\n",
    "#Data.sameSignEvents\n",
    "#Data.sameSignEvents.keys()\n",
    "#Data.branches['pt']\n",
    "\n",
    "#Coord refers to eta, phi, or Delta R (DR)\n",
    "class Coord:\n",
    "    def __init__(self,name,x1,x2,bins):\n",
    "        self.name = name\n",
    "        self.x1 = x1\n",
    "        self.x2 = x2\n",
    "        self.bins = np.linspace(x1, x2, bins+1)  # creates an array of bin edges\n",
    "        self.bin_width = (x2 - x1) / bins\n",
    "\n",
    "DR = Coord('DR',0,0.35,100)   # set delta R edges/bin\n",
    "DPhi = Coord('DPhi',0,0.35,100)   # set delta R edges/bin\n",
    "DEta = Coord('DEta',0,0.35,100)   # set delta R edges/bin\n",
    "\n",
    "# Initialize class to help calculate normalized histograms for any data set\n",
    "class NormalizedHist:\n",
    "    def __init__(self, data, view_bins, bin_width):\n",
    "        self.data = data[0]\n",
    "        self.view_bins = view_bins\n",
    "        self.bin_width = bin_width\n",
    "        self.norm_factor = 1 / (np.sum(self.data) * self.bin_width)      # normalization factor\n",
    "        self.temp = (data[1] + self.bin_width / 2)                       # offset bin edge values by + 1/2 bin\n",
    "        self.bin_centers = self.temp[:-1]                                # cut last value to give bin center\n",
    "        self.freq = self.data * self.norm_factor                         # normalized frequency\n",
    "        self.err = (self.data ** 0.5) * self.norm_factor                 # normalized vertical error bar\n",
    "\n",
    "#---------------------------------------------------------------------------------------------------------------------------------------\n",
    "\n",
    "# Use pandas to make an array of values ordered by event ID\n",
    "features=[]\n",
    "for i in range(4):\n",
    "    features.append('dtDRbyStation_'+str(i))\n",
    "    features.append('dtDPhibyStation_'+str(i))\n",
    "    features.append('dtDEtabyStation_'+str(i))\n",
    "features.append('EventWeight')\n",
    "    \n",
    "mcEvents = MC.sameSignEvents.arrays(features, library='pd')\n",
    "dataEvents = Data.sameSignEvents.arrays(features, library='pd')\n",
    "\n",
    "Coordinates = [DR, DPhi, DEta]\n",
    "for coord in Coordinates:\n",
    "    bin_indices = np.zeros_like(MC.DR_S[i].to_numpy())         # Array for storing bin indices\n",
    "    for j, deltaR in enumerate(MC.DR_S[i]):                    # [(0, delta_R), (1, delta_R) ...] <--- list(enumerate(\")) should give this\n",
    "        bin_indices[j] = np.digitize(deltaR, coord.bins) - 1      # returns bin index for each delta R\n",
    "        mcEvents[str(coord)+'_Bin_Station_'+str(i)] = bin_indices          # Add new column with bin indices                                            \n",
    "#print(mcEvents[:5])\n",
    "\n",
    "ratio_station = []\n",
    "ratio_freq = []\n",
    "applied_Ratio = []\n",
    "weights_Station = []\n",
    "\n",
    "#---------------------------------------------------------------------------------------------------------------------------------------\n",
    "\n",
    "# Method for plotting histograms\n",
    "def generate_hist(condition, coord, x1, x2, i, j):\n",
    "\n",
    "    if coord == 'DR':\n",
    "        station_Data = Data.DR_S[i]\n",
    "        station_MC = MC.DR_S[i]\n",
    "    elif coord == 'DPhi':\n",
    "        station_Data = Data.DPhi_S[i]\n",
    "        station_MC = MC.DPhi_S[i]\n",
    "    elif coord == 'DEta':\n",
    "        station_Data = Data.DEta_S[i]\n",
    "        station_MC = MC.DEta_S[i]\n",
    "\n",
    "    if condition == 'unadjusted':\n",
    "        weights = MC.EventWeight\n",
    "    elif condition == 'adjusted':\n",
    "        if i == 0:\n",
    "            weights_Station.append(MC.EventWeight*mcEvents['Ratio_Station_'+str(j)].to_list())\n",
    "        weights = weights_Station[j]\n",
    "    if condition == 'all ratios':\n",
    "        all_ratios = np.multiply(np.multiply(applied_Ratio[0], applied_Ratio[1]), np.multiply(applied_Ratio[2], applied_Ratio[3])) # by bin\n",
    "        if i == 0:\n",
    "            mcEvents['All_Ratios'] = mcEvents['Ratio_Station_0']*mcEvents['Ratio_Station_1']*mcEvents['Ratio_Station_2']*mcEvents['Ratio_Station_3'] # by event\n",
    "        weights = MC.EventWeight*mcEvents['All_Ratios'].to_list()\n",
    "        \n",
    "    # Create numpy histogram data for Data & MC so ratio can be calculated by initializing each as NormalizedHist Class\n",
    "    data_hist = NormalizedHist(np.histogram(station_Data, bins=DR.bins, range=(DR.x1, DR.x2), density=None), len(DR.bins), DR.bin_width)\n",
    "    mc_hist = NormalizedHist(np.histogram(station_MC, bins=DR.bins, range=(DR.x1, DR.x2), density=None, weights=weights), len(DR.bins), DR.bin_width)\n",
    "    \n",
    "    if condition != 'unadjusted':\n",
    "        mc_hist_unadj = NormalizedHist(np.histogram(MC.DR_S[i], bins=DR.bins, range=(DR.x1, DR.x2), density=None, weights=MC.EventWeight), len(DR.bins), DR.bin_width)\n",
    "        adj_factor = np.divide(mc_hist.freq, mc_hist_unadj.freq + 1e-10)\n",
    "\n",
    "\n",
    "    ratio_freq = np.divide(data_hist.freq, mc_hist.freq)\n",
    "    ratio_freq = [1 if math.isinf(x) else x for x in ratio_freq] # goodify the infinities\n",
    "    ratio_err = ratio_freq * np.sqrt((data_hist.err / (data_hist.freq + 1e-10))**2 + (mc_hist.err / (mc_hist.freq + 1e-10))**2) \n",
    "    # calculate ratio error -> propagation of uncertainty\n",
    "\n",
    "\n",
    "    if condition == 'unadjusted':\n",
    "        applied_Ratio.append(ratio_freq) # save ratio_freq per station for later\n",
    "    \n",
    "        # Loop over events, assign bin ratio to each event\n",
    "        ratio_station.append(np.zeros_like(station_MC.to_numpy()))             # create empty array similar to DR for station[j]\n",
    "        for k, deltaR in enumerate(station_MC):                                # [(0, delta_R), (1, delta_R) ...] <--- list(enumerate(\")) should give this\n",
    "            bin_index = np.digitize(deltaR, DR.bins) - 1                       # returns bin index for each delta R\n",
    "            if bin_index >= len(ratio_freq):                                   # check if index is out of bound\n",
    "                bin_index = len(ratio_freq) - 1                                # assign the last valid index\n",
    "            ratio_station[i][k] = ratio_freq[bin_index]                        # find item j in array and change it to the ratio_freq of that bin index\n",
    "    \n",
    "        assert len(mcEvents) == len(ratio_station[i])            # make sure length matches\n",
    "        mcEvents['Ratio_Station_'+str(i)] = ratio_station[i]     # add new column\n",
    "\n",
    "    #PLOT -  -  -  -  -  -  -  -  -  -  -  -  -  -  -  -  -  -  -  -  -  -  -  -  -  -  -  -  -  -  -  -  -  -  -  -  -  -  -  -  -  -  -  -  -  -  -  -  -  -  -  -\n",
    "\n",
    "    # Adjusting axs[0].step from bin edge to bin center results in loss of first bar because it is shifted 1/2 bin width; this adds that point back at 0\n",
    "    step_bc = mc_hist.bin_centers+DR.bin_width/2\n",
    "    step_f = mc_hist.freq\n",
    "    step_bc.to_numpy\n",
    "    step_f.to_numpy\n",
    "    step_bin_centers = np.insert(step_bc, 0, 0.0)\n",
    "    step_freq = np.insert(step_f, 0, mc_hist.freq[0])\n",
    "\n",
    "    # Set up histogram, use bars for MC\n",
    "    fig, axs = plt.subplots(2, sharex=True, gridspec_kw={'hspace': 0, 'height_ratios': [3, 1]}, figsize=(7, 5))\n",
    "    axs[0].step(step_bin_centers, step_freq, label='Monte Carlo')\n",
    "    if condition == 'unadjusted':\n",
    "        axs[0].set_title('Distance to Station '+str(i))\n",
    "    elif condition == 'adjusted':\n",
    "        axs[0].set_title('Distance to Station '+str(i)+' Weighted by Station '+str(j)+' Ratios')\n",
    "    elif condition == 'all ratios':\n",
    "        axs[0].set_title('Distance to Station '+str(i)+' Weighted by All Ratios')\n",
    "    axs[0].set_ylabel('Event Frequency (Normalized)')\n",
    "    axs[0].set_yscale('log')\n",
    "    \n",
    "    # Scatter data by attribute\n",
    "    axs[0].scatter(data_hist.bin_centers, data_hist.freq, s=10, color='darkorange', label='Data')\n",
    "    axs[0].errorbar(data_hist.bin_centers, data_hist.freq, xerr=DR.bin_width/2, yerr=mc_hist.err, fmt='+')\n",
    "    axs[0].set_xlim(x1, x2)\n",
    "    axs[0].legend()\n",
    "\n",
    "    # Scatter ratio plot\n",
    "    axs[1].scatter(data_hist.bin_centers, ratio_freq, s=10)\n",
    "    axs[1].errorbar(data_hist.bin_centers, ratio_freq, yerr=ratio_err, fmt='+')\n",
    "    axs[1].set_ylim(0,2)\n",
    "    axs[1].set_ylabel('Ratio')\n",
    "    axs[1].set_xlabel('$\\Delta$'+coord+' to Station '+str(i))\n",
    "\n",
    "    if condition == 'unadjusted':\n",
    "        plt.savefig(coord+' Distance to Station '+str(i)+'.jpg')\n",
    "        \n",
    "    elif condition == 'adjusted':\n",
    "        plt.savefig(coord+' Distance to Station '+str(i)+' Weighted by Station '+str(j)+' Ratios.jpg')\n",
    "        plt.close() # prevents figure from being displayed when code cell is executed\n",
    "        plt.scatter(data_hist.bin_centers, adj_factor)\n",
    "        plt.xlabel('$\\Delta$'+coord+' to Station '+str(j))\n",
    "        plt.ylabel('Adjustment Factor')\n",
    "        plt.title('Net Adjustment by Station '+str(j)+' Ratios for Station '+str(i))\n",
    "        plt.savefig(coord+' Net Adjustment by Station '+str(j)+' Ratios for Station '+str(i)+'.jpg')\n",
    "        \n",
    "    elif condition == 'all ratios':\n",
    "        plt.savefig(coord+' Distance to Station '+str(i)+' Weighted by All Ratios.jpg')\n",
    "        plt.close()  # prevents figure from being displayed when code cell is executed\n",
    "        plt.scatter(data_hist.bin_centers, adj_factor)\n",
    "        plt.xlabel('$\\Delta$'+coord+' to Station '+str(j))\n",
    "        plt.ylabel('Adjustment Factor')\n",
    "        plt.title('Net Adjustment by All Ratios for Station '+str(i))\n",
    "    \n",
    "        plt.savefig(coord+' Net Adjustment by All Ratios for Station '+str(i)+'.jpg')\n",
    "\n",
    "    plt.close()\n",
    "    return mc_hist, data_hist\n",
    "\n",
    "# - - - - - - - - - - - - - - - - - - - - - - - - - - - - - - - - - - - - - - - - - - -\n",
    "    \n",
    "def compile_hist(coord, x1, x2):\n",
    "    \n",
    "    for i in range (4):\n",
    "        generate_hist(condition='unadjusted', coord=coord, x1=x1, x2=x2, i=i, j='')\n",
    "    print('done')\n",
    "\n",
    "    for j in range (4):                          #j iterates through station weights\n",
    "        for i in range (4):                      #i iterates through stations\n",
    "            generate_hist(condition='adjusted', coord=coord, x1=x1, x2=x2, i=i, j=j)\n",
    "    print('done')\n",
    "        \n",
    "    for i in range (4):                    \n",
    "        generate_hist(condition='all ratios', coord=coord, x1=x1, x2=x2, i=i, j='')\n",
    "    print('done')\n",
    "\n",
    "# - - - - - - - - - - - - - - - - - - - - - - - - - - - - - - - - - - - - - - - - - - -\n",
    "\n",
    "def plot_hist(coord):\n",
    "\n",
    "    for j in range(4):\n",
    "        for k in range(2):\n",
    "            print(\"\\n\") \n",
    "        print('                            ------------------------------------------------------------------------------- All Stations Weighted by Station '+str(j)+' Ratios: -------------------------------------------------------------------------------')\n",
    "        for k in range(2):\n",
    "            print(\"\\n\")\n",
    "        for i in range(4):\n",
    "            display(HTML(\"<table><tr><td><img src='\"+coord+\" Distance to Station \"+str(i)+\".jpg'></td><td><img src='\"+coord+\" Net Adjustment by Station \"+str(j)+\" Ratios for Station \"+str(i)+\".jpg'></td><td><img src='\"+coord+\" Distance to Station \"+str(i)+\" Weighted by Station \"+str(j)+\" Ratios.jpg'></td></tr></table>\"))\n",
    "    \n",
    "    for k in range(2):\n",
    "        print(\"\\n\") \n",
    "    print('                            ------------------------------------------------------------------------------- All Stations Weighted by All Ratios: -------------------------------------------------------------------------------')\n",
    "    for k in range(2):\n",
    "        print(\"\\n\")\n",
    "    for i in range(4):\n",
    "        display(HTML(\"<table><tr><td><img src='\"+coord+\" Distance to Station \"+str(i)+\".jpg'></td><td><img src='\"+coord+\" Net Adjustment by All Ratios for Station \"+str(i)+\".jpg'></td><td><img src='\"+coord+\" Distance to Station \"+str(i)+\" Weighted by All Ratios.jpg'></td></tr></table>\"))\n"
   ]
  },
  {
   "cell_type": "code",
   "execution_count": 2,
   "id": "93441d8a-f93c-4fa1-b7ff-50a38e920472",
   "metadata": {},
   "outputs": [
    {
     "name": "stdout",
     "output_type": "stream",
     "text": [
      "done\n",
      "done\n",
      "done\n",
      "\n",
      "\n",
      "\n",
      "\n",
      "                            ------------------------------------------------------------------------------- All Stations Weighted by Station 0 Ratios: -------------------------------------------------------------------------------\n",
      "\n",
      "\n",
      "\n",
      "\n"
     ]
    },
    {
     "data": {
      "text/html": [
       "<table><tr><td><img src='DR Distance to Station 0.jpg'></td><td><img src='DR Net Adjustment by Station 0 Ratios for Station 0.jpg'></td><td><img src='DR Distance to Station 0 Weighted by Station 0 Ratios.jpg'></td></tr></table>"
      ],
      "text/plain": [
       "<IPython.core.display.HTML object>"
      ]
     },
     "metadata": {},
     "output_type": "display_data"
    },
    {
     "data": {
      "text/html": [
       "<table><tr><td><img src='DR Distance to Station 1.jpg'></td><td><img src='DR Net Adjustment by Station 0 Ratios for Station 1.jpg'></td><td><img src='DR Distance to Station 1 Weighted by Station 0 Ratios.jpg'></td></tr></table>"
      ],
      "text/plain": [
       "<IPython.core.display.HTML object>"
      ]
     },
     "metadata": {},
     "output_type": "display_data"
    },
    {
     "data": {
      "text/html": [
       "<table><tr><td><img src='DR Distance to Station 2.jpg'></td><td><img src='DR Net Adjustment by Station 0 Ratios for Station 2.jpg'></td><td><img src='DR Distance to Station 2 Weighted by Station 0 Ratios.jpg'></td></tr></table>"
      ],
      "text/plain": [
       "<IPython.core.display.HTML object>"
      ]
     },
     "metadata": {},
     "output_type": "display_data"
    },
    {
     "data": {
      "text/html": [
       "<table><tr><td><img src='DR Distance to Station 3.jpg'></td><td><img src='DR Net Adjustment by Station 0 Ratios for Station 3.jpg'></td><td><img src='DR Distance to Station 3 Weighted by Station 0 Ratios.jpg'></td></tr></table>"
      ],
      "text/plain": [
       "<IPython.core.display.HTML object>"
      ]
     },
     "metadata": {},
     "output_type": "display_data"
    },
    {
     "name": "stdout",
     "output_type": "stream",
     "text": [
      "\n",
      "\n",
      "\n",
      "\n",
      "                            ------------------------------------------------------------------------------- All Stations Weighted by Station 1 Ratios: -------------------------------------------------------------------------------\n",
      "\n",
      "\n",
      "\n",
      "\n"
     ]
    },
    {
     "data": {
      "text/html": [
       "<table><tr><td><img src='DR Distance to Station 0.jpg'></td><td><img src='DR Net Adjustment by Station 1 Ratios for Station 0.jpg'></td><td><img src='DR Distance to Station 0 Weighted by Station 1 Ratios.jpg'></td></tr></table>"
      ],
      "text/plain": [
       "<IPython.core.display.HTML object>"
      ]
     },
     "metadata": {},
     "output_type": "display_data"
    },
    {
     "data": {
      "text/html": [
       "<table><tr><td><img src='DR Distance to Station 1.jpg'></td><td><img src='DR Net Adjustment by Station 1 Ratios for Station 1.jpg'></td><td><img src='DR Distance to Station 1 Weighted by Station 1 Ratios.jpg'></td></tr></table>"
      ],
      "text/plain": [
       "<IPython.core.display.HTML object>"
      ]
     },
     "metadata": {},
     "output_type": "display_data"
    },
    {
     "data": {
      "text/html": [
       "<table><tr><td><img src='DR Distance to Station 2.jpg'></td><td><img src='DR Net Adjustment by Station 1 Ratios for Station 2.jpg'></td><td><img src='DR Distance to Station 2 Weighted by Station 1 Ratios.jpg'></td></tr></table>"
      ],
      "text/plain": [
       "<IPython.core.display.HTML object>"
      ]
     },
     "metadata": {},
     "output_type": "display_data"
    },
    {
     "data": {
      "text/html": [
       "<table><tr><td><img src='DR Distance to Station 3.jpg'></td><td><img src='DR Net Adjustment by Station 1 Ratios for Station 3.jpg'></td><td><img src='DR Distance to Station 3 Weighted by Station 1 Ratios.jpg'></td></tr></table>"
      ],
      "text/plain": [
       "<IPython.core.display.HTML object>"
      ]
     },
     "metadata": {},
     "output_type": "display_data"
    },
    {
     "name": "stdout",
     "output_type": "stream",
     "text": [
      "\n",
      "\n",
      "\n",
      "\n",
      "                            ------------------------------------------------------------------------------- All Stations Weighted by Station 2 Ratios: -------------------------------------------------------------------------------\n",
      "\n",
      "\n",
      "\n",
      "\n"
     ]
    },
    {
     "data": {
      "text/html": [
       "<table><tr><td><img src='DR Distance to Station 0.jpg'></td><td><img src='DR Net Adjustment by Station 2 Ratios for Station 0.jpg'></td><td><img src='DR Distance to Station 0 Weighted by Station 2 Ratios.jpg'></td></tr></table>"
      ],
      "text/plain": [
       "<IPython.core.display.HTML object>"
      ]
     },
     "metadata": {},
     "output_type": "display_data"
    },
    {
     "data": {
      "text/html": [
       "<table><tr><td><img src='DR Distance to Station 1.jpg'></td><td><img src='DR Net Adjustment by Station 2 Ratios for Station 1.jpg'></td><td><img src='DR Distance to Station 1 Weighted by Station 2 Ratios.jpg'></td></tr></table>"
      ],
      "text/plain": [
       "<IPython.core.display.HTML object>"
      ]
     },
     "metadata": {},
     "output_type": "display_data"
    },
    {
     "data": {
      "text/html": [
       "<table><tr><td><img src='DR Distance to Station 2.jpg'></td><td><img src='DR Net Adjustment by Station 2 Ratios for Station 2.jpg'></td><td><img src='DR Distance to Station 2 Weighted by Station 2 Ratios.jpg'></td></tr></table>"
      ],
      "text/plain": [
       "<IPython.core.display.HTML object>"
      ]
     },
     "metadata": {},
     "output_type": "display_data"
    },
    {
     "data": {
      "text/html": [
       "<table><tr><td><img src='DR Distance to Station 3.jpg'></td><td><img src='DR Net Adjustment by Station 2 Ratios for Station 3.jpg'></td><td><img src='DR Distance to Station 3 Weighted by Station 2 Ratios.jpg'></td></tr></table>"
      ],
      "text/plain": [
       "<IPython.core.display.HTML object>"
      ]
     },
     "metadata": {},
     "output_type": "display_data"
    },
    {
     "name": "stdout",
     "output_type": "stream",
     "text": [
      "\n",
      "\n",
      "\n",
      "\n",
      "                            ------------------------------------------------------------------------------- All Stations Weighted by Station 3 Ratios: -------------------------------------------------------------------------------\n",
      "\n",
      "\n",
      "\n",
      "\n"
     ]
    },
    {
     "data": {
      "text/html": [
       "<table><tr><td><img src='DR Distance to Station 0.jpg'></td><td><img src='DR Net Adjustment by Station 3 Ratios for Station 0.jpg'></td><td><img src='DR Distance to Station 0 Weighted by Station 3 Ratios.jpg'></td></tr></table>"
      ],
      "text/plain": [
       "<IPython.core.display.HTML object>"
      ]
     },
     "metadata": {},
     "output_type": "display_data"
    },
    {
     "data": {
      "text/html": [
       "<table><tr><td><img src='DR Distance to Station 1.jpg'></td><td><img src='DR Net Adjustment by Station 3 Ratios for Station 1.jpg'></td><td><img src='DR Distance to Station 1 Weighted by Station 3 Ratios.jpg'></td></tr></table>"
      ],
      "text/plain": [
       "<IPython.core.display.HTML object>"
      ]
     },
     "metadata": {},
     "output_type": "display_data"
    },
    {
     "data": {
      "text/html": [
       "<table><tr><td><img src='DR Distance to Station 2.jpg'></td><td><img src='DR Net Adjustment by Station 3 Ratios for Station 2.jpg'></td><td><img src='DR Distance to Station 2 Weighted by Station 3 Ratios.jpg'></td></tr></table>"
      ],
      "text/plain": [
       "<IPython.core.display.HTML object>"
      ]
     },
     "metadata": {},
     "output_type": "display_data"
    },
    {
     "data": {
      "text/html": [
       "<table><tr><td><img src='DR Distance to Station 3.jpg'></td><td><img src='DR Net Adjustment by Station 3 Ratios for Station 3.jpg'></td><td><img src='DR Distance to Station 3 Weighted by Station 3 Ratios.jpg'></td></tr></table>"
      ],
      "text/plain": [
       "<IPython.core.display.HTML object>"
      ]
     },
     "metadata": {},
     "output_type": "display_data"
    },
    {
     "name": "stdout",
     "output_type": "stream",
     "text": [
      "\n",
      "\n",
      "\n",
      "\n",
      "                            ------------------------------------------------------------------------------- All Stations Weighted by All Ratios: -------------------------------------------------------------------------------\n",
      "\n",
      "\n",
      "\n",
      "\n"
     ]
    },
    {
     "data": {
      "text/html": [
       "<table><tr><td><img src='DR Distance to Station 0.jpg'></td><td><img src='DR Net Adjustment by All Ratios for Station 0.jpg'></td><td><img src='DR Distance to Station 0 Weighted by All Ratios.jpg'></td></tr></table>"
      ],
      "text/plain": [
       "<IPython.core.display.HTML object>"
      ]
     },
     "metadata": {},
     "output_type": "display_data"
    },
    {
     "data": {
      "text/html": [
       "<table><tr><td><img src='DR Distance to Station 1.jpg'></td><td><img src='DR Net Adjustment by All Ratios for Station 1.jpg'></td><td><img src='DR Distance to Station 1 Weighted by All Ratios.jpg'></td></tr></table>"
      ],
      "text/plain": [
       "<IPython.core.display.HTML object>"
      ]
     },
     "metadata": {},
     "output_type": "display_data"
    },
    {
     "data": {
      "text/html": [
       "<table><tr><td><img src='DR Distance to Station 2.jpg'></td><td><img src='DR Net Adjustment by All Ratios for Station 2.jpg'></td><td><img src='DR Distance to Station 2 Weighted by All Ratios.jpg'></td></tr></table>"
      ],
      "text/plain": [
       "<IPython.core.display.HTML object>"
      ]
     },
     "metadata": {},
     "output_type": "display_data"
    },
    {
     "data": {
      "text/html": [
       "<table><tr><td><img src='DR Distance to Station 3.jpg'></td><td><img src='DR Net Adjustment by All Ratios for Station 3.jpg'></td><td><img src='DR Distance to Station 3 Weighted by All Ratios.jpg'></td></tr></table>"
      ],
      "text/plain": [
       "<IPython.core.display.HTML object>"
      ]
     },
     "metadata": {},
     "output_type": "display_data"
    }
   ],
   "source": [
    "compile_hist('DR', 0, 0.35)\n",
    "plot_hist('DR')"
   ]
  },
  {
   "cell_type": "code",
   "execution_count": 3,
   "id": "00f6cb21-8281-4ffd-9dfd-bb7ac6762f7a",
   "metadata": {},
   "outputs": [
    {
     "name": "stdout",
     "output_type": "stream",
     "text": [
      "done\n",
      "done\n",
      "done\n",
      "\n",
      "\n",
      "\n",
      "\n",
      "                            ------------------------------------------------------------------------------- All Stations Weighted by Station 0 Ratios: -------------------------------------------------------------------------------\n",
      "\n",
      "\n",
      "\n",
      "\n"
     ]
    },
    {
     "data": {
      "text/html": [
       "<table><tr><td><img src='DPhi Distance to Station 0.jpg'></td><td><img src='DPhi Net Adjustment by Station 0 Ratios for Station 0.jpg'></td><td><img src='DPhi Distance to Station 0 Weighted by Station 0 Ratios.jpg'></td></tr></table>"
      ],
      "text/plain": [
       "<IPython.core.display.HTML object>"
      ]
     },
     "metadata": {},
     "output_type": "display_data"
    },
    {
     "data": {
      "text/html": [
       "<table><tr><td><img src='DPhi Distance to Station 1.jpg'></td><td><img src='DPhi Net Adjustment by Station 0 Ratios for Station 1.jpg'></td><td><img src='DPhi Distance to Station 1 Weighted by Station 0 Ratios.jpg'></td></tr></table>"
      ],
      "text/plain": [
       "<IPython.core.display.HTML object>"
      ]
     },
     "metadata": {},
     "output_type": "display_data"
    },
    {
     "data": {
      "text/html": [
       "<table><tr><td><img src='DPhi Distance to Station 2.jpg'></td><td><img src='DPhi Net Adjustment by Station 0 Ratios for Station 2.jpg'></td><td><img src='DPhi Distance to Station 2 Weighted by Station 0 Ratios.jpg'></td></tr></table>"
      ],
      "text/plain": [
       "<IPython.core.display.HTML object>"
      ]
     },
     "metadata": {},
     "output_type": "display_data"
    },
    {
     "data": {
      "text/html": [
       "<table><tr><td><img src='DPhi Distance to Station 3.jpg'></td><td><img src='DPhi Net Adjustment by Station 0 Ratios for Station 3.jpg'></td><td><img src='DPhi Distance to Station 3 Weighted by Station 0 Ratios.jpg'></td></tr></table>"
      ],
      "text/plain": [
       "<IPython.core.display.HTML object>"
      ]
     },
     "metadata": {},
     "output_type": "display_data"
    },
    {
     "name": "stdout",
     "output_type": "stream",
     "text": [
      "\n",
      "\n",
      "\n",
      "\n",
      "                            ------------------------------------------------------------------------------- All Stations Weighted by Station 1 Ratios: -------------------------------------------------------------------------------\n",
      "\n",
      "\n",
      "\n",
      "\n"
     ]
    },
    {
     "data": {
      "text/html": [
       "<table><tr><td><img src='DPhi Distance to Station 0.jpg'></td><td><img src='DPhi Net Adjustment by Station 1 Ratios for Station 0.jpg'></td><td><img src='DPhi Distance to Station 0 Weighted by Station 1 Ratios.jpg'></td></tr></table>"
      ],
      "text/plain": [
       "<IPython.core.display.HTML object>"
      ]
     },
     "metadata": {},
     "output_type": "display_data"
    },
    {
     "data": {
      "text/html": [
       "<table><tr><td><img src='DPhi Distance to Station 1.jpg'></td><td><img src='DPhi Net Adjustment by Station 1 Ratios for Station 1.jpg'></td><td><img src='DPhi Distance to Station 1 Weighted by Station 1 Ratios.jpg'></td></tr></table>"
      ],
      "text/plain": [
       "<IPython.core.display.HTML object>"
      ]
     },
     "metadata": {},
     "output_type": "display_data"
    },
    {
     "data": {
      "text/html": [
       "<table><tr><td><img src='DPhi Distance to Station 2.jpg'></td><td><img src='DPhi Net Adjustment by Station 1 Ratios for Station 2.jpg'></td><td><img src='DPhi Distance to Station 2 Weighted by Station 1 Ratios.jpg'></td></tr></table>"
      ],
      "text/plain": [
       "<IPython.core.display.HTML object>"
      ]
     },
     "metadata": {},
     "output_type": "display_data"
    },
    {
     "data": {
      "text/html": [
       "<table><tr><td><img src='DPhi Distance to Station 3.jpg'></td><td><img src='DPhi Net Adjustment by Station 1 Ratios for Station 3.jpg'></td><td><img src='DPhi Distance to Station 3 Weighted by Station 1 Ratios.jpg'></td></tr></table>"
      ],
      "text/plain": [
       "<IPython.core.display.HTML object>"
      ]
     },
     "metadata": {},
     "output_type": "display_data"
    },
    {
     "name": "stdout",
     "output_type": "stream",
     "text": [
      "\n",
      "\n",
      "\n",
      "\n",
      "                            ------------------------------------------------------------------------------- All Stations Weighted by Station 2 Ratios: -------------------------------------------------------------------------------\n",
      "\n",
      "\n",
      "\n",
      "\n"
     ]
    },
    {
     "data": {
      "text/html": [
       "<table><tr><td><img src='DPhi Distance to Station 0.jpg'></td><td><img src='DPhi Net Adjustment by Station 2 Ratios for Station 0.jpg'></td><td><img src='DPhi Distance to Station 0 Weighted by Station 2 Ratios.jpg'></td></tr></table>"
      ],
      "text/plain": [
       "<IPython.core.display.HTML object>"
      ]
     },
     "metadata": {},
     "output_type": "display_data"
    },
    {
     "data": {
      "text/html": [
       "<table><tr><td><img src='DPhi Distance to Station 1.jpg'></td><td><img src='DPhi Net Adjustment by Station 2 Ratios for Station 1.jpg'></td><td><img src='DPhi Distance to Station 1 Weighted by Station 2 Ratios.jpg'></td></tr></table>"
      ],
      "text/plain": [
       "<IPython.core.display.HTML object>"
      ]
     },
     "metadata": {},
     "output_type": "display_data"
    },
    {
     "data": {
      "text/html": [
       "<table><tr><td><img src='DPhi Distance to Station 2.jpg'></td><td><img src='DPhi Net Adjustment by Station 2 Ratios for Station 2.jpg'></td><td><img src='DPhi Distance to Station 2 Weighted by Station 2 Ratios.jpg'></td></tr></table>"
      ],
      "text/plain": [
       "<IPython.core.display.HTML object>"
      ]
     },
     "metadata": {},
     "output_type": "display_data"
    },
    {
     "data": {
      "text/html": [
       "<table><tr><td><img src='DPhi Distance to Station 3.jpg'></td><td><img src='DPhi Net Adjustment by Station 2 Ratios for Station 3.jpg'></td><td><img src='DPhi Distance to Station 3 Weighted by Station 2 Ratios.jpg'></td></tr></table>"
      ],
      "text/plain": [
       "<IPython.core.display.HTML object>"
      ]
     },
     "metadata": {},
     "output_type": "display_data"
    },
    {
     "name": "stdout",
     "output_type": "stream",
     "text": [
      "\n",
      "\n",
      "\n",
      "\n",
      "                            ------------------------------------------------------------------------------- All Stations Weighted by Station 3 Ratios: -------------------------------------------------------------------------------\n",
      "\n",
      "\n",
      "\n",
      "\n"
     ]
    },
    {
     "data": {
      "text/html": [
       "<table><tr><td><img src='DPhi Distance to Station 0.jpg'></td><td><img src='DPhi Net Adjustment by Station 3 Ratios for Station 0.jpg'></td><td><img src='DPhi Distance to Station 0 Weighted by Station 3 Ratios.jpg'></td></tr></table>"
      ],
      "text/plain": [
       "<IPython.core.display.HTML object>"
      ]
     },
     "metadata": {},
     "output_type": "display_data"
    },
    {
     "data": {
      "text/html": [
       "<table><tr><td><img src='DPhi Distance to Station 1.jpg'></td><td><img src='DPhi Net Adjustment by Station 3 Ratios for Station 1.jpg'></td><td><img src='DPhi Distance to Station 1 Weighted by Station 3 Ratios.jpg'></td></tr></table>"
      ],
      "text/plain": [
       "<IPython.core.display.HTML object>"
      ]
     },
     "metadata": {},
     "output_type": "display_data"
    },
    {
     "data": {
      "text/html": [
       "<table><tr><td><img src='DPhi Distance to Station 2.jpg'></td><td><img src='DPhi Net Adjustment by Station 3 Ratios for Station 2.jpg'></td><td><img src='DPhi Distance to Station 2 Weighted by Station 3 Ratios.jpg'></td></tr></table>"
      ],
      "text/plain": [
       "<IPython.core.display.HTML object>"
      ]
     },
     "metadata": {},
     "output_type": "display_data"
    },
    {
     "data": {
      "text/html": [
       "<table><tr><td><img src='DPhi Distance to Station 3.jpg'></td><td><img src='DPhi Net Adjustment by Station 3 Ratios for Station 3.jpg'></td><td><img src='DPhi Distance to Station 3 Weighted by Station 3 Ratios.jpg'></td></tr></table>"
      ],
      "text/plain": [
       "<IPython.core.display.HTML object>"
      ]
     },
     "metadata": {},
     "output_type": "display_data"
    },
    {
     "name": "stdout",
     "output_type": "stream",
     "text": [
      "\n",
      "\n",
      "\n",
      "\n",
      "                            ------------------------------------------------------------------------------- All Stations Weighted by All Ratios: -------------------------------------------------------------------------------\n",
      "\n",
      "\n",
      "\n",
      "\n"
     ]
    },
    {
     "data": {
      "text/html": [
       "<table><tr><td><img src='DPhi Distance to Station 0.jpg'></td><td><img src='DPhi Net Adjustment by All Ratios for Station 0.jpg'></td><td><img src='DPhi Distance to Station 0 Weighted by All Ratios.jpg'></td></tr></table>"
      ],
      "text/plain": [
       "<IPython.core.display.HTML object>"
      ]
     },
     "metadata": {},
     "output_type": "display_data"
    },
    {
     "data": {
      "text/html": [
       "<table><tr><td><img src='DPhi Distance to Station 1.jpg'></td><td><img src='DPhi Net Adjustment by All Ratios for Station 1.jpg'></td><td><img src='DPhi Distance to Station 1 Weighted by All Ratios.jpg'></td></tr></table>"
      ],
      "text/plain": [
       "<IPython.core.display.HTML object>"
      ]
     },
     "metadata": {},
     "output_type": "display_data"
    },
    {
     "data": {
      "text/html": [
       "<table><tr><td><img src='DPhi Distance to Station 2.jpg'></td><td><img src='DPhi Net Adjustment by All Ratios for Station 2.jpg'></td><td><img src='DPhi Distance to Station 2 Weighted by All Ratios.jpg'></td></tr></table>"
      ],
      "text/plain": [
       "<IPython.core.display.HTML object>"
      ]
     },
     "metadata": {},
     "output_type": "display_data"
    },
    {
     "data": {
      "text/html": [
       "<table><tr><td><img src='DPhi Distance to Station 3.jpg'></td><td><img src='DPhi Net Adjustment by All Ratios for Station 3.jpg'></td><td><img src='DPhi Distance to Station 3 Weighted by All Ratios.jpg'></td></tr></table>"
      ],
      "text/plain": [
       "<IPython.core.display.HTML object>"
      ]
     },
     "metadata": {},
     "output_type": "display_data"
    }
   ],
   "source": [
    "compile_hist('DPhi', 0, 0.35)\n",
    "plot_hist('DPhi')"
   ]
  },
  {
   "cell_type": "code",
   "execution_count": 4,
   "id": "1d7fef04-895f-4f85-8bbd-92c5d60daa61",
   "metadata": {},
   "outputs": [
    {
     "name": "stdout",
     "output_type": "stream",
     "text": [
      "done\n",
      "done\n",
      "done\n",
      "\n",
      "\n",
      "\n",
      "\n",
      "                            ------------------------------------------------------------------------------- All Stations Weighted by Station 0 Ratios: -------------------------------------------------------------------------------\n",
      "\n",
      "\n",
      "\n",
      "\n"
     ]
    },
    {
     "data": {
      "text/html": [
       "<table><tr><td><img src='DEta Distance to Station 0.jpg'></td><td><img src='DEta Net Adjustment by Station 0 Ratios for Station 0.jpg'></td><td><img src='DEta Distance to Station 0 Weighted by Station 0 Ratios.jpg'></td></tr></table>"
      ],
      "text/plain": [
       "<IPython.core.display.HTML object>"
      ]
     },
     "metadata": {},
     "output_type": "display_data"
    },
    {
     "data": {
      "text/html": [
       "<table><tr><td><img src='DEta Distance to Station 1.jpg'></td><td><img src='DEta Net Adjustment by Station 0 Ratios for Station 1.jpg'></td><td><img src='DEta Distance to Station 1 Weighted by Station 0 Ratios.jpg'></td></tr></table>"
      ],
      "text/plain": [
       "<IPython.core.display.HTML object>"
      ]
     },
     "metadata": {},
     "output_type": "display_data"
    },
    {
     "data": {
      "text/html": [
       "<table><tr><td><img src='DEta Distance to Station 2.jpg'></td><td><img src='DEta Net Adjustment by Station 0 Ratios for Station 2.jpg'></td><td><img src='DEta Distance to Station 2 Weighted by Station 0 Ratios.jpg'></td></tr></table>"
      ],
      "text/plain": [
       "<IPython.core.display.HTML object>"
      ]
     },
     "metadata": {},
     "output_type": "display_data"
    },
    {
     "data": {
      "text/html": [
       "<table><tr><td><img src='DEta Distance to Station 3.jpg'></td><td><img src='DEta Net Adjustment by Station 0 Ratios for Station 3.jpg'></td><td><img src='DEta Distance to Station 3 Weighted by Station 0 Ratios.jpg'></td></tr></table>"
      ],
      "text/plain": [
       "<IPython.core.display.HTML object>"
      ]
     },
     "metadata": {},
     "output_type": "display_data"
    },
    {
     "name": "stdout",
     "output_type": "stream",
     "text": [
      "\n",
      "\n",
      "\n",
      "\n",
      "                            ------------------------------------------------------------------------------- All Stations Weighted by Station 1 Ratios: -------------------------------------------------------------------------------\n",
      "\n",
      "\n",
      "\n",
      "\n"
     ]
    },
    {
     "data": {
      "text/html": [
       "<table><tr><td><img src='DEta Distance to Station 0.jpg'></td><td><img src='DEta Net Adjustment by Station 1 Ratios for Station 0.jpg'></td><td><img src='DEta Distance to Station 0 Weighted by Station 1 Ratios.jpg'></td></tr></table>"
      ],
      "text/plain": [
       "<IPython.core.display.HTML object>"
      ]
     },
     "metadata": {},
     "output_type": "display_data"
    },
    {
     "data": {
      "text/html": [
       "<table><tr><td><img src='DEta Distance to Station 1.jpg'></td><td><img src='DEta Net Adjustment by Station 1 Ratios for Station 1.jpg'></td><td><img src='DEta Distance to Station 1 Weighted by Station 1 Ratios.jpg'></td></tr></table>"
      ],
      "text/plain": [
       "<IPython.core.display.HTML object>"
      ]
     },
     "metadata": {},
     "output_type": "display_data"
    },
    {
     "data": {
      "text/html": [
       "<table><tr><td><img src='DEta Distance to Station 2.jpg'></td><td><img src='DEta Net Adjustment by Station 1 Ratios for Station 2.jpg'></td><td><img src='DEta Distance to Station 2 Weighted by Station 1 Ratios.jpg'></td></tr></table>"
      ],
      "text/plain": [
       "<IPython.core.display.HTML object>"
      ]
     },
     "metadata": {},
     "output_type": "display_data"
    },
    {
     "data": {
      "text/html": [
       "<table><tr><td><img src='DEta Distance to Station 3.jpg'></td><td><img src='DEta Net Adjustment by Station 1 Ratios for Station 3.jpg'></td><td><img src='DEta Distance to Station 3 Weighted by Station 1 Ratios.jpg'></td></tr></table>"
      ],
      "text/plain": [
       "<IPython.core.display.HTML object>"
      ]
     },
     "metadata": {},
     "output_type": "display_data"
    },
    {
     "name": "stdout",
     "output_type": "stream",
     "text": [
      "\n",
      "\n",
      "\n",
      "\n",
      "                            ------------------------------------------------------------------------------- All Stations Weighted by Station 2 Ratios: -------------------------------------------------------------------------------\n",
      "\n",
      "\n",
      "\n",
      "\n"
     ]
    },
    {
     "data": {
      "text/html": [
       "<table><tr><td><img src='DEta Distance to Station 0.jpg'></td><td><img src='DEta Net Adjustment by Station 2 Ratios for Station 0.jpg'></td><td><img src='DEta Distance to Station 0 Weighted by Station 2 Ratios.jpg'></td></tr></table>"
      ],
      "text/plain": [
       "<IPython.core.display.HTML object>"
      ]
     },
     "metadata": {},
     "output_type": "display_data"
    },
    {
     "data": {
      "text/html": [
       "<table><tr><td><img src='DEta Distance to Station 1.jpg'></td><td><img src='DEta Net Adjustment by Station 2 Ratios for Station 1.jpg'></td><td><img src='DEta Distance to Station 1 Weighted by Station 2 Ratios.jpg'></td></tr></table>"
      ],
      "text/plain": [
       "<IPython.core.display.HTML object>"
      ]
     },
     "metadata": {},
     "output_type": "display_data"
    },
    {
     "data": {
      "text/html": [
       "<table><tr><td><img src='DEta Distance to Station 2.jpg'></td><td><img src='DEta Net Adjustment by Station 2 Ratios for Station 2.jpg'></td><td><img src='DEta Distance to Station 2 Weighted by Station 2 Ratios.jpg'></td></tr></table>"
      ],
      "text/plain": [
       "<IPython.core.display.HTML object>"
      ]
     },
     "metadata": {},
     "output_type": "display_data"
    },
    {
     "data": {
      "text/html": [
       "<table><tr><td><img src='DEta Distance to Station 3.jpg'></td><td><img src='DEta Net Adjustment by Station 2 Ratios for Station 3.jpg'></td><td><img src='DEta Distance to Station 3 Weighted by Station 2 Ratios.jpg'></td></tr></table>"
      ],
      "text/plain": [
       "<IPython.core.display.HTML object>"
      ]
     },
     "metadata": {},
     "output_type": "display_data"
    },
    {
     "name": "stdout",
     "output_type": "stream",
     "text": [
      "\n",
      "\n",
      "\n",
      "\n",
      "                            ------------------------------------------------------------------------------- All Stations Weighted by Station 3 Ratios: -------------------------------------------------------------------------------\n",
      "\n",
      "\n",
      "\n",
      "\n"
     ]
    },
    {
     "data": {
      "text/html": [
       "<table><tr><td><img src='DEta Distance to Station 0.jpg'></td><td><img src='DEta Net Adjustment by Station 3 Ratios for Station 0.jpg'></td><td><img src='DEta Distance to Station 0 Weighted by Station 3 Ratios.jpg'></td></tr></table>"
      ],
      "text/plain": [
       "<IPython.core.display.HTML object>"
      ]
     },
     "metadata": {},
     "output_type": "display_data"
    },
    {
     "data": {
      "text/html": [
       "<table><tr><td><img src='DEta Distance to Station 1.jpg'></td><td><img src='DEta Net Adjustment by Station 3 Ratios for Station 1.jpg'></td><td><img src='DEta Distance to Station 1 Weighted by Station 3 Ratios.jpg'></td></tr></table>"
      ],
      "text/plain": [
       "<IPython.core.display.HTML object>"
      ]
     },
     "metadata": {},
     "output_type": "display_data"
    },
    {
     "data": {
      "text/html": [
       "<table><tr><td><img src='DEta Distance to Station 2.jpg'></td><td><img src='DEta Net Adjustment by Station 3 Ratios for Station 2.jpg'></td><td><img src='DEta Distance to Station 2 Weighted by Station 3 Ratios.jpg'></td></tr></table>"
      ],
      "text/plain": [
       "<IPython.core.display.HTML object>"
      ]
     },
     "metadata": {},
     "output_type": "display_data"
    },
    {
     "data": {
      "text/html": [
       "<table><tr><td><img src='DEta Distance to Station 3.jpg'></td><td><img src='DEta Net Adjustment by Station 3 Ratios for Station 3.jpg'></td><td><img src='DEta Distance to Station 3 Weighted by Station 3 Ratios.jpg'></td></tr></table>"
      ],
      "text/plain": [
       "<IPython.core.display.HTML object>"
      ]
     },
     "metadata": {},
     "output_type": "display_data"
    },
    {
     "name": "stdout",
     "output_type": "stream",
     "text": [
      "\n",
      "\n",
      "\n",
      "\n",
      "                            ------------------------------------------------------------------------------- All Stations Weighted by All Ratios: -------------------------------------------------------------------------------\n",
      "\n",
      "\n",
      "\n",
      "\n"
     ]
    },
    {
     "data": {
      "text/html": [
       "<table><tr><td><img src='DEta Distance to Station 0.jpg'></td><td><img src='DEta Net Adjustment by All Ratios for Station 0.jpg'></td><td><img src='DEta Distance to Station 0 Weighted by All Ratios.jpg'></td></tr></table>"
      ],
      "text/plain": [
       "<IPython.core.display.HTML object>"
      ]
     },
     "metadata": {},
     "output_type": "display_data"
    },
    {
     "data": {
      "text/html": [
       "<table><tr><td><img src='DEta Distance to Station 1.jpg'></td><td><img src='DEta Net Adjustment by All Ratios for Station 1.jpg'></td><td><img src='DEta Distance to Station 1 Weighted by All Ratios.jpg'></td></tr></table>"
      ],
      "text/plain": [
       "<IPython.core.display.HTML object>"
      ]
     },
     "metadata": {},
     "output_type": "display_data"
    },
    {
     "data": {
      "text/html": [
       "<table><tr><td><img src='DEta Distance to Station 2.jpg'></td><td><img src='DEta Net Adjustment by All Ratios for Station 2.jpg'></td><td><img src='DEta Distance to Station 2 Weighted by All Ratios.jpg'></td></tr></table>"
      ],
      "text/plain": [
       "<IPython.core.display.HTML object>"
      ]
     },
     "metadata": {},
     "output_type": "display_data"
    },
    {
     "data": {
      "text/html": [
       "<table><tr><td><img src='DEta Distance to Station 3.jpg'></td><td><img src='DEta Net Adjustment by All Ratios for Station 3.jpg'></td><td><img src='DEta Distance to Station 3 Weighted by All Ratios.jpg'></td></tr></table>"
      ],
      "text/plain": [
       "<IPython.core.display.HTML object>"
      ]
     },
     "metadata": {},
     "output_type": "display_data"
    }
   ],
   "source": [
    "compile_hist('DEta', 0, 0.35)\n",
    "plot_hist('DEta')"
   ]
  }
 ],
 "metadata": {
  "kernelspec": {
   "display_name": "Python 3 (ipykernel)",
   "language": "python",
   "name": "python3"
  },
  "language_info": {
   "codemirror_mode": {
    "name": "ipython",
    "version": 3
   },
   "file_extension": ".py",
   "mimetype": "text/x-python",
   "name": "python",
   "nbconvert_exporter": "python",
   "pygments_lexer": "ipython3",
   "version": "3.11.2"
  }
 },
 "nbformat": 4,
 "nbformat_minor": 5
}
