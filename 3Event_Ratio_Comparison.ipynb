{
 "cells": [
  {
   "cell_type": "code",
   "execution_count": 1,
   "id": "a73f1986-23e9-4ffd-968e-54584511702c",
   "metadata": {
    "scrolled": true
   },
   "outputs": [
    {
     "name": "stdout",
     "output_type": "stream",
     "text": [
      "init uproot\n"
     ]
    },
    {
     "data": {
      "text/plain": [
       "['pt',\n",
       " 'eta',\n",
       " 'phi',\n",
       " 'staDR',\n",
       " 'staPhi',\n",
       " 'staE',\n",
       " 'standaloneDEoverE',\n",
       " 'staChi',\n",
       " 'cscDR',\n",
       " 'probeCharge',\n",
       " 'ecalIso',\n",
       " 'cellEdgeDeta',\n",
       " 'cellEdgeDphi',\n",
       " 'PUupWeight',\n",
       " 'PUdownWeight',\n",
       " 'IDupWeight',\n",
       " 'IDdownWeight',\n",
       " 'ISOupWeight',\n",
       " 'ISOdownWeight',\n",
       " 'TrigUpWeight',\n",
       " 'TrigDownWeight',\n",
       " 'EnBinWeight',\n",
       " 'lumi',\n",
       " 'event',\n",
       " 'cscDRbyStation_0',\n",
       " 'dtDRbyStation_0',\n",
       " 'cscDEtabyStation_0',\n",
       " 'dtDEtabyStation_0',\n",
       " 'cscDPhibyStation_0',\n",
       " 'dtDPhibyStation_0',\n",
       " 'cscDZbyStation_0',\n",
       " 'dtDZbyStation_0',\n",
       " 'cscDRbyStation_1',\n",
       " 'dtDRbyStation_1',\n",
       " 'cscDEtabyStation_1',\n",
       " 'dtDEtabyStation_1',\n",
       " 'cscDPhibyStation_1',\n",
       " 'dtDPhibyStation_1',\n",
       " 'cscDZbyStation_1',\n",
       " 'dtDZbyStation_1',\n",
       " 'cscDRbyStation_2',\n",
       " 'dtDRbyStation_2',\n",
       " 'cscDEtabyStation_2',\n",
       " 'dtDEtabyStation_2',\n",
       " 'cscDPhibyStation_2',\n",
       " 'dtDPhibyStation_2',\n",
       " 'cscDZbyStation_2',\n",
       " 'dtDZbyStation_2',\n",
       " 'cscDRbyStation_3',\n",
       " 'dtDRbyStation_3',\n",
       " 'cscDEtabyStation_3',\n",
       " 'dtDEtabyStation_3',\n",
       " 'cscDPhibyStation_3',\n",
       " 'dtDPhibyStation_3',\n",
       " 'cscDZbyStation_3',\n",
       " 'dtDZbyStation_3',\n",
       " 'HEDepth_0',\n",
       " 'found_HEDepth_0',\n",
       " 'HEDepth_1',\n",
       " 'found_HEDepth_1',\n",
       " 'HEDepth_2',\n",
       " 'found_HEDepth_2',\n",
       " 'HEDepth_3',\n",
       " 'found_HEDepth_3',\n",
       " 'HEDepth_4',\n",
       " 'found_HEDepth_4',\n",
       " 'HEDepth_5',\n",
       " 'found_HEDepth_5',\n",
       " 'HEDepth_6',\n",
       " 'found_HEDepth_6',\n",
       " 'EventWeight']"
      ]
     },
     "execution_count": 1,
     "metadata": {},
     "output_type": "execute_result"
    }
   ],
   "source": [
    "#UNADJUSTED, ADJUSTED, AND ALL RATIOS MUST BE PLOTTED IN ORDER\n",
    "\n",
    "import uproot\n",
    "import awkward as ak\n",
    "import numpy as np\n",
    "import pandas as pd\n",
    "import math\n",
    "import matplotlib.pyplot as plt\n",
    "import matplotlib.gridspec as gridspec\n",
    "import matplotlib.ticker as ticker\n",
    "from matplotlib.ticker import FormatStrFormatter\n",
    "from IPython.display import Image, display\n",
    "from IPython.display import HTML\n",
    "import threading\n",
    "\n",
    "np.seterr(divide='ignore', invalid='ignore') # Ignore division errors\n",
    "\n",
    "# Use pandas to make an array of values ordered by event ID\n",
    "features=['EventWeight', 'phi', 'eta', 'probeCharge']\n",
    "for i in range(4):\n",
    "    features.append('dtDRbyStation_'+str(i))\n",
    "    features.append('dtDPhibyStation_'+str(i))\n",
    "    features.append('dtDEtabyStation_'+str(i))\n",
    "\n",
    "class Type:\n",
    "    def __init__(self, name, features):\n",
    "        self.name = name\n",
    "        self.sameSignFile = uproot.open('highHcal_'+str(name)+'_tagAligned (2).root')\n",
    "        self.sameSignEvents = self.sameSignFile['demo']['allEvents']['sigVariables']\n",
    "        self.branches = self.sameSignEvents.arrays()\n",
    "        self.EventWeight = self.branches['EventWeight']\n",
    "        self.eta = self.branches['eta']\n",
    "        self.phi = self.branches['phi']\n",
    "\n",
    "        self.Events = self.sameSignEvents.arrays(features, library='pd')\n",
    "        \n",
    "        \n",
    "        self.DR_S = []\n",
    "        self.DPhi_S = []\n",
    "        self.DEta_S = []\n",
    "\n",
    "        for i in range (4):\n",
    "            self.DR_S.append(self.branches['dtDRbyStation_' + str(i)])\n",
    "            self.DPhi_S.append(self.branches['dtDPhibyStation_' + str(i)])\n",
    "            self.DEta_S.append(self.branches['dtDEtabyStation_' + str(i)])\n",
    "\n",
    "        self.proximity_mask = []\n",
    "\n",
    "Data = Type('data', features)\n",
    "MC = Type('mc', features)\n",
    "\n",
    "print('init uproot')\n",
    "\n",
    "#Data.sameSignFile.keys()\n",
    "#Data.sameSignEvents\n",
    "Data.sameSignEvents.keys()\n",
    "#Data.branches['pt']"
   ]
  },
  {
   "cell_type": "code",
   "execution_count": 2,
   "id": "241769f1-e2ab-4f61-b4b7-d3fe1d4e3b3b",
   "metadata": {},
   "outputs": [
    {
     "name": "stdout",
     "output_type": "stream",
     "text": [
      "Re-Binned points\n",
      "MC init DR_Bin_Station_0\n",
      "MC init DPhi_Bin_Station_0\n",
      "MC init DEta_Bin_Station_0\n",
      "MC init DR_Bin_Station_1\n",
      "MC init DPhi_Bin_Station_1\n",
      "MC init DEta_Bin_Station_1\n",
      "MC init DR_Bin_Station_2\n",
      "MC init DPhi_Bin_Station_2\n",
      "MC init DEta_Bin_Station_2\n",
      "MC init DR_Bin_Station_3\n",
      "MC init DPhi_Bin_Station_3\n",
      "MC init DEta_Bin_Station_3\n",
      "Data init DR_Bin_Station_3\n",
      "Data init DR_Bin_Station_1\n",
      "Data init DR_Bin_Station_2\n",
      "Data init DR_Bin_Station_0\n",
      "Data init DPhi_Bin_Station_3\n",
      "Data init DPhi_Bin_Station_1\n",
      "Data init DPhi_Bin_Station_2\n",
      "Data init DPhi_Bin_Station_0\n",
      "Data init DEta_Bin_Station_3\n",
      "Data init DEta_Bin_Station_1\n",
      "Data init DEta_Bin_Station_2\n",
      "Data init DEta_Bin_Station_0\n",
      "init dataframe\n",
      "init classes\n"
     ]
    }
   ],
   "source": [
    "#Coord refers to DR, DPhi, or DEta\n",
    "class Coord:\n",
    "    def __init__(self,name,x1,x2,bins):\n",
    "        self.name = name\n",
    "        self.x1 = x1\n",
    "        self.x2 = x2\n",
    "        self.bins = np.linspace(x1, x2, bins+1)  # creates an array of bin edges\n",
    "        self.bin_width = (x2 - x1) / bins\n",
    "\n",
    "DR = Coord('DR',-1,0.3,300)     # set delta coord edges/bin\n",
    "DPhi = Coord('DPhi',-3,3,200)   # set delta coord edges/bin\n",
    "DEta = Coord('DEta',-3,3,150)   # set delta coord edges/bin\n",
    "\n",
    "mc_eta_mask = abs(MC.Events['eta']) <= 0.85\n",
    "data_eta_mask = abs(Data.Events['eta']) <= 0.85\n",
    "\n",
    "MC.Events = MC.Events.loc[mc_eta_mask]\n",
    "Data.Events = Data.Events.loc[data_eta_mask]\n",
    "\n",
    "mc_pos_charge_mask = MC.Events['probeCharge'] > 0\n",
    "mc_neg_charge_mask = MC.Events['probeCharge'] < 0\n",
    "data_pos_charge_mask = Data.Events['probeCharge'] > 0\n",
    "data_neg_charge_mask = Data.Events['probeCharge'] < 0\n",
    "\n",
    "# Re-bin all points above 0.3 to -1\n",
    "for i in range(4):\n",
    "    MC.Events['dtDRbyStation_'+str(i)] = MC.Events['dtDRbyStation_'+str(i)].apply(lambda x: -1 if x > DR.x2 else x)\n",
    "    Data.Events['dtDRbyStation_'+str(i)] = Data.Events['dtDRbyStation_'+str(i)].apply(lambda x: -1 if x > DR.x2 else x)\n",
    "    MC.DR_S[i] = ak.Array(MC.Events['dtDRbyStation_'+str(i)])\n",
    "    Data.DR_S[i] = ak.Array(Data.Events['dtDRbyStation_'+str(i)])\n",
    "    \n",
    "    MC.Events['dtDPhibyStation_'+str(i)] = MC.Events['dtDPhibyStation_'+str(i)].apply(lambda x: -1 if abs(x) > DPhi.x2 else x) \n",
    "    Data.Events['dtDPhibyStation_'+str(i)] = Data.Events['dtDPhibyStation_'+str(i)].apply(lambda x: -1 if abs(x) > DPhi.x2 else x) \n",
    "    MC.DPhi_S[i] = ak.Array(MC.Events['dtDPhibyStation_'+str(i)])\n",
    "    Data.DPhi_S[i] = ak.Array(Data.Events['dtDPhibyStation_'+str(i)])\n",
    "    \n",
    "    MC.Events['dtDEtabyStation_'+str(i)] = MC.Events['dtDEtabyStation_'+str(i)].apply(lambda x: -1 if abs(x) > DEta.x2 else x) \n",
    "    Data.Events['dtEtabyStation_'+str(i)] = Data.Events['dtDEtabyStation_'+str(i)].apply(lambda x: -1 if abs(x) > DEta.x2 else x) \n",
    "    MC.DEta_S[i] = ak.Array(MC.Events['dtDEtabyStation_'+str(i)]) \n",
    "    Data.DEta_S[i] = ak.Array(Data.Events['dtDEtabyStation_'+str(i)])\n",
    "\n",
    "print('Re-Binned points')\n",
    "\n",
    "#---------------------------------------------------------------------------------------------------------------------------------------\n",
    "\n",
    "Coordinates = [DR, DPhi, DEta]\n",
    "for i in range(4):\n",
    "    for coord in Coordinates:\n",
    "        bin_indices = np.zeros_like(MC.DR_S[i].to_numpy())                      # Array for storing bin indices\n",
    "        for j, deltaCoord in enumerate(MC.DR_S[i]):                             # [(0, delta_R), (1, delta_R) ...] <--- list(enumerate(\")) should give this\n",
    "            bin_indices[j] = np.digitize(deltaCoord, coord.bins) - 1            # returns bin index for each delta coord\n",
    "            MC.Events[str(coord.name)+'_Bin_Station_'+str(i)] = bin_indices      # Add new column with bin indices\n",
    "        print('MC init '+str(coord.name)+'_Bin_Station_'+str(i))\n",
    "        \n",
    "def init_data(i):\n",
    "    for coord in Coordinates:\n",
    "        bin_indices = np.zeros_like(Data.DR_S[i].to_numpy())                      # Array for storing bin indices\n",
    "        for j, deltaCoord in enumerate(Data.DR_S[i]):                             # [(0, delta_R), (1, delta_R) ...] <--- list(enumerate(\")) should give this\n",
    "            bin_indices[j] = np.digitize(deltaCoord, coord.bins) - 1            # returns bin index for each delta coord\n",
    "            Data.Events[str(coord.name)+'_Bin_Station_'+str(i)] = bin_indices      # Add new column with bin indices      \n",
    "        print('Data init '+str(coord.name)+'_Bin_Station_'+str(i))\n",
    "    #print(mcEvents[:5])\n",
    "    \n",
    "t = []\n",
    "if __name__ ==\"__main__\": ########################################### if your computer is having a stroke its bc of the multithreading, just match init_data code to the MC code block above #######################################################\n",
    "    for i in range(4):\n",
    "        t.append(threading.Thread(target=init_data, args=(i,)))\n",
    "    for i in range(4):\n",
    "        t[i].start()\n",
    "    for i in range(4):\n",
    "        t[i].join()\n",
    "\n",
    "print('init dataframe')\n",
    "\n",
    "# Initialize class to help calculate normalized histograms for any data set\n",
    "class NormalizedHist:\n",
    "    def __init__(self, data, view_bins, bin_width):\n",
    "        self.data = data[0]\n",
    "        self.view_bins = view_bins\n",
    "        self.bin_width = bin_width\n",
    "        self.norm_factor = 1 / (np.sum(self.data) * self.bin_width)              # normalization factor\n",
    "        self.temp = (data[1] + self.bin_width / 2)                               # offset bin edge values by + 1/2 bin\n",
    "        self.bin_centers = self.temp[:-1]                                        # cut last value to give bin center\n",
    "        self.freq = self.data * self.norm_factor                                 # normalized frequency\n",
    "        self.err = (self.data ** 0.5) * self.norm_factor                         # normalized vertical error bar\n",
    "\n",
    "print('init classes')"
   ]
  },
  {
   "cell_type": "code",
   "execution_count": 3,
   "id": "dff47424-45f1-4aa4-9c1a-aeb2d836cfcf",
   "metadata": {},
   "outputs": [
    {
     "name": "stdout",
     "output_type": "stream",
     "text": [
      "init generate_hist\n",
      "init compile_hist\n",
      "init plot_hist\n",
      "initialized\n"
     ]
    }
   ],
   "source": [
    "# Method for plotting histograms\n",
    "def generate_hist(condition, coord, charge, x1, x2, i, j, data):\n",
    "\n",
    "    charge_ = '' \n",
    "    charge_ = '(+) ' if charge == '+' else charge_\n",
    "    charge_ = '(-) ' if charge == '-' else charge_\n",
    "\n",
    "    if i == 0 and condition == 'unadjusted':\n",
    "\n",
    "        ratio_Station, ratio_Iter = data\n",
    "        \n",
    "        if charge == '':\n",
    "            dataEvents = Data.Events.copy()\n",
    "            mcEvents = MC.Events.copy()\n",
    "        elif charge == '+':\n",
    "            dataEvents = Data.Events.loc[data_pos_charge_mask].copy()\n",
    "            mcEvents = MC.Events.loc[mc_pos_charge_mask].copy()\n",
    "        elif charge == '-':\n",
    "            dataEvents = Data.Events.loc[data_neg_charge_mask].copy()\n",
    "            mcEvents = MC.Events.loc[mc_neg_charge_mask].copy()\n",
    "    else:\n",
    "        ratio_Station, ratio_Iter, dataEvents, mcEvents = data\n",
    "\n",
    "    Data.DR_S[i] = ak.Array(dataEvents['dtDRbyStation_'+str(i)])\n",
    "    MC.DR_S[i] = ak.Array(mcEvents['dtDRbyStation_'+str(i)])\n",
    "    Data.DPhi_S[i] = ak.Array(dataEvents['dtDPhibyStation_'+str(i)])\n",
    "    MC.DPhi_S[i] = ak.Array(mcEvents['dtDPhibyStation_'+str(i)])\n",
    "    Data.DEta_S[i] = ak.Array(dataEvents['dtDEtabyStation_'+str(i)])\n",
    "    MC.DEta_S[i] = ak.Array(mcEvents['dtDEtabyStation_'+str(i)]) \n",
    "    MC.EventWeight = ak.Array(mcEvents['EventWeight'])\n",
    "    \n",
    "    if coord.name == 'DR':\n",
    "        station_Data = Data.DR_S[i]\n",
    "        station_MC = MC.DR_S[i]\n",
    "    elif coord.name == 'DPhi':\n",
    "        if charge == '':\n",
    "            station_Data = np.abs(Data.DPhi_S[i])\n",
    "            station_MC = np.abs(MC.DPhi_S[i])\n",
    "        else:\n",
    "            station_Data = Data.DPhi_S[i]\n",
    "            station_MC = MC.DPhi_S[i]\n",
    "    elif coord.name == 'DEta':\n",
    "        if charge == '':\n",
    "            station_Data = np.abs(Data.DEta_S[i])\n",
    "            station_MC = np.abs(MC.DEta_S[i]) \n",
    "        else: \n",
    "            station_Data = Data.DEta_S[i]\n",
    "            station_MC = MC.DEta_S[i] \n",
    "\n",
    "    if condition == 'unadjusted':\n",
    "        weights = MC.EventWeight\n",
    "    elif condition == 'adjusted':\n",
    "        weights = MC.EventWeight*mcEvents['Ratio_Station_'+str(j)].to_list()\n",
    "    elif condition == 'all ratios':\n",
    "        if i == 0:\n",
    "            mcEvents['All_Ratios'] = mcEvents['Ratio_Station_0']*mcEvents['Ratio_Station_1']*mcEvents['Ratio_Station_2']*mcEvents['Ratio_Station_3'] # by event\n",
    "        weights = MC.EventWeight*mcEvents['All_Ratios'].to_list()\n",
    "    elif condition == 'iterative':\n",
    "        if j == 0 and i == 0:\n",
    "            mcEvents['Ratio_Iter_0'] = mcEvents['Ratio_Station_0'].to_list()\n",
    "        weights = MC.EventWeight\n",
    "        for k in range(j+1):\n",
    "            weights = weights*mcEvents['Ratio_Iter_'+str(k)].to_list()\n",
    "\n",
    "    # Create numpy histogram data for Data & MC so ratio can be calculated by initializing each as NormalizedHist Class\n",
    "    data_hist = NormalizedHist(np.histogram(station_Data, bins=coord.bins, range=(coord.x1, coord.x2), density=None), len(coord.bins), coord.bin_width)\n",
    "    mc_hist = NormalizedHist(np.histogram(station_MC, bins=coord.bins, range=(coord.x1, coord.x2), density=None, weights=weights), len(coord.bins), coord.bin_width)\n",
    "        \n",
    "    if condition == 'adjusted' or condition == 'all ratios':\n",
    "        mc_hist_unadj = NormalizedHist(np.histogram(station_MC, bins=coord.bins, range=(coord.x1, coord.x2), density=None, weights=MC.EventWeight), len(coord.bins), coord.bin_width)\n",
    "        adj_factor = np.divide(mc_hist.freq, mc_hist_unadj.freq + 1e-10)\n",
    "    elif condition == 'iterative':\n",
    "        if j == 0:\n",
    "            mc_hist_unadj = NormalizedHist(np.histogram(station_MC, bins=coord.bins, range=(coord.x1, coord.x2), density=None, weights=MC.EventWeight), len(coord.bins), coord.bin_width)\n",
    "        else:\n",
    "            mc_hist_unadj = NormalizedHist(np.histogram(station_MC, bins=coord.bins, range=(coord.x1, coord.x2), density=None, weights=MC.EventWeight*mcEvents['Ratio_Iter_'+str(j-1)].to_list()), len(coord.bins), coord.bin_width)\n",
    "        adj_factor = np.divide(mc_hist.freq, mc_hist_unadj.freq + 1e-10)\n",
    "    \n",
    "    ratio_freq = np.divide(data_hist.freq, mc_hist.freq)\n",
    "    ratio_freq = [1 if (math.isinf(x) or math.isnan(x)) else x for x in ratio_freq] # goodify the infinities\n",
    "    ratio_err = ratio_freq * np.sqrt((data_hist.err / (data_hist.freq + 1e-10))**2 + (mc_hist.err / (mc_hist.freq + 1e-10))**2) \n",
    "    \n",
    "    # calculate ratio error -> propagation of uncertainty\n",
    "\n",
    "    if condition == 'unadjusted':\n",
    "        # Loop over events, assign bin ratio to each event\n",
    "        ratio_Station.append(np.zeros_like(station_MC.to_numpy()))             # create empty array similar to DCoord for station[j]\n",
    "        for k, deltaCoord in enumerate(station_MC.to_numpy()):                 # [(0, delta_R), (1, delta_R) ...] <--- list(enumerate(\")) should give this\n",
    "            bin_index = np.digitize(deltaCoord, coord.bins) - 1                # returns bin index for each delta coord\n",
    "            if bin_index >= len(ratio_freq):                                   # check if index is out of bound\n",
    "                bin_index = len(ratio_freq) - 1                                # assign the last valid index\n",
    "            ratio_Station[i][k] = ratio_freq[bin_index]                        # find item k in array and change it to the ratio_freq of that bin index    \n",
    "        assert len(station_MC) == len(ratio_Station[i])            # make sure length matches\n",
    "        mcEvents['Ratio_Station_'+str(i)] = ratio_Station[i]       # add new column\n",
    "        ######### print(mcEvents['Ratio_Station_'+str(i)])\n",
    "\n",
    "    if condition == 'iterative' and i-1 == j:                                  # take ratio freq between Station_i Data and MC adjusted by ratio from station (i-1) adjusted MC for \n",
    "        ratio_iter = ratio_freq                                                # recall that ratio_freq has already been iterated in this case\n",
    "        # Loop over events, assign bin ratio to each event\n",
    "        ratio_Iter.append(np.zeros_like(station_MC.to_numpy()))                # create empty array similar to DCoord for station[j]\n",
    "        for k, deltaCoord in enumerate(station_MC.to_numpy()):                 # [(0, delta_R), (1, delta_R) ...] <--- list(enumerate(\")) should give this\n",
    "            bin_index = np.digitize(deltaCoord, coord.bins) - 1                # returns bin index for each delta coord\n",
    "            if bin_index >= len(ratio_iter):                                   # check if index is out of bound\n",
    "                bin_index = len(ratio_iter) - 1                                # assign the last valid index\n",
    "            ratio_Iter[j][k] = ratio_iter[bin_index]                           # find item k in array and change it to the ratio_iter of that bin index\n",
    "    \n",
    "        assert len(station_MC) == len(ratio_Iter[j])            # make sure length matches\n",
    "        mcEvents['Ratio_Iter_'+str(i)] = ratio_Iter[j]          # add new column\n",
    "\n",
    "\n",
    "    #PLOT -  -  -  -  -  -  -  -  -  -  -  -  -  -  -  -  -  -  -  -  -  -  -  -  -  -  -  -  -  -  -  -  -  -  -  -  -  -  -  -  -  -  -  -  -  -  -  -  -  -  -  -\n",
    "\n",
    "    # Adjusting axs[0].step from bin edge to bin center results in loss of first bar because it is shifted 1/2 bin width; this adds that point back at 0\n",
    "    step_bc = mc_hist.bin_centers+coord.bin_width/2\n",
    "    step_f = mc_hist.freq\n",
    "    step_bc.to_numpy\n",
    "    step_f.to_numpy\n",
    "    step_bin_centers = np.insert(step_bc, 0, 0.0)\n",
    "    step_freq = np.insert(step_f, 0, mc_hist.freq[0])\n",
    "\n",
    "    # Set up histogram\n",
    "    fig = plt.figure(figsize=(7,5))\n",
    "    gs = gridspec.GridSpec(2, 2, height_ratios=[3, 1], width_ratios=[1, 19])\n",
    "\n",
    "    # Plot data as points, use bars for MC\n",
    "    ax0 = plt.subplot(gs[0, 1])\n",
    "    if condition == 'unadjusted':\n",
    "        ax0.set_title(charge_+'Distance to Station '+str(i))\n",
    "    elif condition == 'adjusted':\n",
    "        ax0.set_title(charge_+'Distance to Station '+str(i)+' Weighted by Station '+str(j)+' Ratios')\n",
    "    elif condition == 'all ratios':\n",
    "        ax0.set_title(charge_+'Distance to Station '+str(i)+' Weighted by All Ratios')\n",
    "    elif condition == 'iterative':\n",
    "        ax0.set_title(charge_+'Distance to Station '+str(i)+' Weighted by Iterative Ratios '+str(j))\n",
    "    ax0.set_yscale(\"log\")\n",
    "    ax0.set_xlim(x1, x2)\n",
    "    ax0.step(step_bin_centers, step_freq, label='Monte Carlo')\n",
    "    ax0.scatter(data_hist.bin_centers, data_hist.freq, s=10, color='darkorange', label='Data')\n",
    "    ax0.errorbar(data_hist.bin_centers, data_hist.freq, xerr=coord.bin_width/2, yerr=mc_hist.err, fmt='+')\n",
    "    plt.setp(ax0.get_xticklabels(), visible=False) # remove x ticks from top right\n",
    "    plt.setp(ax0.get_yticklabels(), visible=False) # remove y ticks from top right\n",
    "    ax0.legend()\n",
    "    # Show mean and std for MC\n",
    "    if charge == '' and (coord.name == 'DEta' or coord.name == 'DPhi') :\n",
    "        textstr = '\\n'.join((\n",
    "        r'$\\mathrm{MC \\ mean}=%.4f$' % (np.mean(station_MC[station_MC != 1]), ),\n",
    "        r'$\\mathrm{MC \\ }\\sigma=%.4f$' % (np.std(station_MC[station_MC != 1]), )))\n",
    "    else:\n",
    "        textstr = '\\n'.join((\n",
    "        r'$\\mathrm{MC \\ mean}=%.4f$' % (np.mean(station_MC[station_MC != -1]), ),\n",
    "        r'$\\mathrm{MC \\ }\\sigma=%.4f$' % (np.std(station_MC[station_MC != -1]), )))\n",
    "    props = dict(boxstyle='round', facecolor='white', alpha=0.5)\n",
    "    ax0.text(0.98, 0.78, textstr, transform=ax0.transAxes, fontsize=10,\n",
    "        verticalalignment='top', horizontalalignment='right', bbox=props) \n",
    "\n",
    "    \n",
    "    # Scatter ratio plot\n",
    "    ax1 = plt.subplot(gs[1, 1], sharex = ax0)\n",
    "    ax1.scatter(data_hist.bin_centers, ratio_freq, s=10)\n",
    "    ax1.errorbar(data_hist.bin_centers, ratio_freq, yerr=ratio_err, fmt='+')\n",
    "    ax1.set_ylim(0,2)\n",
    "    ax1.set_xlabel('$\\Delta$'+coord.name[1:]+' to Station '+str(i))\n",
    "    plt.setp(ax1.get_yticklabels(), visible=False) # remove y ticks from bottom right\n",
    "\n",
    "    # Plot underflow bins    \n",
    "    ax2 = plt.subplot(gs[0, 0], sharey=ax0)\n",
    "    ax2.step(step_bin_centers-coord.bin_width, step_freq, label='Monte Carlo')\n",
    "    ax2.scatter(data_hist.bin_centers, data_hist.freq, s=10, color='darkorange', label='Data')\n",
    "    ax2.errorbar(data_hist.bin_centers, data_hist.freq, xerr=coord.bin_width/2, yerr=mc_hist.err, fmt='+')\n",
    "    ax2.set_xlim(-1, -1+coord.bin_width)\n",
    "    ax2.set_ylabel('Event Frequency (Normalized)')\n",
    "    plt.setp(ax2.get_xticklabels(), visible=False) # remove x ticks from top left\n",
    "\n",
    "    # Plot underflow ratio\n",
    "    ax3 = plt.subplot(gs[1, 0], sharey=ax1, sharex=ax2)\n",
    "    ax3.scatter(data_hist.bin_centers, ratio_freq, s=10)\n",
    "    ax3.errorbar(data_hist.bin_centers, ratio_freq, yerr=ratio_err, fmt='+')\n",
    "    ax3.set_ylim(0,2)\n",
    "    ax3.set_ylabel('Ratio')\n",
    "    # Show only the first tick label for the bottom left subplot as integer\n",
    "    xticks = ax3.xaxis.get_major_ticks()\n",
    "    plt.setp(ax3.get_xticklabels(), visible=False)\n",
    "    xticks[0].label1.set_visible(True)\n",
    "    ax3.xaxis.set_major_formatter(FormatStrFormatter('%.0f'))\n",
    "    ax3.tick_params(axis='x', length=0)\n",
    "\n",
    "    # Remove vertical gap between subplots\n",
    "    plt.subplots_adjust(wspace=0.0, hspace=0.0)\n",
    "\n",
    "    # Save plots as .jpg\n",
    "    if condition == 'unadjusted':\n",
    "        plt.savefig(charge_+coord.name+' Distance to Station '+str(i)+'.jpg')\n",
    "    elif condition == 'adjusted':\n",
    "        plt.savefig(charge_+coord.name+' Distance to Station '+str(i)+' Weighted by Station '+str(j)+' Ratios.jpg')\n",
    "    elif condition == 'all ratios':\n",
    "        plt.savefig(charge_+coord.name+' Distance to Station '+str(i)+' Weighted by All Ratios.jpg')\n",
    "    elif condition == 'iterative':\n",
    "        plt.savefig(charge_+coord.name+' Distance to Station '+str(i)+' Weighted by Iterative Ratios '+str(j)+'.jpg')\n",
    "    plt.close() # prevents figure from being displayed when code cell is executed\n",
    "\n",
    "    # Plot ratios\n",
    "    if condition != 'unadjusted':\n",
    "        fig, axs = plt.subplots(1, 2, sharey=True, gridspec_kw={'wspace': 0, 'width_ratios': [1, 19]}, figsize=(7, 5))\n",
    "        axs[0].scatter(data_hist.bin_centers, adj_factor)\n",
    "        axs[0].set_xlim(-1,-1+coord.bin_width)\n",
    "        axs[1].scatter(data_hist.bin_centers, adj_factor)\n",
    "        axs[1].set_xlim(0,x2)\n",
    "        plt.xlabel('$\\Delta$'+coord.name[1:]+' to Station '+str(j))\n",
    "        axs[0].set_ylabel('Adjustment Factor')\n",
    "        # Show only the first tick label for the left subplot as integer\n",
    "        xticks = axs[0].xaxis.get_major_ticks()\n",
    "        plt.setp(axs[0].get_xticklabels(), visible=False)\n",
    "        xticks[0].label1.set_visible(True)\n",
    "        axs[0].xaxis.set_major_formatter(FormatStrFormatter('%.0f'))\n",
    "        axs[0].tick_params(axis='x', length=0)\n",
    "        if condition == 'adjusted':\n",
    "            plt.title(charge_+'Net Adjustment by Station '+str(j)+' Ratios for Station '+str(i))\n",
    "            plt.savefig(charge_+coord.name+' Net Adjustment by Station '+str(j)+' Ratios for Station '+str(i)+'.jpg')\n",
    "        elif condition == 'all ratios':\n",
    "            plt.title(charge_+'Net Adjustment by All Ratios for Station '+str(i))\n",
    "            plt.savefig(charge_+coord.name+' Net Adjustment by All Ratios for Station '+str(i)+'.jpg')\n",
    "        elif condition == 'iterative':\n",
    "            plt.title(charge_+'Net Adjustment by Iterative Ratios '+str(j)+' for Station '+str(i))\n",
    "            plt.savefig(charge_+coord.name+' Net Adjustment by Iterative Ratios '+str(j)+' for Station '+str(i)+'.jpg')\n",
    "        plt.close()\n",
    "\n",
    "    return ratio_Station, ratio_Iter, dataEvents, mcEvents\n",
    "\n",
    "print('init generate_hist')\n",
    "# - - - - - - - - - - - - - - - - - - - - - - - - - - - - - - - - - - - - - - - - - - -\n",
    "    \n",
    "def compile_hist(coord, charge, x1, x2):\n",
    "    ratio_Station = []\n",
    "    ratio_Iter = []\n",
    "    data = ratio_Station, ratio_Iter\n",
    "    for i in range (4):\n",
    "        data = generate_hist(condition='unadjusted', coord=coord, charge=charge, x1=x1, x2=x2, i=i, j=0, data=data)\n",
    "    print('compiled unadjusted')\n",
    "\n",
    "    for j in range (4):                          #j iterates through station weights\n",
    "        for i in range (4):                      #i iterates through stations\n",
    "            data = generate_hist(condition='adjusted', coord=coord, charge=charge, x1=x1, x2=x2, i=i, j=j, data=data)\n",
    "    print('compiled adjusted')\n",
    "\n",
    "    for i in range (4):                    \n",
    "        data = generate_hist(condition='all ratios', coord=coord, charge=charge, x1=x1, x2=x2, i=i, j=0, data=data)\n",
    "    print('compiled all ratios')\n",
    "\n",
    "    for j in range (4):                          \n",
    "        for i in range (4):                      \n",
    "            data = generate_hist(condition='iterative', coord=coord, charge=charge, x1=x1, x2=x2, i=i, j=j, data=data)\n",
    "    print('compiled iterative')\n",
    "\n",
    "    return data\n",
    "\n",
    "print('init compile_hist')\n",
    "\n",
    "# - - - - - - - - - - - - - - - - - - - - - - - - - - - - - - - - - - - - - - - - - - -\n",
    "\n",
    "def plot_hist(coord, charge):\n",
    "\n",
    "    charge_ = '' \n",
    "    charge_ = '(+) ' if charge == '+' else charge_\n",
    "    charge_ = '(-) ' if charge == '-' else charge_\n",
    "\n",
    "    for j in range(4):\n",
    "        for k in range(2):\n",
    "            print(\"\\n\") \n",
    "        print('                            ------------------------------------------------------------------------------- All Stations Weighted by Station '+str(j)+' Ratios: -------------------------------------------------------------------------------')\n",
    "        for k in range(2):\n",
    "            print(\"\\n\")\n",
    "        for i in range(4):\n",
    "            display(HTML(\"<table><tr><td><img src='\"+charge_+\"\"+coord.name+\" Distance to Station \"+str(i)+\".jpg'></td><td><img src='\"+charge_+\"\"+coord.name+\" Net Adjustment by Station \"+str(j)+\" Ratios for Station \"+str(i)+\".jpg'></td><td><img src='\"+charge_+\"\"+coord.name+\" Distance to Station \"+str(i)+\" Weighted by Station \"+str(j)+\" Ratios.jpg'></td></tr></table>\"))\n",
    "    \n",
    "    for k in range(2):\n",
    "        print(\"\\n\") \n",
    "    print('                            ------------------------------------------------------------------------------- All Stations Weighted by All Ratios: -------------------------------------------------------------------------------')\n",
    "    for k in range(2):\n",
    "        print(\"\\n\")\n",
    "    for i in range(4):\n",
    "        display(HTML(\"<table><tr><td><img src='\"+charge_+\"\"+coord.name+\" Distance to Station \"+str(i)+\".jpg'></td><td><img src='\"+charge_+\"\"+coord.name+\" Net Adjustment by All Ratios for Station \"+str(i)+\".jpg'></td><td><img src='\"+charge_+\"\"+coord.name+\" Distance to Station \"+str(i)+\" Weighted by All Ratios.jpg'></td></tr></table>\"))\n",
    "\n",
    "    for j in range(4):\n",
    "        for k in range(2):\n",
    "            print(\"\\n\") \n",
    "        print('                            ------------------------------------------------------------------------------- All Stations Weighted by Iterative Ratios '+str(j)+': -------------------------------------------------------------------------------')\n",
    "        for k in range(2):\n",
    "            print(\"\\n\")\n",
    "        for i in range(4):\n",
    "            display(HTML(\"<table><tr><td><img src='\"+charge_+\"\"+coord.name+\" Distance to Station \"+str(i)+\".jpg'></td><td><img src='\"+charge_+\"\"+coord.name+\" Net Adjustment by Iterative Ratios \"+str(j)+\" for Station \"+str(i)+\".jpg'></td><td><img src='\"+charge_+\"\"+coord.name+\" Distance to Station \"+str(i)+\" Weighted by Iterative Ratios \"+str(j)+\".jpg'></td></tr></table>\"))\n",
    "\n",
    "print('init plot_hist')\n",
    "\n",
    "print('initialized')\n",
    "\n",
    "def plot_charge_hist(coord):\n",
    "    for i in range(4):\n",
    "            display(HTML(\"<table><tr><td><img src='(+) \"+coord.name+\" Distance to Station \"+str(i)+\".jpg'></td><td><img src='(-) \"+coord.name+\" Distance to Station \"+str(i)+\".jpg'></td></tr></table>\"))"
   ]
  },
  {
   "cell_type": "code",
   "execution_count": 4,
   "id": "02ee3fab-9dbb-4b4b-83bf-ebf59d1ec9de",
   "metadata": {
    "scrolled": true
   },
   "outputs": [
    {
     "name": "stdout",
     "output_type": "stream",
     "text": [
      "compiled unadjusted\n",
      "compiled adjusted\n",
      "compiled all ratios\n",
      "compiled iterative\n",
      "compiled unadjusted\n",
      "compiled adjusted\n",
      "compiled all ratios\n",
      "compiled iterative\n"
     ]
    },
    {
     "data": {
      "text/html": [
       "<table><tr><td><img src='(+) DPhi Distance to Station 0.jpg'></td><td><img src='(-) DPhi Distance to Station 0.jpg'></td></tr></table>"
      ],
      "text/plain": [
       "<IPython.core.display.HTML object>"
      ]
     },
     "metadata": {},
     "output_type": "display_data"
    },
    {
     "data": {
      "text/html": [
       "<table><tr><td><img src='(+) DPhi Distance to Station 1.jpg'></td><td><img src='(-) DPhi Distance to Station 1.jpg'></td></tr></table>"
      ],
      "text/plain": [
       "<IPython.core.display.HTML object>"
      ]
     },
     "metadata": {},
     "output_type": "display_data"
    },
    {
     "data": {
      "text/html": [
       "<table><tr><td><img src='(+) DPhi Distance to Station 2.jpg'></td><td><img src='(-) DPhi Distance to Station 2.jpg'></td></tr></table>"
      ],
      "text/plain": [
       "<IPython.core.display.HTML object>"
      ]
     },
     "metadata": {},
     "output_type": "display_data"
    },
    {
     "data": {
      "text/html": [
       "<table><tr><td><img src='(+) DPhi Distance to Station 3.jpg'></td><td><img src='(-) DPhi Distance to Station 3.jpg'></td></tr></table>"
      ],
      "text/plain": [
       "<IPython.core.display.HTML object>"
      ]
     },
     "metadata": {},
     "output_type": "display_data"
    }
   ],
   "source": [
    "compile_hist(DPhi, '+', -1.5 , 1.5)\n",
    "compile_hist(DPhi, '-', -1.5 , 1.5)\n",
    "plot_charge_hist(DPhi)"
   ]
  },
  {
   "cell_type": "code",
   "execution_count": 5,
   "id": "93441d8a-f93c-4fa1-b7ff-50a38e920472",
   "metadata": {
    "scrolled": true
   },
   "outputs": [
    {
     "name": "stdout",
     "output_type": "stream",
     "text": [
      "compiled unadjusted\n",
      "compiled adjusted\n",
      "compiled all ratios\n",
      "compiled iterative\n",
      "\n",
      "\n",
      "\n",
      "\n",
      "                            ------------------------------------------------------------------------------- All Stations Weighted by Station 0 Ratios: -------------------------------------------------------------------------------\n",
      "\n",
      "\n",
      "\n",
      "\n"
     ]
    },
    {
     "data": {
      "text/html": [
       "<table><tr><td><img src='DR Distance to Station 0.jpg'></td><td><img src='DR Net Adjustment by Station 0 Ratios for Station 0.jpg'></td><td><img src='DR Distance to Station 0 Weighted by Station 0 Ratios.jpg'></td></tr></table>"
      ],
      "text/plain": [
       "<IPython.core.display.HTML object>"
      ]
     },
     "metadata": {},
     "output_type": "display_data"
    },
    {
     "data": {
      "text/html": [
       "<table><tr><td><img src='DR Distance to Station 1.jpg'></td><td><img src='DR Net Adjustment by Station 0 Ratios for Station 1.jpg'></td><td><img src='DR Distance to Station 1 Weighted by Station 0 Ratios.jpg'></td></tr></table>"
      ],
      "text/plain": [
       "<IPython.core.display.HTML object>"
      ]
     },
     "metadata": {},
     "output_type": "display_data"
    },
    {
     "data": {
      "text/html": [
       "<table><tr><td><img src='DR Distance to Station 2.jpg'></td><td><img src='DR Net Adjustment by Station 0 Ratios for Station 2.jpg'></td><td><img src='DR Distance to Station 2 Weighted by Station 0 Ratios.jpg'></td></tr></table>"
      ],
      "text/plain": [
       "<IPython.core.display.HTML object>"
      ]
     },
     "metadata": {},
     "output_type": "display_data"
    },
    {
     "data": {
      "text/html": [
       "<table><tr><td><img src='DR Distance to Station 3.jpg'></td><td><img src='DR Net Adjustment by Station 0 Ratios for Station 3.jpg'></td><td><img src='DR Distance to Station 3 Weighted by Station 0 Ratios.jpg'></td></tr></table>"
      ],
      "text/plain": [
       "<IPython.core.display.HTML object>"
      ]
     },
     "metadata": {},
     "output_type": "display_data"
    },
    {
     "name": "stdout",
     "output_type": "stream",
     "text": [
      "\n",
      "\n",
      "\n",
      "\n",
      "                            ------------------------------------------------------------------------------- All Stations Weighted by Station 1 Ratios: -------------------------------------------------------------------------------\n",
      "\n",
      "\n",
      "\n",
      "\n"
     ]
    },
    {
     "data": {
      "text/html": [
       "<table><tr><td><img src='DR Distance to Station 0.jpg'></td><td><img src='DR Net Adjustment by Station 1 Ratios for Station 0.jpg'></td><td><img src='DR Distance to Station 0 Weighted by Station 1 Ratios.jpg'></td></tr></table>"
      ],
      "text/plain": [
       "<IPython.core.display.HTML object>"
      ]
     },
     "metadata": {},
     "output_type": "display_data"
    },
    {
     "data": {
      "text/html": [
       "<table><tr><td><img src='DR Distance to Station 1.jpg'></td><td><img src='DR Net Adjustment by Station 1 Ratios for Station 1.jpg'></td><td><img src='DR Distance to Station 1 Weighted by Station 1 Ratios.jpg'></td></tr></table>"
      ],
      "text/plain": [
       "<IPython.core.display.HTML object>"
      ]
     },
     "metadata": {},
     "output_type": "display_data"
    },
    {
     "data": {
      "text/html": [
       "<table><tr><td><img src='DR Distance to Station 2.jpg'></td><td><img src='DR Net Adjustment by Station 1 Ratios for Station 2.jpg'></td><td><img src='DR Distance to Station 2 Weighted by Station 1 Ratios.jpg'></td></tr></table>"
      ],
      "text/plain": [
       "<IPython.core.display.HTML object>"
      ]
     },
     "metadata": {},
     "output_type": "display_data"
    },
    {
     "data": {
      "text/html": [
       "<table><tr><td><img src='DR Distance to Station 3.jpg'></td><td><img src='DR Net Adjustment by Station 1 Ratios for Station 3.jpg'></td><td><img src='DR Distance to Station 3 Weighted by Station 1 Ratios.jpg'></td></tr></table>"
      ],
      "text/plain": [
       "<IPython.core.display.HTML object>"
      ]
     },
     "metadata": {},
     "output_type": "display_data"
    },
    {
     "name": "stdout",
     "output_type": "stream",
     "text": [
      "\n",
      "\n",
      "\n",
      "\n",
      "                            ------------------------------------------------------------------------------- All Stations Weighted by Station 2 Ratios: -------------------------------------------------------------------------------\n",
      "\n",
      "\n",
      "\n",
      "\n"
     ]
    },
    {
     "data": {
      "text/html": [
       "<table><tr><td><img src='DR Distance to Station 0.jpg'></td><td><img src='DR Net Adjustment by Station 2 Ratios for Station 0.jpg'></td><td><img src='DR Distance to Station 0 Weighted by Station 2 Ratios.jpg'></td></tr></table>"
      ],
      "text/plain": [
       "<IPython.core.display.HTML object>"
      ]
     },
     "metadata": {},
     "output_type": "display_data"
    },
    {
     "data": {
      "text/html": [
       "<table><tr><td><img src='DR Distance to Station 1.jpg'></td><td><img src='DR Net Adjustment by Station 2 Ratios for Station 1.jpg'></td><td><img src='DR Distance to Station 1 Weighted by Station 2 Ratios.jpg'></td></tr></table>"
      ],
      "text/plain": [
       "<IPython.core.display.HTML object>"
      ]
     },
     "metadata": {},
     "output_type": "display_data"
    },
    {
     "data": {
      "text/html": [
       "<table><tr><td><img src='DR Distance to Station 2.jpg'></td><td><img src='DR Net Adjustment by Station 2 Ratios for Station 2.jpg'></td><td><img src='DR Distance to Station 2 Weighted by Station 2 Ratios.jpg'></td></tr></table>"
      ],
      "text/plain": [
       "<IPython.core.display.HTML object>"
      ]
     },
     "metadata": {},
     "output_type": "display_data"
    },
    {
     "data": {
      "text/html": [
       "<table><tr><td><img src='DR Distance to Station 3.jpg'></td><td><img src='DR Net Adjustment by Station 2 Ratios for Station 3.jpg'></td><td><img src='DR Distance to Station 3 Weighted by Station 2 Ratios.jpg'></td></tr></table>"
      ],
      "text/plain": [
       "<IPython.core.display.HTML object>"
      ]
     },
     "metadata": {},
     "output_type": "display_data"
    },
    {
     "name": "stdout",
     "output_type": "stream",
     "text": [
      "\n",
      "\n",
      "\n",
      "\n",
      "                            ------------------------------------------------------------------------------- All Stations Weighted by Station 3 Ratios: -------------------------------------------------------------------------------\n",
      "\n",
      "\n",
      "\n",
      "\n"
     ]
    },
    {
     "data": {
      "text/html": [
       "<table><tr><td><img src='DR Distance to Station 0.jpg'></td><td><img src='DR Net Adjustment by Station 3 Ratios for Station 0.jpg'></td><td><img src='DR Distance to Station 0 Weighted by Station 3 Ratios.jpg'></td></tr></table>"
      ],
      "text/plain": [
       "<IPython.core.display.HTML object>"
      ]
     },
     "metadata": {},
     "output_type": "display_data"
    },
    {
     "data": {
      "text/html": [
       "<table><tr><td><img src='DR Distance to Station 1.jpg'></td><td><img src='DR Net Adjustment by Station 3 Ratios for Station 1.jpg'></td><td><img src='DR Distance to Station 1 Weighted by Station 3 Ratios.jpg'></td></tr></table>"
      ],
      "text/plain": [
       "<IPython.core.display.HTML object>"
      ]
     },
     "metadata": {},
     "output_type": "display_data"
    },
    {
     "data": {
      "text/html": [
       "<table><tr><td><img src='DR Distance to Station 2.jpg'></td><td><img src='DR Net Adjustment by Station 3 Ratios for Station 2.jpg'></td><td><img src='DR Distance to Station 2 Weighted by Station 3 Ratios.jpg'></td></tr></table>"
      ],
      "text/plain": [
       "<IPython.core.display.HTML object>"
      ]
     },
     "metadata": {},
     "output_type": "display_data"
    },
    {
     "data": {
      "text/html": [
       "<table><tr><td><img src='DR Distance to Station 3.jpg'></td><td><img src='DR Net Adjustment by Station 3 Ratios for Station 3.jpg'></td><td><img src='DR Distance to Station 3 Weighted by Station 3 Ratios.jpg'></td></tr></table>"
      ],
      "text/plain": [
       "<IPython.core.display.HTML object>"
      ]
     },
     "metadata": {},
     "output_type": "display_data"
    },
    {
     "name": "stdout",
     "output_type": "stream",
     "text": [
      "\n",
      "\n",
      "\n",
      "\n",
      "                            ------------------------------------------------------------------------------- All Stations Weighted by All Ratios: -------------------------------------------------------------------------------\n",
      "\n",
      "\n",
      "\n",
      "\n"
     ]
    },
    {
     "data": {
      "text/html": [
       "<table><tr><td><img src='DR Distance to Station 0.jpg'></td><td><img src='DR Net Adjustment by All Ratios for Station 0.jpg'></td><td><img src='DR Distance to Station 0 Weighted by All Ratios.jpg'></td></tr></table>"
      ],
      "text/plain": [
       "<IPython.core.display.HTML object>"
      ]
     },
     "metadata": {},
     "output_type": "display_data"
    },
    {
     "data": {
      "text/html": [
       "<table><tr><td><img src='DR Distance to Station 1.jpg'></td><td><img src='DR Net Adjustment by All Ratios for Station 1.jpg'></td><td><img src='DR Distance to Station 1 Weighted by All Ratios.jpg'></td></tr></table>"
      ],
      "text/plain": [
       "<IPython.core.display.HTML object>"
      ]
     },
     "metadata": {},
     "output_type": "display_data"
    },
    {
     "data": {
      "text/html": [
       "<table><tr><td><img src='DR Distance to Station 2.jpg'></td><td><img src='DR Net Adjustment by All Ratios for Station 2.jpg'></td><td><img src='DR Distance to Station 2 Weighted by All Ratios.jpg'></td></tr></table>"
      ],
      "text/plain": [
       "<IPython.core.display.HTML object>"
      ]
     },
     "metadata": {},
     "output_type": "display_data"
    },
    {
     "data": {
      "text/html": [
       "<table><tr><td><img src='DR Distance to Station 3.jpg'></td><td><img src='DR Net Adjustment by All Ratios for Station 3.jpg'></td><td><img src='DR Distance to Station 3 Weighted by All Ratios.jpg'></td></tr></table>"
      ],
      "text/plain": [
       "<IPython.core.display.HTML object>"
      ]
     },
     "metadata": {},
     "output_type": "display_data"
    },
    {
     "name": "stdout",
     "output_type": "stream",
     "text": [
      "\n",
      "\n",
      "\n",
      "\n",
      "                            ------------------------------------------------------------------------------- All Stations Weighted by Iterative Ratios 0: -------------------------------------------------------------------------------\n",
      "\n",
      "\n",
      "\n",
      "\n"
     ]
    },
    {
     "data": {
      "text/html": [
       "<table><tr><td><img src='DR Distance to Station 0.jpg'></td><td><img src='DR Net Adjustment by Iterative Ratios 0 for Station 0.jpg'></td><td><img src='DR Distance to Station 0 Weighted by Iterative Ratios 0.jpg'></td></tr></table>"
      ],
      "text/plain": [
       "<IPython.core.display.HTML object>"
      ]
     },
     "metadata": {},
     "output_type": "display_data"
    },
    {
     "data": {
      "text/html": [
       "<table><tr><td><img src='DR Distance to Station 1.jpg'></td><td><img src='DR Net Adjustment by Iterative Ratios 0 for Station 1.jpg'></td><td><img src='DR Distance to Station 1 Weighted by Iterative Ratios 0.jpg'></td></tr></table>"
      ],
      "text/plain": [
       "<IPython.core.display.HTML object>"
      ]
     },
     "metadata": {},
     "output_type": "display_data"
    },
    {
     "data": {
      "text/html": [
       "<table><tr><td><img src='DR Distance to Station 2.jpg'></td><td><img src='DR Net Adjustment by Iterative Ratios 0 for Station 2.jpg'></td><td><img src='DR Distance to Station 2 Weighted by Iterative Ratios 0.jpg'></td></tr></table>"
      ],
      "text/plain": [
       "<IPython.core.display.HTML object>"
      ]
     },
     "metadata": {},
     "output_type": "display_data"
    },
    {
     "data": {
      "text/html": [
       "<table><tr><td><img src='DR Distance to Station 3.jpg'></td><td><img src='DR Net Adjustment by Iterative Ratios 0 for Station 3.jpg'></td><td><img src='DR Distance to Station 3 Weighted by Iterative Ratios 0.jpg'></td></tr></table>"
      ],
      "text/plain": [
       "<IPython.core.display.HTML object>"
      ]
     },
     "metadata": {},
     "output_type": "display_data"
    },
    {
     "name": "stdout",
     "output_type": "stream",
     "text": [
      "\n",
      "\n",
      "\n",
      "\n",
      "                            ------------------------------------------------------------------------------- All Stations Weighted by Iterative Ratios 1: -------------------------------------------------------------------------------\n",
      "\n",
      "\n",
      "\n",
      "\n"
     ]
    },
    {
     "data": {
      "text/html": [
       "<table><tr><td><img src='DR Distance to Station 0.jpg'></td><td><img src='DR Net Adjustment by Iterative Ratios 1 for Station 0.jpg'></td><td><img src='DR Distance to Station 0 Weighted by Iterative Ratios 1.jpg'></td></tr></table>"
      ],
      "text/plain": [
       "<IPython.core.display.HTML object>"
      ]
     },
     "metadata": {},
     "output_type": "display_data"
    },
    {
     "data": {
      "text/html": [
       "<table><tr><td><img src='DR Distance to Station 1.jpg'></td><td><img src='DR Net Adjustment by Iterative Ratios 1 for Station 1.jpg'></td><td><img src='DR Distance to Station 1 Weighted by Iterative Ratios 1.jpg'></td></tr></table>"
      ],
      "text/plain": [
       "<IPython.core.display.HTML object>"
      ]
     },
     "metadata": {},
     "output_type": "display_data"
    },
    {
     "data": {
      "text/html": [
       "<table><tr><td><img src='DR Distance to Station 2.jpg'></td><td><img src='DR Net Adjustment by Iterative Ratios 1 for Station 2.jpg'></td><td><img src='DR Distance to Station 2 Weighted by Iterative Ratios 1.jpg'></td></tr></table>"
      ],
      "text/plain": [
       "<IPython.core.display.HTML object>"
      ]
     },
     "metadata": {},
     "output_type": "display_data"
    },
    {
     "data": {
      "text/html": [
       "<table><tr><td><img src='DR Distance to Station 3.jpg'></td><td><img src='DR Net Adjustment by Iterative Ratios 1 for Station 3.jpg'></td><td><img src='DR Distance to Station 3 Weighted by Iterative Ratios 1.jpg'></td></tr></table>"
      ],
      "text/plain": [
       "<IPython.core.display.HTML object>"
      ]
     },
     "metadata": {},
     "output_type": "display_data"
    },
    {
     "name": "stdout",
     "output_type": "stream",
     "text": [
      "\n",
      "\n",
      "\n",
      "\n",
      "                            ------------------------------------------------------------------------------- All Stations Weighted by Iterative Ratios 2: -------------------------------------------------------------------------------\n",
      "\n",
      "\n",
      "\n",
      "\n"
     ]
    },
    {
     "data": {
      "text/html": [
       "<table><tr><td><img src='DR Distance to Station 0.jpg'></td><td><img src='DR Net Adjustment by Iterative Ratios 2 for Station 0.jpg'></td><td><img src='DR Distance to Station 0 Weighted by Iterative Ratios 2.jpg'></td></tr></table>"
      ],
      "text/plain": [
       "<IPython.core.display.HTML object>"
      ]
     },
     "metadata": {},
     "output_type": "display_data"
    },
    {
     "data": {
      "text/html": [
       "<table><tr><td><img src='DR Distance to Station 1.jpg'></td><td><img src='DR Net Adjustment by Iterative Ratios 2 for Station 1.jpg'></td><td><img src='DR Distance to Station 1 Weighted by Iterative Ratios 2.jpg'></td></tr></table>"
      ],
      "text/plain": [
       "<IPython.core.display.HTML object>"
      ]
     },
     "metadata": {},
     "output_type": "display_data"
    },
    {
     "data": {
      "text/html": [
       "<table><tr><td><img src='DR Distance to Station 2.jpg'></td><td><img src='DR Net Adjustment by Iterative Ratios 2 for Station 2.jpg'></td><td><img src='DR Distance to Station 2 Weighted by Iterative Ratios 2.jpg'></td></tr></table>"
      ],
      "text/plain": [
       "<IPython.core.display.HTML object>"
      ]
     },
     "metadata": {},
     "output_type": "display_data"
    },
    {
     "data": {
      "text/html": [
       "<table><tr><td><img src='DR Distance to Station 3.jpg'></td><td><img src='DR Net Adjustment by Iterative Ratios 2 for Station 3.jpg'></td><td><img src='DR Distance to Station 3 Weighted by Iterative Ratios 2.jpg'></td></tr></table>"
      ],
      "text/plain": [
       "<IPython.core.display.HTML object>"
      ]
     },
     "metadata": {},
     "output_type": "display_data"
    },
    {
     "name": "stdout",
     "output_type": "stream",
     "text": [
      "\n",
      "\n",
      "\n",
      "\n",
      "                            ------------------------------------------------------------------------------- All Stations Weighted by Iterative Ratios 3: -------------------------------------------------------------------------------\n",
      "\n",
      "\n",
      "\n",
      "\n"
     ]
    },
    {
     "data": {
      "text/html": [
       "<table><tr><td><img src='DR Distance to Station 0.jpg'></td><td><img src='DR Net Adjustment by Iterative Ratios 3 for Station 0.jpg'></td><td><img src='DR Distance to Station 0 Weighted by Iterative Ratios 3.jpg'></td></tr></table>"
      ],
      "text/plain": [
       "<IPython.core.display.HTML object>"
      ]
     },
     "metadata": {},
     "output_type": "display_data"
    },
    {
     "data": {
      "text/html": [
       "<table><tr><td><img src='DR Distance to Station 1.jpg'></td><td><img src='DR Net Adjustment by Iterative Ratios 3 for Station 1.jpg'></td><td><img src='DR Distance to Station 1 Weighted by Iterative Ratios 3.jpg'></td></tr></table>"
      ],
      "text/plain": [
       "<IPython.core.display.HTML object>"
      ]
     },
     "metadata": {},
     "output_type": "display_data"
    },
    {
     "data": {
      "text/html": [
       "<table><tr><td><img src='DR Distance to Station 2.jpg'></td><td><img src='DR Net Adjustment by Iterative Ratios 3 for Station 2.jpg'></td><td><img src='DR Distance to Station 2 Weighted by Iterative Ratios 3.jpg'></td></tr></table>"
      ],
      "text/plain": [
       "<IPython.core.display.HTML object>"
      ]
     },
     "metadata": {},
     "output_type": "display_data"
    },
    {
     "data": {
      "text/html": [
       "<table><tr><td><img src='DR Distance to Station 3.jpg'></td><td><img src='DR Net Adjustment by Iterative Ratios 3 for Station 3.jpg'></td><td><img src='DR Distance to Station 3 Weighted by Iterative Ratios 3.jpg'></td></tr></table>"
      ],
      "text/plain": [
       "<IPython.core.display.HTML object>"
      ]
     },
     "metadata": {},
     "output_type": "display_data"
    }
   ],
   "source": [
    "compile_hist(DR, '', 0, DR.x2)\n",
    "plot_hist(DR, '')"
   ]
  },
  {
   "cell_type": "code",
   "execution_count": 6,
   "id": "f43716ec-1836-4d11-a65a-01430a489b5a",
   "metadata": {
    "scrolled": true
   },
   "outputs": [
    {
     "name": "stdout",
     "output_type": "stream",
     "text": [
      "compiled unadjusted\n",
      "compiled adjusted\n",
      "compiled all ratios\n",
      "compiled iterative\n",
      "\n",
      "\n",
      "\n",
      "\n",
      "                            ------------------------------------------------------------------------------- All Stations Weighted by Station 0 Ratios: -------------------------------------------------------------------------------\n",
      "\n",
      "\n",
      "\n",
      "\n"
     ]
    },
    {
     "data": {
      "text/html": [
       "<table><tr><td><img src='DPhi Distance to Station 0.jpg'></td><td><img src='DPhi Net Adjustment by Station 0 Ratios for Station 0.jpg'></td><td><img src='DPhi Distance to Station 0 Weighted by Station 0 Ratios.jpg'></td></tr></table>"
      ],
      "text/plain": [
       "<IPython.core.display.HTML object>"
      ]
     },
     "metadata": {},
     "output_type": "display_data"
    },
    {
     "data": {
      "text/html": [
       "<table><tr><td><img src='DPhi Distance to Station 1.jpg'></td><td><img src='DPhi Net Adjustment by Station 0 Ratios for Station 1.jpg'></td><td><img src='DPhi Distance to Station 1 Weighted by Station 0 Ratios.jpg'></td></tr></table>"
      ],
      "text/plain": [
       "<IPython.core.display.HTML object>"
      ]
     },
     "metadata": {},
     "output_type": "display_data"
    },
    {
     "data": {
      "text/html": [
       "<table><tr><td><img src='DPhi Distance to Station 2.jpg'></td><td><img src='DPhi Net Adjustment by Station 0 Ratios for Station 2.jpg'></td><td><img src='DPhi Distance to Station 2 Weighted by Station 0 Ratios.jpg'></td></tr></table>"
      ],
      "text/plain": [
       "<IPython.core.display.HTML object>"
      ]
     },
     "metadata": {},
     "output_type": "display_data"
    },
    {
     "data": {
      "text/html": [
       "<table><tr><td><img src='DPhi Distance to Station 3.jpg'></td><td><img src='DPhi Net Adjustment by Station 0 Ratios for Station 3.jpg'></td><td><img src='DPhi Distance to Station 3 Weighted by Station 0 Ratios.jpg'></td></tr></table>"
      ],
      "text/plain": [
       "<IPython.core.display.HTML object>"
      ]
     },
     "metadata": {},
     "output_type": "display_data"
    },
    {
     "name": "stdout",
     "output_type": "stream",
     "text": [
      "\n",
      "\n",
      "\n",
      "\n",
      "                            ------------------------------------------------------------------------------- All Stations Weighted by Station 1 Ratios: -------------------------------------------------------------------------------\n",
      "\n",
      "\n",
      "\n",
      "\n"
     ]
    },
    {
     "data": {
      "text/html": [
       "<table><tr><td><img src='DPhi Distance to Station 0.jpg'></td><td><img src='DPhi Net Adjustment by Station 1 Ratios for Station 0.jpg'></td><td><img src='DPhi Distance to Station 0 Weighted by Station 1 Ratios.jpg'></td></tr></table>"
      ],
      "text/plain": [
       "<IPython.core.display.HTML object>"
      ]
     },
     "metadata": {},
     "output_type": "display_data"
    },
    {
     "data": {
      "text/html": [
       "<table><tr><td><img src='DPhi Distance to Station 1.jpg'></td><td><img src='DPhi Net Adjustment by Station 1 Ratios for Station 1.jpg'></td><td><img src='DPhi Distance to Station 1 Weighted by Station 1 Ratios.jpg'></td></tr></table>"
      ],
      "text/plain": [
       "<IPython.core.display.HTML object>"
      ]
     },
     "metadata": {},
     "output_type": "display_data"
    },
    {
     "data": {
      "text/html": [
       "<table><tr><td><img src='DPhi Distance to Station 2.jpg'></td><td><img src='DPhi Net Adjustment by Station 1 Ratios for Station 2.jpg'></td><td><img src='DPhi Distance to Station 2 Weighted by Station 1 Ratios.jpg'></td></tr></table>"
      ],
      "text/plain": [
       "<IPython.core.display.HTML object>"
      ]
     },
     "metadata": {},
     "output_type": "display_data"
    },
    {
     "data": {
      "text/html": [
       "<table><tr><td><img src='DPhi Distance to Station 3.jpg'></td><td><img src='DPhi Net Adjustment by Station 1 Ratios for Station 3.jpg'></td><td><img src='DPhi Distance to Station 3 Weighted by Station 1 Ratios.jpg'></td></tr></table>"
      ],
      "text/plain": [
       "<IPython.core.display.HTML object>"
      ]
     },
     "metadata": {},
     "output_type": "display_data"
    },
    {
     "name": "stdout",
     "output_type": "stream",
     "text": [
      "\n",
      "\n",
      "\n",
      "\n",
      "                            ------------------------------------------------------------------------------- All Stations Weighted by Station 2 Ratios: -------------------------------------------------------------------------------\n",
      "\n",
      "\n",
      "\n",
      "\n"
     ]
    },
    {
     "data": {
      "text/html": [
       "<table><tr><td><img src='DPhi Distance to Station 0.jpg'></td><td><img src='DPhi Net Adjustment by Station 2 Ratios for Station 0.jpg'></td><td><img src='DPhi Distance to Station 0 Weighted by Station 2 Ratios.jpg'></td></tr></table>"
      ],
      "text/plain": [
       "<IPython.core.display.HTML object>"
      ]
     },
     "metadata": {},
     "output_type": "display_data"
    },
    {
     "data": {
      "text/html": [
       "<table><tr><td><img src='DPhi Distance to Station 1.jpg'></td><td><img src='DPhi Net Adjustment by Station 2 Ratios for Station 1.jpg'></td><td><img src='DPhi Distance to Station 1 Weighted by Station 2 Ratios.jpg'></td></tr></table>"
      ],
      "text/plain": [
       "<IPython.core.display.HTML object>"
      ]
     },
     "metadata": {},
     "output_type": "display_data"
    },
    {
     "data": {
      "text/html": [
       "<table><tr><td><img src='DPhi Distance to Station 2.jpg'></td><td><img src='DPhi Net Adjustment by Station 2 Ratios for Station 2.jpg'></td><td><img src='DPhi Distance to Station 2 Weighted by Station 2 Ratios.jpg'></td></tr></table>"
      ],
      "text/plain": [
       "<IPython.core.display.HTML object>"
      ]
     },
     "metadata": {},
     "output_type": "display_data"
    },
    {
     "data": {
      "text/html": [
       "<table><tr><td><img src='DPhi Distance to Station 3.jpg'></td><td><img src='DPhi Net Adjustment by Station 2 Ratios for Station 3.jpg'></td><td><img src='DPhi Distance to Station 3 Weighted by Station 2 Ratios.jpg'></td></tr></table>"
      ],
      "text/plain": [
       "<IPython.core.display.HTML object>"
      ]
     },
     "metadata": {},
     "output_type": "display_data"
    },
    {
     "name": "stdout",
     "output_type": "stream",
     "text": [
      "\n",
      "\n",
      "\n",
      "\n",
      "                            ------------------------------------------------------------------------------- All Stations Weighted by Station 3 Ratios: -------------------------------------------------------------------------------\n",
      "\n",
      "\n",
      "\n",
      "\n"
     ]
    },
    {
     "data": {
      "text/html": [
       "<table><tr><td><img src='DPhi Distance to Station 0.jpg'></td><td><img src='DPhi Net Adjustment by Station 3 Ratios for Station 0.jpg'></td><td><img src='DPhi Distance to Station 0 Weighted by Station 3 Ratios.jpg'></td></tr></table>"
      ],
      "text/plain": [
       "<IPython.core.display.HTML object>"
      ]
     },
     "metadata": {},
     "output_type": "display_data"
    },
    {
     "data": {
      "text/html": [
       "<table><tr><td><img src='DPhi Distance to Station 1.jpg'></td><td><img src='DPhi Net Adjustment by Station 3 Ratios for Station 1.jpg'></td><td><img src='DPhi Distance to Station 1 Weighted by Station 3 Ratios.jpg'></td></tr></table>"
      ],
      "text/plain": [
       "<IPython.core.display.HTML object>"
      ]
     },
     "metadata": {},
     "output_type": "display_data"
    },
    {
     "data": {
      "text/html": [
       "<table><tr><td><img src='DPhi Distance to Station 2.jpg'></td><td><img src='DPhi Net Adjustment by Station 3 Ratios for Station 2.jpg'></td><td><img src='DPhi Distance to Station 2 Weighted by Station 3 Ratios.jpg'></td></tr></table>"
      ],
      "text/plain": [
       "<IPython.core.display.HTML object>"
      ]
     },
     "metadata": {},
     "output_type": "display_data"
    },
    {
     "data": {
      "text/html": [
       "<table><tr><td><img src='DPhi Distance to Station 3.jpg'></td><td><img src='DPhi Net Adjustment by Station 3 Ratios for Station 3.jpg'></td><td><img src='DPhi Distance to Station 3 Weighted by Station 3 Ratios.jpg'></td></tr></table>"
      ],
      "text/plain": [
       "<IPython.core.display.HTML object>"
      ]
     },
     "metadata": {},
     "output_type": "display_data"
    },
    {
     "name": "stdout",
     "output_type": "stream",
     "text": [
      "\n",
      "\n",
      "\n",
      "\n",
      "                            ------------------------------------------------------------------------------- All Stations Weighted by All Ratios: -------------------------------------------------------------------------------\n",
      "\n",
      "\n",
      "\n",
      "\n"
     ]
    },
    {
     "data": {
      "text/html": [
       "<table><tr><td><img src='DPhi Distance to Station 0.jpg'></td><td><img src='DPhi Net Adjustment by All Ratios for Station 0.jpg'></td><td><img src='DPhi Distance to Station 0 Weighted by All Ratios.jpg'></td></tr></table>"
      ],
      "text/plain": [
       "<IPython.core.display.HTML object>"
      ]
     },
     "metadata": {},
     "output_type": "display_data"
    },
    {
     "data": {
      "text/html": [
       "<table><tr><td><img src='DPhi Distance to Station 1.jpg'></td><td><img src='DPhi Net Adjustment by All Ratios for Station 1.jpg'></td><td><img src='DPhi Distance to Station 1 Weighted by All Ratios.jpg'></td></tr></table>"
      ],
      "text/plain": [
       "<IPython.core.display.HTML object>"
      ]
     },
     "metadata": {},
     "output_type": "display_data"
    },
    {
     "data": {
      "text/html": [
       "<table><tr><td><img src='DPhi Distance to Station 2.jpg'></td><td><img src='DPhi Net Adjustment by All Ratios for Station 2.jpg'></td><td><img src='DPhi Distance to Station 2 Weighted by All Ratios.jpg'></td></tr></table>"
      ],
      "text/plain": [
       "<IPython.core.display.HTML object>"
      ]
     },
     "metadata": {},
     "output_type": "display_data"
    },
    {
     "data": {
      "text/html": [
       "<table><tr><td><img src='DPhi Distance to Station 3.jpg'></td><td><img src='DPhi Net Adjustment by All Ratios for Station 3.jpg'></td><td><img src='DPhi Distance to Station 3 Weighted by All Ratios.jpg'></td></tr></table>"
      ],
      "text/plain": [
       "<IPython.core.display.HTML object>"
      ]
     },
     "metadata": {},
     "output_type": "display_data"
    },
    {
     "name": "stdout",
     "output_type": "stream",
     "text": [
      "\n",
      "\n",
      "\n",
      "\n",
      "                            ------------------------------------------------------------------------------- All Stations Weighted by Iterative Ratios 0: -------------------------------------------------------------------------------\n",
      "\n",
      "\n",
      "\n",
      "\n"
     ]
    },
    {
     "data": {
      "text/html": [
       "<table><tr><td><img src='DPhi Distance to Station 0.jpg'></td><td><img src='DPhi Net Adjustment by Iterative Ratios 0 for Station 0.jpg'></td><td><img src='DPhi Distance to Station 0 Weighted by Iterative Ratios 0.jpg'></td></tr></table>"
      ],
      "text/plain": [
       "<IPython.core.display.HTML object>"
      ]
     },
     "metadata": {},
     "output_type": "display_data"
    },
    {
     "data": {
      "text/html": [
       "<table><tr><td><img src='DPhi Distance to Station 1.jpg'></td><td><img src='DPhi Net Adjustment by Iterative Ratios 0 for Station 1.jpg'></td><td><img src='DPhi Distance to Station 1 Weighted by Iterative Ratios 0.jpg'></td></tr></table>"
      ],
      "text/plain": [
       "<IPython.core.display.HTML object>"
      ]
     },
     "metadata": {},
     "output_type": "display_data"
    },
    {
     "data": {
      "text/html": [
       "<table><tr><td><img src='DPhi Distance to Station 2.jpg'></td><td><img src='DPhi Net Adjustment by Iterative Ratios 0 for Station 2.jpg'></td><td><img src='DPhi Distance to Station 2 Weighted by Iterative Ratios 0.jpg'></td></tr></table>"
      ],
      "text/plain": [
       "<IPython.core.display.HTML object>"
      ]
     },
     "metadata": {},
     "output_type": "display_data"
    },
    {
     "data": {
      "text/html": [
       "<table><tr><td><img src='DPhi Distance to Station 3.jpg'></td><td><img src='DPhi Net Adjustment by Iterative Ratios 0 for Station 3.jpg'></td><td><img src='DPhi Distance to Station 3 Weighted by Iterative Ratios 0.jpg'></td></tr></table>"
      ],
      "text/plain": [
       "<IPython.core.display.HTML object>"
      ]
     },
     "metadata": {},
     "output_type": "display_data"
    },
    {
     "name": "stdout",
     "output_type": "stream",
     "text": [
      "\n",
      "\n",
      "\n",
      "\n",
      "                            ------------------------------------------------------------------------------- All Stations Weighted by Iterative Ratios 1: -------------------------------------------------------------------------------\n",
      "\n",
      "\n",
      "\n",
      "\n"
     ]
    },
    {
     "data": {
      "text/html": [
       "<table><tr><td><img src='DPhi Distance to Station 0.jpg'></td><td><img src='DPhi Net Adjustment by Iterative Ratios 1 for Station 0.jpg'></td><td><img src='DPhi Distance to Station 0 Weighted by Iterative Ratios 1.jpg'></td></tr></table>"
      ],
      "text/plain": [
       "<IPython.core.display.HTML object>"
      ]
     },
     "metadata": {},
     "output_type": "display_data"
    },
    {
     "data": {
      "text/html": [
       "<table><tr><td><img src='DPhi Distance to Station 1.jpg'></td><td><img src='DPhi Net Adjustment by Iterative Ratios 1 for Station 1.jpg'></td><td><img src='DPhi Distance to Station 1 Weighted by Iterative Ratios 1.jpg'></td></tr></table>"
      ],
      "text/plain": [
       "<IPython.core.display.HTML object>"
      ]
     },
     "metadata": {},
     "output_type": "display_data"
    },
    {
     "data": {
      "text/html": [
       "<table><tr><td><img src='DPhi Distance to Station 2.jpg'></td><td><img src='DPhi Net Adjustment by Iterative Ratios 1 for Station 2.jpg'></td><td><img src='DPhi Distance to Station 2 Weighted by Iterative Ratios 1.jpg'></td></tr></table>"
      ],
      "text/plain": [
       "<IPython.core.display.HTML object>"
      ]
     },
     "metadata": {},
     "output_type": "display_data"
    },
    {
     "data": {
      "text/html": [
       "<table><tr><td><img src='DPhi Distance to Station 3.jpg'></td><td><img src='DPhi Net Adjustment by Iterative Ratios 1 for Station 3.jpg'></td><td><img src='DPhi Distance to Station 3 Weighted by Iterative Ratios 1.jpg'></td></tr></table>"
      ],
      "text/plain": [
       "<IPython.core.display.HTML object>"
      ]
     },
     "metadata": {},
     "output_type": "display_data"
    },
    {
     "name": "stdout",
     "output_type": "stream",
     "text": [
      "\n",
      "\n",
      "\n",
      "\n",
      "                            ------------------------------------------------------------------------------- All Stations Weighted by Iterative Ratios 2: -------------------------------------------------------------------------------\n",
      "\n",
      "\n",
      "\n",
      "\n"
     ]
    },
    {
     "data": {
      "text/html": [
       "<table><tr><td><img src='DPhi Distance to Station 0.jpg'></td><td><img src='DPhi Net Adjustment by Iterative Ratios 2 for Station 0.jpg'></td><td><img src='DPhi Distance to Station 0 Weighted by Iterative Ratios 2.jpg'></td></tr></table>"
      ],
      "text/plain": [
       "<IPython.core.display.HTML object>"
      ]
     },
     "metadata": {},
     "output_type": "display_data"
    },
    {
     "data": {
      "text/html": [
       "<table><tr><td><img src='DPhi Distance to Station 1.jpg'></td><td><img src='DPhi Net Adjustment by Iterative Ratios 2 for Station 1.jpg'></td><td><img src='DPhi Distance to Station 1 Weighted by Iterative Ratios 2.jpg'></td></tr></table>"
      ],
      "text/plain": [
       "<IPython.core.display.HTML object>"
      ]
     },
     "metadata": {},
     "output_type": "display_data"
    },
    {
     "data": {
      "text/html": [
       "<table><tr><td><img src='DPhi Distance to Station 2.jpg'></td><td><img src='DPhi Net Adjustment by Iterative Ratios 2 for Station 2.jpg'></td><td><img src='DPhi Distance to Station 2 Weighted by Iterative Ratios 2.jpg'></td></tr></table>"
      ],
      "text/plain": [
       "<IPython.core.display.HTML object>"
      ]
     },
     "metadata": {},
     "output_type": "display_data"
    },
    {
     "data": {
      "text/html": [
       "<table><tr><td><img src='DPhi Distance to Station 3.jpg'></td><td><img src='DPhi Net Adjustment by Iterative Ratios 2 for Station 3.jpg'></td><td><img src='DPhi Distance to Station 3 Weighted by Iterative Ratios 2.jpg'></td></tr></table>"
      ],
      "text/plain": [
       "<IPython.core.display.HTML object>"
      ]
     },
     "metadata": {},
     "output_type": "display_data"
    },
    {
     "name": "stdout",
     "output_type": "stream",
     "text": [
      "\n",
      "\n",
      "\n",
      "\n",
      "                            ------------------------------------------------------------------------------- All Stations Weighted by Iterative Ratios 3: -------------------------------------------------------------------------------\n",
      "\n",
      "\n",
      "\n",
      "\n"
     ]
    },
    {
     "data": {
      "text/html": [
       "<table><tr><td><img src='DPhi Distance to Station 0.jpg'></td><td><img src='DPhi Net Adjustment by Iterative Ratios 3 for Station 0.jpg'></td><td><img src='DPhi Distance to Station 0 Weighted by Iterative Ratios 3.jpg'></td></tr></table>"
      ],
      "text/plain": [
       "<IPython.core.display.HTML object>"
      ]
     },
     "metadata": {},
     "output_type": "display_data"
    },
    {
     "data": {
      "text/html": [
       "<table><tr><td><img src='DPhi Distance to Station 1.jpg'></td><td><img src='DPhi Net Adjustment by Iterative Ratios 3 for Station 1.jpg'></td><td><img src='DPhi Distance to Station 1 Weighted by Iterative Ratios 3.jpg'></td></tr></table>"
      ],
      "text/plain": [
       "<IPython.core.display.HTML object>"
      ]
     },
     "metadata": {},
     "output_type": "display_data"
    },
    {
     "data": {
      "text/html": [
       "<table><tr><td><img src='DPhi Distance to Station 2.jpg'></td><td><img src='DPhi Net Adjustment by Iterative Ratios 3 for Station 2.jpg'></td><td><img src='DPhi Distance to Station 2 Weighted by Iterative Ratios 3.jpg'></td></tr></table>"
      ],
      "text/plain": [
       "<IPython.core.display.HTML object>"
      ]
     },
     "metadata": {},
     "output_type": "display_data"
    },
    {
     "data": {
      "text/html": [
       "<table><tr><td><img src='DPhi Distance to Station 3.jpg'></td><td><img src='DPhi Net Adjustment by Iterative Ratios 3 for Station 3.jpg'></td><td><img src='DPhi Distance to Station 3 Weighted by Iterative Ratios 3.jpg'></td></tr></table>"
      ],
      "text/plain": [
       "<IPython.core.display.HTML object>"
      ]
     },
     "metadata": {},
     "output_type": "display_data"
    }
   ],
   "source": [
    "compile_hist(DPhi, '', 0 , 1.5)\n",
    "plot_hist(DPhi, '')"
   ]
  },
  {
   "cell_type": "code",
   "execution_count": 7,
   "id": "1d7fef04-895f-4f85-8bbd-92c5d60daa61",
   "metadata": {
    "scrolled": true
   },
   "outputs": [
    {
     "name": "stdout",
     "output_type": "stream",
     "text": [
      "compiled unadjusted\n",
      "compiled adjusted\n",
      "compiled all ratios\n",
      "compiled iterative\n",
      "\n",
      "\n",
      "\n",
      "\n",
      "                            ------------------------------------------------------------------------------- All Stations Weighted by Station 0 Ratios: -------------------------------------------------------------------------------\n",
      "\n",
      "\n",
      "\n",
      "\n"
     ]
    },
    {
     "data": {
      "text/html": [
       "<table><tr><td><img src='DEta Distance to Station 0.jpg'></td><td><img src='DEta Net Adjustment by Station 0 Ratios for Station 0.jpg'></td><td><img src='DEta Distance to Station 0 Weighted by Station 0 Ratios.jpg'></td></tr></table>"
      ],
      "text/plain": [
       "<IPython.core.display.HTML object>"
      ]
     },
     "metadata": {},
     "output_type": "display_data"
    },
    {
     "data": {
      "text/html": [
       "<table><tr><td><img src='DEta Distance to Station 1.jpg'></td><td><img src='DEta Net Adjustment by Station 0 Ratios for Station 1.jpg'></td><td><img src='DEta Distance to Station 1 Weighted by Station 0 Ratios.jpg'></td></tr></table>"
      ],
      "text/plain": [
       "<IPython.core.display.HTML object>"
      ]
     },
     "metadata": {},
     "output_type": "display_data"
    },
    {
     "data": {
      "text/html": [
       "<table><tr><td><img src='DEta Distance to Station 2.jpg'></td><td><img src='DEta Net Adjustment by Station 0 Ratios for Station 2.jpg'></td><td><img src='DEta Distance to Station 2 Weighted by Station 0 Ratios.jpg'></td></tr></table>"
      ],
      "text/plain": [
       "<IPython.core.display.HTML object>"
      ]
     },
     "metadata": {},
     "output_type": "display_data"
    },
    {
     "data": {
      "text/html": [
       "<table><tr><td><img src='DEta Distance to Station 3.jpg'></td><td><img src='DEta Net Adjustment by Station 0 Ratios for Station 3.jpg'></td><td><img src='DEta Distance to Station 3 Weighted by Station 0 Ratios.jpg'></td></tr></table>"
      ],
      "text/plain": [
       "<IPython.core.display.HTML object>"
      ]
     },
     "metadata": {},
     "output_type": "display_data"
    },
    {
     "name": "stdout",
     "output_type": "stream",
     "text": [
      "\n",
      "\n",
      "\n",
      "\n",
      "                            ------------------------------------------------------------------------------- All Stations Weighted by Station 1 Ratios: -------------------------------------------------------------------------------\n",
      "\n",
      "\n",
      "\n",
      "\n"
     ]
    },
    {
     "data": {
      "text/html": [
       "<table><tr><td><img src='DEta Distance to Station 0.jpg'></td><td><img src='DEta Net Adjustment by Station 1 Ratios for Station 0.jpg'></td><td><img src='DEta Distance to Station 0 Weighted by Station 1 Ratios.jpg'></td></tr></table>"
      ],
      "text/plain": [
       "<IPython.core.display.HTML object>"
      ]
     },
     "metadata": {},
     "output_type": "display_data"
    },
    {
     "data": {
      "text/html": [
       "<table><tr><td><img src='DEta Distance to Station 1.jpg'></td><td><img src='DEta Net Adjustment by Station 1 Ratios for Station 1.jpg'></td><td><img src='DEta Distance to Station 1 Weighted by Station 1 Ratios.jpg'></td></tr></table>"
      ],
      "text/plain": [
       "<IPython.core.display.HTML object>"
      ]
     },
     "metadata": {},
     "output_type": "display_data"
    },
    {
     "data": {
      "text/html": [
       "<table><tr><td><img src='DEta Distance to Station 2.jpg'></td><td><img src='DEta Net Adjustment by Station 1 Ratios for Station 2.jpg'></td><td><img src='DEta Distance to Station 2 Weighted by Station 1 Ratios.jpg'></td></tr></table>"
      ],
      "text/plain": [
       "<IPython.core.display.HTML object>"
      ]
     },
     "metadata": {},
     "output_type": "display_data"
    },
    {
     "data": {
      "text/html": [
       "<table><tr><td><img src='DEta Distance to Station 3.jpg'></td><td><img src='DEta Net Adjustment by Station 1 Ratios for Station 3.jpg'></td><td><img src='DEta Distance to Station 3 Weighted by Station 1 Ratios.jpg'></td></tr></table>"
      ],
      "text/plain": [
       "<IPython.core.display.HTML object>"
      ]
     },
     "metadata": {},
     "output_type": "display_data"
    },
    {
     "name": "stdout",
     "output_type": "stream",
     "text": [
      "\n",
      "\n",
      "\n",
      "\n",
      "                            ------------------------------------------------------------------------------- All Stations Weighted by Station 2 Ratios: -------------------------------------------------------------------------------\n",
      "\n",
      "\n",
      "\n",
      "\n"
     ]
    },
    {
     "data": {
      "text/html": [
       "<table><tr><td><img src='DEta Distance to Station 0.jpg'></td><td><img src='DEta Net Adjustment by Station 2 Ratios for Station 0.jpg'></td><td><img src='DEta Distance to Station 0 Weighted by Station 2 Ratios.jpg'></td></tr></table>"
      ],
      "text/plain": [
       "<IPython.core.display.HTML object>"
      ]
     },
     "metadata": {},
     "output_type": "display_data"
    },
    {
     "data": {
      "text/html": [
       "<table><tr><td><img src='DEta Distance to Station 1.jpg'></td><td><img src='DEta Net Adjustment by Station 2 Ratios for Station 1.jpg'></td><td><img src='DEta Distance to Station 1 Weighted by Station 2 Ratios.jpg'></td></tr></table>"
      ],
      "text/plain": [
       "<IPython.core.display.HTML object>"
      ]
     },
     "metadata": {},
     "output_type": "display_data"
    },
    {
     "data": {
      "text/html": [
       "<table><tr><td><img src='DEta Distance to Station 2.jpg'></td><td><img src='DEta Net Adjustment by Station 2 Ratios for Station 2.jpg'></td><td><img src='DEta Distance to Station 2 Weighted by Station 2 Ratios.jpg'></td></tr></table>"
      ],
      "text/plain": [
       "<IPython.core.display.HTML object>"
      ]
     },
     "metadata": {},
     "output_type": "display_data"
    },
    {
     "data": {
      "text/html": [
       "<table><tr><td><img src='DEta Distance to Station 3.jpg'></td><td><img src='DEta Net Adjustment by Station 2 Ratios for Station 3.jpg'></td><td><img src='DEta Distance to Station 3 Weighted by Station 2 Ratios.jpg'></td></tr></table>"
      ],
      "text/plain": [
       "<IPython.core.display.HTML object>"
      ]
     },
     "metadata": {},
     "output_type": "display_data"
    },
    {
     "name": "stdout",
     "output_type": "stream",
     "text": [
      "\n",
      "\n",
      "\n",
      "\n",
      "                            ------------------------------------------------------------------------------- All Stations Weighted by Station 3 Ratios: -------------------------------------------------------------------------------\n",
      "\n",
      "\n",
      "\n",
      "\n"
     ]
    },
    {
     "data": {
      "text/html": [
       "<table><tr><td><img src='DEta Distance to Station 0.jpg'></td><td><img src='DEta Net Adjustment by Station 3 Ratios for Station 0.jpg'></td><td><img src='DEta Distance to Station 0 Weighted by Station 3 Ratios.jpg'></td></tr></table>"
      ],
      "text/plain": [
       "<IPython.core.display.HTML object>"
      ]
     },
     "metadata": {},
     "output_type": "display_data"
    },
    {
     "data": {
      "text/html": [
       "<table><tr><td><img src='DEta Distance to Station 1.jpg'></td><td><img src='DEta Net Adjustment by Station 3 Ratios for Station 1.jpg'></td><td><img src='DEta Distance to Station 1 Weighted by Station 3 Ratios.jpg'></td></tr></table>"
      ],
      "text/plain": [
       "<IPython.core.display.HTML object>"
      ]
     },
     "metadata": {},
     "output_type": "display_data"
    },
    {
     "data": {
      "text/html": [
       "<table><tr><td><img src='DEta Distance to Station 2.jpg'></td><td><img src='DEta Net Adjustment by Station 3 Ratios for Station 2.jpg'></td><td><img src='DEta Distance to Station 2 Weighted by Station 3 Ratios.jpg'></td></tr></table>"
      ],
      "text/plain": [
       "<IPython.core.display.HTML object>"
      ]
     },
     "metadata": {},
     "output_type": "display_data"
    },
    {
     "data": {
      "text/html": [
       "<table><tr><td><img src='DEta Distance to Station 3.jpg'></td><td><img src='DEta Net Adjustment by Station 3 Ratios for Station 3.jpg'></td><td><img src='DEta Distance to Station 3 Weighted by Station 3 Ratios.jpg'></td></tr></table>"
      ],
      "text/plain": [
       "<IPython.core.display.HTML object>"
      ]
     },
     "metadata": {},
     "output_type": "display_data"
    },
    {
     "name": "stdout",
     "output_type": "stream",
     "text": [
      "\n",
      "\n",
      "\n",
      "\n",
      "                            ------------------------------------------------------------------------------- All Stations Weighted by All Ratios: -------------------------------------------------------------------------------\n",
      "\n",
      "\n",
      "\n",
      "\n"
     ]
    },
    {
     "data": {
      "text/html": [
       "<table><tr><td><img src='DEta Distance to Station 0.jpg'></td><td><img src='DEta Net Adjustment by All Ratios for Station 0.jpg'></td><td><img src='DEta Distance to Station 0 Weighted by All Ratios.jpg'></td></tr></table>"
      ],
      "text/plain": [
       "<IPython.core.display.HTML object>"
      ]
     },
     "metadata": {},
     "output_type": "display_data"
    },
    {
     "data": {
      "text/html": [
       "<table><tr><td><img src='DEta Distance to Station 1.jpg'></td><td><img src='DEta Net Adjustment by All Ratios for Station 1.jpg'></td><td><img src='DEta Distance to Station 1 Weighted by All Ratios.jpg'></td></tr></table>"
      ],
      "text/plain": [
       "<IPython.core.display.HTML object>"
      ]
     },
     "metadata": {},
     "output_type": "display_data"
    },
    {
     "data": {
      "text/html": [
       "<table><tr><td><img src='DEta Distance to Station 2.jpg'></td><td><img src='DEta Net Adjustment by All Ratios for Station 2.jpg'></td><td><img src='DEta Distance to Station 2 Weighted by All Ratios.jpg'></td></tr></table>"
      ],
      "text/plain": [
       "<IPython.core.display.HTML object>"
      ]
     },
     "metadata": {},
     "output_type": "display_data"
    },
    {
     "data": {
      "text/html": [
       "<table><tr><td><img src='DEta Distance to Station 3.jpg'></td><td><img src='DEta Net Adjustment by All Ratios for Station 3.jpg'></td><td><img src='DEta Distance to Station 3 Weighted by All Ratios.jpg'></td></tr></table>"
      ],
      "text/plain": [
       "<IPython.core.display.HTML object>"
      ]
     },
     "metadata": {},
     "output_type": "display_data"
    },
    {
     "name": "stdout",
     "output_type": "stream",
     "text": [
      "\n",
      "\n",
      "\n",
      "\n",
      "                            ------------------------------------------------------------------------------- All Stations Weighted by Iterative Ratios 0: -------------------------------------------------------------------------------\n",
      "\n",
      "\n",
      "\n",
      "\n"
     ]
    },
    {
     "data": {
      "text/html": [
       "<table><tr><td><img src='DEta Distance to Station 0.jpg'></td><td><img src='DEta Net Adjustment by Iterative Ratios 0 for Station 0.jpg'></td><td><img src='DEta Distance to Station 0 Weighted by Iterative Ratios 0.jpg'></td></tr></table>"
      ],
      "text/plain": [
       "<IPython.core.display.HTML object>"
      ]
     },
     "metadata": {},
     "output_type": "display_data"
    },
    {
     "data": {
      "text/html": [
       "<table><tr><td><img src='DEta Distance to Station 1.jpg'></td><td><img src='DEta Net Adjustment by Iterative Ratios 0 for Station 1.jpg'></td><td><img src='DEta Distance to Station 1 Weighted by Iterative Ratios 0.jpg'></td></tr></table>"
      ],
      "text/plain": [
       "<IPython.core.display.HTML object>"
      ]
     },
     "metadata": {},
     "output_type": "display_data"
    },
    {
     "data": {
      "text/html": [
       "<table><tr><td><img src='DEta Distance to Station 2.jpg'></td><td><img src='DEta Net Adjustment by Iterative Ratios 0 for Station 2.jpg'></td><td><img src='DEta Distance to Station 2 Weighted by Iterative Ratios 0.jpg'></td></tr></table>"
      ],
      "text/plain": [
       "<IPython.core.display.HTML object>"
      ]
     },
     "metadata": {},
     "output_type": "display_data"
    },
    {
     "data": {
      "text/html": [
       "<table><tr><td><img src='DEta Distance to Station 3.jpg'></td><td><img src='DEta Net Adjustment by Iterative Ratios 0 for Station 3.jpg'></td><td><img src='DEta Distance to Station 3 Weighted by Iterative Ratios 0.jpg'></td></tr></table>"
      ],
      "text/plain": [
       "<IPython.core.display.HTML object>"
      ]
     },
     "metadata": {},
     "output_type": "display_data"
    },
    {
     "name": "stdout",
     "output_type": "stream",
     "text": [
      "\n",
      "\n",
      "\n",
      "\n",
      "                            ------------------------------------------------------------------------------- All Stations Weighted by Iterative Ratios 1: -------------------------------------------------------------------------------\n",
      "\n",
      "\n",
      "\n",
      "\n"
     ]
    },
    {
     "data": {
      "text/html": [
       "<table><tr><td><img src='DEta Distance to Station 0.jpg'></td><td><img src='DEta Net Adjustment by Iterative Ratios 1 for Station 0.jpg'></td><td><img src='DEta Distance to Station 0 Weighted by Iterative Ratios 1.jpg'></td></tr></table>"
      ],
      "text/plain": [
       "<IPython.core.display.HTML object>"
      ]
     },
     "metadata": {},
     "output_type": "display_data"
    },
    {
     "data": {
      "text/html": [
       "<table><tr><td><img src='DEta Distance to Station 1.jpg'></td><td><img src='DEta Net Adjustment by Iterative Ratios 1 for Station 1.jpg'></td><td><img src='DEta Distance to Station 1 Weighted by Iterative Ratios 1.jpg'></td></tr></table>"
      ],
      "text/plain": [
       "<IPython.core.display.HTML object>"
      ]
     },
     "metadata": {},
     "output_type": "display_data"
    },
    {
     "data": {
      "text/html": [
       "<table><tr><td><img src='DEta Distance to Station 2.jpg'></td><td><img src='DEta Net Adjustment by Iterative Ratios 1 for Station 2.jpg'></td><td><img src='DEta Distance to Station 2 Weighted by Iterative Ratios 1.jpg'></td></tr></table>"
      ],
      "text/plain": [
       "<IPython.core.display.HTML object>"
      ]
     },
     "metadata": {},
     "output_type": "display_data"
    },
    {
     "data": {
      "text/html": [
       "<table><tr><td><img src='DEta Distance to Station 3.jpg'></td><td><img src='DEta Net Adjustment by Iterative Ratios 1 for Station 3.jpg'></td><td><img src='DEta Distance to Station 3 Weighted by Iterative Ratios 1.jpg'></td></tr></table>"
      ],
      "text/plain": [
       "<IPython.core.display.HTML object>"
      ]
     },
     "metadata": {},
     "output_type": "display_data"
    },
    {
     "name": "stdout",
     "output_type": "stream",
     "text": [
      "\n",
      "\n",
      "\n",
      "\n",
      "                            ------------------------------------------------------------------------------- All Stations Weighted by Iterative Ratios 2: -------------------------------------------------------------------------------\n",
      "\n",
      "\n",
      "\n",
      "\n"
     ]
    },
    {
     "data": {
      "text/html": [
       "<table><tr><td><img src='DEta Distance to Station 0.jpg'></td><td><img src='DEta Net Adjustment by Iterative Ratios 2 for Station 0.jpg'></td><td><img src='DEta Distance to Station 0 Weighted by Iterative Ratios 2.jpg'></td></tr></table>"
      ],
      "text/plain": [
       "<IPython.core.display.HTML object>"
      ]
     },
     "metadata": {},
     "output_type": "display_data"
    },
    {
     "data": {
      "text/html": [
       "<table><tr><td><img src='DEta Distance to Station 1.jpg'></td><td><img src='DEta Net Adjustment by Iterative Ratios 2 for Station 1.jpg'></td><td><img src='DEta Distance to Station 1 Weighted by Iterative Ratios 2.jpg'></td></tr></table>"
      ],
      "text/plain": [
       "<IPython.core.display.HTML object>"
      ]
     },
     "metadata": {},
     "output_type": "display_data"
    },
    {
     "data": {
      "text/html": [
       "<table><tr><td><img src='DEta Distance to Station 2.jpg'></td><td><img src='DEta Net Adjustment by Iterative Ratios 2 for Station 2.jpg'></td><td><img src='DEta Distance to Station 2 Weighted by Iterative Ratios 2.jpg'></td></tr></table>"
      ],
      "text/plain": [
       "<IPython.core.display.HTML object>"
      ]
     },
     "metadata": {},
     "output_type": "display_data"
    },
    {
     "data": {
      "text/html": [
       "<table><tr><td><img src='DEta Distance to Station 3.jpg'></td><td><img src='DEta Net Adjustment by Iterative Ratios 2 for Station 3.jpg'></td><td><img src='DEta Distance to Station 3 Weighted by Iterative Ratios 2.jpg'></td></tr></table>"
      ],
      "text/plain": [
       "<IPython.core.display.HTML object>"
      ]
     },
     "metadata": {},
     "output_type": "display_data"
    },
    {
     "name": "stdout",
     "output_type": "stream",
     "text": [
      "\n",
      "\n",
      "\n",
      "\n",
      "                            ------------------------------------------------------------------------------- All Stations Weighted by Iterative Ratios 3: -------------------------------------------------------------------------------\n",
      "\n",
      "\n",
      "\n",
      "\n"
     ]
    },
    {
     "data": {
      "text/html": [
       "<table><tr><td><img src='DEta Distance to Station 0.jpg'></td><td><img src='DEta Net Adjustment by Iterative Ratios 3 for Station 0.jpg'></td><td><img src='DEta Distance to Station 0 Weighted by Iterative Ratios 3.jpg'></td></tr></table>"
      ],
      "text/plain": [
       "<IPython.core.display.HTML object>"
      ]
     },
     "metadata": {},
     "output_type": "display_data"
    },
    {
     "data": {
      "text/html": [
       "<table><tr><td><img src='DEta Distance to Station 1.jpg'></td><td><img src='DEta Net Adjustment by Iterative Ratios 3 for Station 1.jpg'></td><td><img src='DEta Distance to Station 1 Weighted by Iterative Ratios 3.jpg'></td></tr></table>"
      ],
      "text/plain": [
       "<IPython.core.display.HTML object>"
      ]
     },
     "metadata": {},
     "output_type": "display_data"
    },
    {
     "data": {
      "text/html": [
       "<table><tr><td><img src='DEta Distance to Station 2.jpg'></td><td><img src='DEta Net Adjustment by Iterative Ratios 3 for Station 2.jpg'></td><td><img src='DEta Distance to Station 2 Weighted by Iterative Ratios 3.jpg'></td></tr></table>"
      ],
      "text/plain": [
       "<IPython.core.display.HTML object>"
      ]
     },
     "metadata": {},
     "output_type": "display_data"
    },
    {
     "data": {
      "text/html": [
       "<table><tr><td><img src='DEta Distance to Station 3.jpg'></td><td><img src='DEta Net Adjustment by Iterative Ratios 3 for Station 3.jpg'></td><td><img src='DEta Distance to Station 3 Weighted by Iterative Ratios 3.jpg'></td></tr></table>"
      ],
      "text/plain": [
       "<IPython.core.display.HTML object>"
      ]
     },
     "metadata": {},
     "output_type": "display_data"
    }
   ],
   "source": [
    "compile_hist(DEta, '', 0, 1.5)\n",
    "plot_hist(DEta, '')"
   ]
  },
  {
   "cell_type": "code",
   "execution_count": 8,
   "id": "29b5706f-a95a-49fc-8722-17512e6b2694",
   "metadata": {},
   "outputs": [
    {
     "name": "stdout",
     "output_type": "stream",
     "text": [
      "compiled unadjusted\n",
      "compiled adjusted\n",
      "compiled all ratios\n",
      "compiled iterative\n",
      "In peak MC events:  6587 7039 7206 2531\n",
      "Out of peak MC events:  2122 1670 1503 6178\n",
      "In peak Data events:  31436 33261 34215 12364\n",
      "Out of peak Data events:  10166 8341 7387 29238\n",
      "Fraction In/Total MC events:  0.7563440119416696 0.8082443449305317 0.8274199104374784 0.29061889998851764\n",
      "Fraction In/Total Data events:  0.755636748233258 0.7995048314984856 0.8224364213258978 0.29719725013220516\n"
     ]
    },
    {
     "data": {
      "text/html": [
       "<table><tr><td><img src='data Station 0 DT hits.jpg'></td><td><img src='mc Station 0 DT hits.jpg'></td></tr></table>"
      ],
      "text/plain": [
       "<IPython.core.display.HTML object>"
      ]
     },
     "metadata": {},
     "output_type": "display_data"
    },
    {
     "data": {
      "text/html": [
       "<table><tr><td><img src='data Station 1 DT hits.jpg'></td><td><img src='mc Station 1 DT hits.jpg'></td></tr></table>"
      ],
      "text/plain": [
       "<IPython.core.display.HTML object>"
      ]
     },
     "metadata": {},
     "output_type": "display_data"
    },
    {
     "data": {
      "text/html": [
       "<table><tr><td><img src='data Station 2 DT hits.jpg'></td><td><img src='mc Station 2 DT hits.jpg'></td></tr></table>"
      ],
      "text/plain": [
       "<IPython.core.display.HTML object>"
      ]
     },
     "metadata": {},
     "output_type": "display_data"
    },
    {
     "data": {
      "text/html": [
       "<table><tr><td><img src='data Station 3 DT hits.jpg'></td><td><img src='mc Station 3 DT hits.jpg'></td></tr></table>"
      ],
      "text/plain": [
       "<IPython.core.display.HTML object>"
      ]
     },
     "metadata": {},
     "output_type": "display_data"
    }
   ],
   "source": [
    "peak_lim = 0.05\n",
    "ratio_Station, ratio_Iter, dataEvents, mcEvents = compile_hist(DEta, '', 0, 1.5)\n",
    "\n",
    "Data.proximity_mask = []\n",
    "MC.proximity_mask = []\n",
    "for i in range(4):\n",
    "    Data.proximity_mask.append(abs(dataEvents['dtDEtabyStation_'+str(i)]) <= peak_lim)\n",
    "    MC.proximity_mask.append(abs(mcEvents['dtDEtabyStation_'+str(i)]) <= peak_lim)\n",
    "\n",
    "    \n",
    "print('In peak MC events: ', np.sum(MC.proximity_mask[0]), np.sum(MC.proximity_mask[1]), np.sum(MC.proximity_mask[2]), np.sum(MC.proximity_mask[3]))\n",
    "print('Out of peak MC events: ', np.sum(~MC.proximity_mask[0]), np.sum(~MC.proximity_mask[1]), np.sum(~MC.proximity_mask[2]), np.sum(~MC.proximity_mask[3]))\n",
    "\n",
    "print('In peak Data events: ', np.sum(Data.proximity_mask[0]), np.sum(Data.proximity_mask[1]), np.sum(Data.proximity_mask[2]), np.sum(Data.proximity_mask[3]))\n",
    "print('Out of peak Data events: ', np.sum(~Data.proximity_mask[0]), np.sum(~Data.proximity_mask[1]), np.sum(~Data.proximity_mask[2]), np.sum(~Data.proximity_mask[3]))\n",
    "\n",
    "def fraction(prox_mask):\n",
    "    return np.sum(prox_mask)/(np.sum(prox_mask)+np.sum(~prox_mask))\n",
    "\n",
    "print('Fraction In/Total MC events: ', fraction(MC.proximity_mask[0]), fraction(MC.proximity_mask[1]), fraction(MC.proximity_mask[2]), fraction(MC.proximity_mask[3]))\n",
    "print('Fraction In/Total Data events: ', fraction(Data.proximity_mask[0]), fraction(Data.proximity_mask[1]), fraction(Data.proximity_mask[2]), fraction(Data.proximity_mask[3]))\n",
    "\n",
    "\n",
    "Types = [Data, MC]\n",
    "\n",
    "for i in range(4):\n",
    "    bad_bins_filter = [value >= 0 for value in mcEvents['Ratio_Station_'+str(i)].to_list()]\n",
    "    bad_bins = [k for k, x in enumerate(bad_bins_filter) if x]\n",
    "    mc_bad_events = mcEvents[mcEvents['DEta_Bin_Station_'+str(i)].isin(bad_bins)]\n",
    "    data_bad_events = dataEvents[dataEvents['DEta_Bin_Station_'+str(i)].isin(bad_bins)]\n",
    "\n",
    "for type in Types:\n",
    "    Muon_Eta = []\n",
    "    Muon_Phi = []\n",
    "    Event_Weight = []\n",
    "    Muon_EtaN = []\n",
    "    Muon_PhiN = []\n",
    "    Event_WeightN = []\n",
    "    \n",
    "    if type == Data:\n",
    "        EventWeight = data_bad_events['EventWeight']\n",
    "        Muon_eta = data_bad_events['eta']\n",
    "        Muon_phi = data_bad_events['phi']\n",
    "    if type == MC:\n",
    "        EventWeight = mc_bad_events['EventWeight']\n",
    "        Muon_eta = mc_bad_events['eta']\n",
    "        Muon_phi = mc_bad_events['phi']\n",
    "\n",
    "    for i in range (4):\n",
    "        Muon_Eta.append([float(value) for value in Muon_eta[type.proximity_mask[i]]]) #Muon_eta is eta masked\n",
    "        Muon_Phi.append([float(value) for value in Muon_phi[type.proximity_mask[i]]]) #Muon_phi is eta masked\n",
    "        Event_Weight.append([float(value) for value in EventWeight[type.proximity_mask[i]]])\n",
    "        Muon_EtaN.append([float(value) for value in Muon_eta[~type.proximity_mask[i]]]) #Muon_eta is eta masked\n",
    "        Muon_PhiN.append([float(value) for value in Muon_phi[~type.proximity_mask[i]]]) #Muon_phi is eta masked\n",
    "        Event_WeightN.append([float(value) for value in EventWeight[~type.proximity_mask[i]]])\n",
    "\n",
    "\n",
    "    Total_Hits = np.histogram2d(Muon_eta, Muon_phi, bins=(100,100), range=[[-2.5, 2.5],[-math.pi, math.pi]], density=None, weights=EventWeight)\n",
    "    Prox_Hits = []\n",
    "    Eff_Hits = []\n",
    "    \n",
    "    for i in range (4):\n",
    "        Prox_Hits.append(np.histogram2d(Muon_Eta[i], Muon_Phi[i], bins=(100,100), range=[[-2.5, 2.5],[-math.pi, math.pi]], density=None, weights=Event_Weight[i]))\n",
    "        Eff_Hits.append(np.divide(Prox_Hits[i][0],Total_Hits[0]))\n",
    "        xedges, yedges = Prox_Hits[i][2], Prox_Hits[i][1]\n",
    "        fig = plt.figure(figsize=(30, 30), dpi=100)\n",
    "        ax = fig.add_subplot(131, title=str(type.name)+' Station '+str(i)+' DT hits, eta_mask + peak isolation DEta <= '+str(peak_lim))\n",
    "        plt.imshow(Eff_Hits[i], interpolation='nearest', origin='lower',\n",
    "            extent=[xedges[0], xedges[-1], yedges[0], yedges[-1]])\n",
    "        plt.xlabel('Muon $\\phi$')\n",
    "        plt.ylabel('Muon $\\eta$')\n",
    "        plt.colorbar(fraction=0.035, pad=0.04)\n",
    "        ax.yaxis.set_major_locator(ticker.MultipleLocator(0.1))\n",
    "        \n",
    "        plt.subplots_adjust(left=0.1, right=0.9, bottom=0.1, top=0.9)\n",
    "        plt.tight_layout(pad=1.08, h_pad=None, w_pad=None, rect=None)\n",
    "        plt.savefig(str(type.name)+' Station '+str(i)+' DT hits.jpg', bbox_inches='tight')\n",
    "        plt.close()\n",
    "\n",
    "for i in range(4):\n",
    "    display(HTML(\"<table><tr><td><img src='data Station \"+str(i)+\" DT hits.jpg'></td><td><img src='mc Station \"+str(i)+\" DT hits.jpg'></td></tr></table>\"))\n"
   ]
  },
  {
   "cell_type": "code",
   "execution_count": 9,
   "id": "79deb766-b392-4267-827f-9022b924ec75",
   "metadata": {},
   "outputs": [
    {
     "name": "stdout",
     "output_type": "stream",
     "text": [
      "In peak eta_masked MC events:  7322 7633 7546 7487\n",
      "Out of peak eta_masked MC events:  1387 1076 1163 1222\n",
      "In peak eta_masked Data events:  35303 36379 36174 36575\n",
      "Out of peak eta_masked Data events:  6299 5223 5428 5027\n",
      "Fraction In/Total eta_masked MC events:  0.8407394649213458 0.8764496497875761 0.8664599839246756 0.8596853829371914\n",
      "Fraction In/Total eta_masked Data events:  0.8485890101437431 0.8744531512908034 0.8695255035815586 0.8791644632469593\n"
     ]
    }
   ],
   "source": [
    "peak_lim = 0.25\n",
    "\n",
    "Data.proximity_mask = []\n",
    "MC.proximity_mask = []\n",
    "for i in range(4):\n",
    "    Data.proximity_mask.append(abs(data_bad_events['dtDEtabyStation_'+str(i)]) <= peak_lim)\n",
    "    MC.proximity_mask.append(abs(mc_bad_events['dtDEtabyStation_'+str(i)])<= peak_lim)\n",
    "    \n",
    "print('In peak eta_masked MC events: ', np.sum(MC.proximity_mask[0]), np.sum(MC.proximity_mask[1]), np.sum(MC.proximity_mask[2]), np.sum(MC.proximity_mask[3]))\n",
    "print('Out of peak eta_masked MC events: ', np.sum(~MC.proximity_mask[0]), np.sum(~MC.proximity_mask[1]), np.sum(~MC.proximity_mask[2]), np.sum(~MC.proximity_mask[3]))\n",
    "\n",
    "print('In peak eta_masked Data events: ', np.sum(Data.proximity_mask[0]), np.sum(Data.proximity_mask[1]), np.sum(Data.proximity_mask[2]), np.sum(Data.proximity_mask[3]))\n",
    "print('Out of peak eta_masked Data events: ', np.sum(~Data.proximity_mask[0]), np.sum(~Data.proximity_mask[1]), np.sum(~Data.proximity_mask[2]), np.sum(~Data.proximity_mask[3]))\n",
    "\n",
    "def fraction(prox_mask):\n",
    "    return np.sum(prox_mask)/(np.sum(prox_mask)+np.sum(~prox_mask))\n",
    "\n",
    "print('Fraction In/Total eta_masked MC events: ', fraction(MC.proximity_mask[0]), fraction(MC.proximity_mask[1]), fraction(MC.proximity_mask[2]), fraction(MC.proximity_mask[3]))\n",
    "print('Fraction In/Total eta_masked Data events: ', fraction(Data.proximity_mask[0]), fraction(Data.proximity_mask[1]), fraction(Data.proximity_mask[2]), fraction(Data.proximity_mask[3]))"
   ]
  },
  {
   "cell_type": "code",
   "execution_count": 10,
   "id": "9c33d957-a086-4300-bc59-c3077fddaa6e",
   "metadata": {},
   "outputs": [
    {
     "data": {
      "text/html": [
       "<table><tr><td><img src='data Station 0 DT hits_far.jpg'></td><td><img src='mc Station 0 DT hits_far.jpg'></td></tr></table>"
      ],
      "text/plain": [
       "<IPython.core.display.HTML object>"
      ]
     },
     "metadata": {},
     "output_type": "display_data"
    },
    {
     "data": {
      "text/html": [
       "<table><tr><td><img src='data Station 1 DT hits_far.jpg'></td><td><img src='mc Station 1 DT hits_far.jpg'></td></tr></table>"
      ],
      "text/plain": [
       "<IPython.core.display.HTML object>"
      ]
     },
     "metadata": {},
     "output_type": "display_data"
    },
    {
     "data": {
      "text/html": [
       "<table><tr><td><img src='data Station 2 DT hits_far.jpg'></td><td><img src='mc Station 2 DT hits_far.jpg'></td></tr></table>"
      ],
      "text/plain": [
       "<IPython.core.display.HTML object>"
      ]
     },
     "metadata": {},
     "output_type": "display_data"
    },
    {
     "data": {
      "text/html": [
       "<table><tr><td><img src='data Station 3 DT hits_far.jpg'></td><td><img src='mc Station 3 DT hits_far.jpg'></td></tr></table>"
      ],
      "text/plain": [
       "<IPython.core.display.HTML object>"
      ]
     },
     "metadata": {},
     "output_type": "display_data"
    }
   ],
   "source": [
    "Data.proximity_mask = []\n",
    "MC.proximity_mask = []\n",
    "\n",
    "out_of_peak_lim = 1\n",
    "\n",
    "for i in range(4):\n",
    "    Data.proximity_mask.append(abs(data_bad_events['dtDEtabyStation_'+str(i)]) >= out_of_peak_lim)\n",
    "    MC.proximity_mask.append(abs(mc_bad_events['dtDEtabyStation_'+str(i)]) >= out_of_peak_lim)\n",
    "\n",
    "for type in Types:\n",
    "    Muon_Eta = []\n",
    "    Muon_Phi = []\n",
    "    Event_Weight = []\n",
    "    Muon_EtaN = []\n",
    "    Muon_PhiN = []\n",
    "    Event_WeightN = []\n",
    "    \n",
    "    if type == Data:\n",
    "        EventWeight = data_bad_events['EventWeight']\n",
    "        Muon_eta = data_bad_events['eta']\n",
    "        Muon_phi = data_bad_events['phi']\n",
    "    if type == MC:\n",
    "        EventWeight = mc_bad_events['EventWeight']\n",
    "        Muon_eta = mc_bad_events['eta']\n",
    "        Muon_phi = mc_bad_events['phi']\n",
    "\n",
    "    for i in range (4):\n",
    "        Muon_Eta.append([float(value) for value in Muon_eta[type.proximity_mask[i]]]) #Muon_eta is eta masked\n",
    "        Muon_Phi.append([float(value) for value in Muon_phi[type.proximity_mask[i]]]) #Muon_phi is eta masked\n",
    "        Event_Weight.append([float(value) for value in EventWeight[type.proximity_mask[i]]])\n",
    "        Muon_EtaN.append([float(value) for value in Muon_eta[~type.proximity_mask[i]]]) #Muon_eta is eta masked\n",
    "        Muon_PhiN.append([float(value) for value in Muon_phi[~type.proximity_mask[i]]]) #Muon_phi is eta masked\n",
    "        Event_WeightN.append([float(value) for value in EventWeight[~type.proximity_mask[i]]])\n",
    "\n",
    "\n",
    "    Total_Hits = np.histogram2d(Muon_eta, Muon_phi, bins=(100,100), range=[[-2.5, 2.5],[-math.pi, math.pi]], density=None, weights=EventWeight)\n",
    "    Prox_Hits = []\n",
    "    Eff_Hits = []\n",
    "    \n",
    "    for i in range (4):\n",
    "        Prox_Hits.append(np.histogram2d(Muon_Eta[i], Muon_Phi[i], bins=(100,100), range=[[-2.5, 2.5],[-math.pi, math.pi]], density=None, weights=Event_Weight[i]))\n",
    "        Eff_Hits.append(np.divide(Prox_Hits[i][0],Total_Hits[0]))\n",
    "        xedges, yedges = Prox_Hits[i][2], Prox_Hits[i][1]\n",
    "        fig = plt.figure(figsize=(30, 30), dpi=100)\n",
    "        ax = fig.add_subplot(131, title=str(type.name)+' Station '+str(i)+' DT hits, eta_mask + far isolation DEta >= '+str(out_of_peak_lim))\n",
    "        plt.imshow(Eff_Hits[i], interpolation='nearest', origin='lower',\n",
    "            extent=[xedges[0], xedges[-1], yedges[0], yedges[-1]])\n",
    "        plt.xlabel('Muon $\\phi$')\n",
    "        plt.ylabel('Muon $\\eta$')\n",
    "        plt.colorbar(fraction=0.035, pad=0.04)\n",
    "        ax.yaxis.set_major_locator(ticker.MultipleLocator(0.1))\n",
    "        \n",
    "        plt.subplots_adjust(left=0.1, right=0.9, bottom=0.1, top=0.9)\n",
    "        plt.tight_layout(pad=1.08, h_pad=None, w_pad=None, rect=None)\n",
    "        plt.savefig(str(type.name)+' Station '+str(i)+' DT hits_far.jpg', bbox_inches='tight')\n",
    "        plt.close()\n",
    "\n",
    "for i in range(4):\n",
    "    display(HTML(\"<table><tr><td><img src='data Station \"+str(i)+\" DT hits_far.jpg'></td><td><img src='mc Station \"+str(i)+\" DT hits_far.jpg'></td></tr></table>\"))\n"
   ]
  },
  {
   "cell_type": "code",
   "execution_count": 11,
   "id": "282e8e31-7583-4a38-8007-8f04f53c148a",
   "metadata": {},
   "outputs": [
    {
     "data": {
      "image/png": "[encoded data removed]",
      "text/plain": [
       "<Figure size 640x480 with 1 Axes>"
      ]
     },
     "metadata": {},
     "output_type": "display_data"
    },
    {
     "data": {
      "image/png": "[encoded data removed]",
      "text/plain": [
       "<Figure size 640x480 with 1 Axes>"
      ]
     },
     "metadata": {},
     "output_type": "display_data"
    },
    {
     "data": {
      "image/png": "[encoded data removed]",
      "text/plain": [
       "<Figure size 640x480 with 1 Axes>"
      ]
     },
     "metadata": {},
     "output_type": "display_data"
    },
    {
     "data": {
      "image/png": "[encoded data removed]",
      "text/plain": [
       "<Figure size 640x480 with 1 Axes>"
      ]
     },
     "metadata": {},
     "output_type": "display_data"
    },
    {
     "data": {
      "image/png": "[encoded data removed]",
      "text/plain": [
       "<Figure size 640x480 with 1 Axes>"
      ]
     },
     "metadata": {},
     "output_type": "display_data"
    },
    {
     "data": {
      "image/png": "[encoded data removed]",
      "text/plain": [
       "<Figure size 640x480 with 1 Axes>"
      ]
     },
     "metadata": {},
     "output_type": "display_data"
    },
    {
     "data": {
      "image/png": "[encoded data removed]",
      "text/plain": [
       "<Figure size 640x480 with 1 Axes>"
      ]
     },
     "metadata": {},
     "output_type": "display_data"
    },
    {
     "data": {
      "image/png": "[encoded data removed]",
      "text/plain": [
       "<Figure size 640x480 with 1 Axes>"
      ]
     },
     "metadata": {},
     "output_type": "display_data"
    },
    {
     "data": {
      "image/png": "[encoded data removed]",
      "text/plain": [
       "<Figure size 640x480 with 1 Axes>"
      ]
     },
     "metadata": {},
     "output_type": "display_data"
    },
    {
     "data": {
      "image/png": "[encoded data removed]",
      "text/plain": [
       "<Figure size 640x480 with 1 Axes>"
      ]
     },
     "metadata": {},
     "output_type": "display_data"
    },
    {
     "data": {
      "image/png": "[encoded data removed]",
      "text/plain": [
       "<Figure size 640x480 with 1 Axes>"
      ]
     },
     "metadata": {},
     "output_type": "display_data"
    },
    {
     "data": {
      "image/png": "[encoded data removed]",
      "text/plain": [
       "<Figure size 640x480 with 1 Axes>"
      ]
     },
     "metadata": {},
     "output_type": "display_data"
    },
    {
     "data": {
      "image/png": "[encoded data removed]",
      "text/plain": [
       "<Figure size 640x480 with 1 Axes>"
      ]
     },
     "metadata": {},
     "output_type": "display_data"
    },
    {
     "data": {
      "image/png": "[encoded data removed]",
      "text/plain": [
       "<Figure size 640x480 with 1 Axes>"
      ]
     },
     "metadata": {},
     "output_type": "display_data"
    },
    {
     "data": {
      "image/png": "[encoded data removed]",
      "text/plain": [
       "<Figure size 640x480 with 1 Axes>"
      ]
     },
     "metadata": {},
     "output_type": "display_data"
    },
    {
     "data": {
      "image/png": "[encoded data removed]",
      "text/plain": [
       "<Figure size 640x480 with 1 Axes>"
      ]
     },
     "metadata": {},
     "output_type": "display_data"
    }
   ],
   "source": [
    "weights = MC.EventWeight\n",
    "for i in range(4):\n",
    "    weights = weights*mcEvents['Ratio_Iter_'+str(i)].to_list()\n",
    "    plt.hist(weights, bins=100, range=(0, 5), density=None)\n",
    "    plt.xlabel('Iterated Ratio Weights')\n",
    "    plt.ylabel('Freq')\n",
    "    plt.show()\n",
    "\n",
    "for i in range(4):\n",
    "    weights = MC.EventWeight*mcEvents['Ratio_Station_'+str(i)].to_list()\n",
    "    plt.hist(weights, bins=100, range=(0, 5), density=None)\n",
    "    plt.xlabel('Ratio Weights')\n",
    "    plt.ylabel('Freq')\n",
    "    plt.show()\n",
    "\n",
    "for i in range(4):\n",
    "    plt.scatter(mcEvents['dtDRbyStation_'+str(i)].to_list(), mcEvents['EventWeight'].to_list())\n",
    "    plt.xlabel('DR')\n",
    "    plt.ylabel('Event Weight')\n",
    "    plt.show()\n",
    "\n",
    "for i in range(4):\n",
    "    plt.scatter(mcEvents['dtDRbyStation_'+str(i)].to_list(), mcEvents['Ratio_Station_'+str(i)].to_list())\n",
    "    plt.xlabel('DR')\n",
    "    plt.ylabel('Ratio Weight')\n",
    "    plt.show()"
   ]
  }
 ],
 "metadata": {
  "kernelspec": {
   "display_name": "Python 3 (ipykernel)",
   "language": "python",
   "name": "python3"
  },
  "language_info": {
   "codemirror_mode": {
    "name": "ipython",
    "version": 3
   },
   "file_extension": ".py",
   "mimetype": "text/x-python",
   "name": "python",
   "nbconvert_exporter": "python",
   "pygments_lexer": "ipython3",
   "version": "3.11.2"
  }
 },
 "nbformat": 4,
 "nbformat_minor": 5
}
