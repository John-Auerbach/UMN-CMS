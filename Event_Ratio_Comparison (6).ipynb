{
 "cells": [
  {
   "cell_type": "code",
   "execution_count": 1,
   "id": "9067c1f3-ba25-45dc-beb5-c1d6f99f2c53",
   "metadata": {
    "scrolled": true
   },
   "outputs": [
    {
     "name": "stderr",
     "output_type": "stream",
     "text": [
      "C:\\Users\\scien\\AppData\\Local\\Programs\\Python\\Python311\\Lib\\site-packages\\awkward\\_backends\\backend.py:47: RuntimeWarning: divide by zero encountered in divide\n",
      "  return getattr(ufunc, method)(*args, **kwargs)\n",
      "C:\\Users\\scien\\AppData\\Local\\Programs\\Python\\Python311\\Lib\\site-packages\\awkward\\_backends\\backend.py:47: RuntimeWarning: divide by zero encountered in divide\n",
      "  return getattr(ufunc, method)(*args, **kwargs)\n",
      "C:\\Users\\scien\\AppData\\Local\\Programs\\Python\\Python311\\Lib\\site-packages\\awkward\\_backends\\backend.py:47: RuntimeWarning: invalid value encountered in divide\n",
      "  return getattr(ufunc, method)(*args, **kwargs)\n",
      "C:\\Users\\scien\\AppData\\Local\\Programs\\Python\\Python311\\Lib\\site-packages\\awkward\\_backends\\backend.py:47: RuntimeWarning: divide by zero encountered in divide\n",
      "  return getattr(ufunc, method)(*args, **kwargs)\n"
     ]
    },
    {
     "name": "stdout",
     "output_type": "stream",
     "text": [
      "   dtDRbyStation_0  dtDRbyStation_1  dtDRbyStation_2  dtDRbyStation_3  \\\n",
      "0         0.003113         0.011677         0.027124         0.086096   \n",
      "1         0.000978         0.016429         0.145126        -1.000000   \n",
      "2        -1.000000        -1.000000        -1.000000        -1.000000   \n",
      "3         0.005267         0.022024         0.025454         0.131981   \n",
      "4         0.008294         1.224543        -1.000000        -1.000000   \n",
      "5         1.006731        -1.000000        -1.000000        -1.000000   \n",
      "6         2.189438        -1.000000        -1.000000        -1.000000   \n",
      "7         2.664225         2.543316        -1.000000        -1.000000   \n",
      "8         0.002414        -1.000000        -1.000000        -1.000000   \n",
      "9         1.518746         2.235365        -1.000000        -1.000000   \n",
      "\n",
      "   EventWeight  Bin_Station_0  Bin_Station_1  Bin_Station_2  Bin_Station_3  \\\n",
      "0     0.946733            0.0            3.0            7.0           24.0   \n",
      "1     0.971515            0.0            4.0           41.0           -1.0   \n",
      "2     0.861194           -1.0           -1.0           -1.0           -1.0   \n",
      "3     0.950887            1.0            6.0            7.0           37.0   \n",
      "4     1.294876            2.0          100.0           -1.0           -1.0   \n",
      "5     0.982704          100.0           -1.0           -1.0           -1.0   \n",
      "6     0.980873          100.0           -1.0           -1.0           -1.0   \n",
      "7     1.010017          100.0          100.0           -1.0           -1.0   \n",
      "8     0.955547            0.0           -1.0           -1.0           -1.0   \n",
      "9     1.004713          100.0          100.0           -1.0           -1.0   \n",
      "\n",
      "   Ratio_Station_0  Ratio_Station_1  Ratio_Station_2  Ratio_Station_3  \n",
      "0         1.045126         0.912808         0.899435         0.937312  \n",
      "1         1.045126         0.898779         1.323059         1.000000  \n",
      "2         2.206955         1.000000         0.776888         1.000000  \n",
      "3         0.936761         0.850802         0.899435         1.074318  \n",
      "4         0.979592         1.000000         0.776888         1.000000  \n",
      "5         2.206955         1.000000         0.776888         1.000000  \n",
      "6         2.206955         1.000000         0.776888         1.000000  \n",
      "7         2.206955         1.000000         0.776888         1.000000  \n",
      "8         1.045126         1.000000         0.776888         1.000000  \n",
      "9         2.206955         1.000000         0.776888         1.000000  \n"
     ]
    }
   ],
   "source": [
    "import uproot\n",
    "import awkward as ak\n",
    "import matplotlib.pyplot as plt\n",
    "import numpy as np\n",
    "import pandas as pd\n",
    "import math\n",
    "\n",
    "\n",
    "class Type:\n",
    "    def __init__(self, name):\n",
    "        self.name = name\n",
    "        self.sameSignFile = uproot.open('highHcal_'+str(self.name)+'_tagAligned (1).root')\n",
    "        self.sameSignEvents = self.sameSignFile['demo']['allEvents']['sigVariables']\n",
    "        self.branches = self.sameSignEvents.arrays()\n",
    "        self.eta = self.branches['eta']\n",
    "        self.phi = self.branches['phi']\n",
    "        self.DR_S = []\n",
    "        self.EventWeight = self.branches['EventWeight']\n",
    "        for i in range (4):\n",
    "            self.DR_S.append(self.branches['dtDRbyStation_' + str(i)])\n",
    "\n",
    "Data = Type('data')\n",
    "MC = Type('mc')\n",
    "\n",
    "#Data.sameSignFile.keys()\n",
    "#Data.sameSignEvents\n",
    "#Data.sameSignEvents.keys()\n",
    "#Data.branches['pt']\n",
    "\n",
    "#Coord refers to eta, phi, or Delta R (DR)\n",
    "class Coord:\n",
    "    def __init__(self,name,x1,x2,bins):\n",
    "        self.name = name\n",
    "        self.x1 = x1\n",
    "        self.x2 = x2\n",
    "        self.bins = np.linspace(x1, x2, bins+1)  # creates an array of bin edges\n",
    "        self.bin_width = (x2 - x1) / bins\n",
    "\n",
    "\n",
    "# Initialize class to help calculate normalized histograms for any data set\n",
    "class NormalizedHist:\n",
    "    def __init__(self, data, view_bins, bin_width):\n",
    "        self.data = data[0]\n",
    "        self.view_bins = view_bins\n",
    "        self.bin_width = bin_width\n",
    "        self.norm_factor = 1 / (np.sum(self.data) * self.bin_width)      # normalization factor\n",
    "        self.temp = (data[1] + self.bin_width / 2)                       # offset bin edge values by + 1/2 bin\n",
    "        self.bin_centers = self.temp[:-1]                                # cut last value to give bin center\n",
    "        self.freq = self.data * self.norm_factor                         # normalized frequency\n",
    "        self.err = (self.data ** 0.5) * self.norm_factor                 # normalized vertical error bar\n",
    "\n",
    "\n",
    "#---------------------------------------------------------------------------------------------------------------------------------------\n",
    "\n",
    "DR = Coord('DR',0,0.35,100)   # set delta R edges/bin\n",
    "\n",
    "# Use pandas to make an array of values ordered by event ID\n",
    "features = ['dtDRbyStation_0', 'dtDRbyStation_1', 'dtDRbyStation_2', 'dtDRbyStation_3', 'EventWeight']\n",
    "mcEvents = MC.sameSignEvents.arrays(features, library='pd')\n",
    "\n",
    "features = ['dtDRbyStation_0', 'dtDRbyStation_1', 'dtDRbyStation_2', 'dtDRbyStation_3']\n",
    "dataEvents = Data.sameSignEvents.arrays(features, library='pd')\n",
    "\n",
    "for i in range(4):\n",
    "    bin_indices = np.zeros_like(MC.DR_S[i].to_numpy())         # Array for storing bin indices\n",
    "    for j, deltaR in enumerate(MC.DR_S[i]):                    # [(0, delta_R), (1, delta_R) ...] <--- list(enumerate(\")) should give this\n",
    "        bin_indices[j] = np.digitize(deltaR, DR.bins) - 1      # returns bin index for each delta R\n",
    "        mcEvents['Bin_Station_'+str(i)] = bin_indices          # Add new column with bin indices\n",
    "#print(mcEvents[:5])\n",
    "\n",
    "ratio_station = []\n",
    "ratio_freq = []               # this will make sense later, keep scrolling\n",
    "\n",
    "applied_Ratio = []\n",
    "#---------------------------------------------------------------------------------------------------------------------------------------\n",
    "\n",
    "# Method for plotting histograms\n",
    "def plot_hist(DR, i, x1, x2): \n",
    "   \n",
    "    \n",
    "    # Create numpy histogram data for Data & MC so ratio can be calculated by initializing each as NormalizedHist Class\n",
    "    data_hist = NormalizedHist(np.histogram(Data.DR_S[i], bins=DR.bins, range=(DR.x1, DR.x2), density=None), len(DR.bins), DR.bin_width)\n",
    "    mc_hist = NormalizedHist(np.histogram(MC.DR_S[i], bins=DR.bins, range=(DR.x1, DR.x2), density=None, weights=MC.EventWeight), len(DR.bins), DR.bin_width)\n",
    "    \n",
    "    ratio_freq = np.divide(data_hist.freq, mc_hist.freq)\n",
    "    ratio_freq = [1 if math.isinf(x) else x for x in ratio_freq] # goodify the infinities\n",
    "    ratio_err = ratio_freq * np.sqrt((data_hist.err / (data_hist.freq + 1e-10))**2 + (mc_hist.err / (mc_hist.freq + 1e-10))**2) \n",
    "    # calculate ratio error -> propagation of uncertainty\n",
    "\n",
    "    # save ratio_freq per station for later\n",
    "    applied_Ratio.append(ratio_freq)\n",
    "    \n",
    "    # Loop over events, assign bin ratio to each event\n",
    "    ratio_station.append(np.zeros_like(MC.DR_S[i].to_numpy()))             # create empty array similar to DR for station[j]\n",
    "    for k, deltaR in enumerate(MC.DR_S[i]):                                # [(0, delta_R), (1, delta_R) ...] <--- list(enumerate(\")) should give this\n",
    "        bin_index = np.digitize(deltaR, DR.bins) - 1                       # returns bin index for each delta R\n",
    "        if bin_index >= len(ratio_freq):                                   # check if index is out of bound\n",
    "            bin_index = len(ratio_freq) - 1                                # assign the last valid index\n",
    "        ratio_station[i][k] = ratio_freq[bin_index]                        # find item j in array and change it to the ratio_freq of that bin index\n",
    "\n",
    "    assert len(mcEvents) == len(ratio_station[i])            # make sure length matches\n",
    "    mcEvents['Ratio_Station_'+str(i)] = ratio_station[i]     # add new column\n",
    "\n",
    "    #PLOT----------------------------------------------------------------------------------------------------------------------------------\n",
    "\n",
    "    # Adjusting axs[0].step from bin edge to bin center results in loss of first bar because it is shifted 1/2 bin width; this adds that point back at 0\n",
    "    step_bc = mc_hist.bin_centers+DR.bin_width/2\n",
    "    step_f = mc_hist.freq\n",
    "    step_bc.to_numpy\n",
    "    step_f.to_numpy\n",
    "    step_bin_centers = np.insert(step_bc, 0, 0.0)\n",
    "    step_freq = np.insert(step_f, 0, mc_hist.freq[0])\n",
    "\n",
    "    # Set up histogram, use bars for MC\n",
    "    \n",
    "    fig, axs = plt.subplots(2, sharex=True, gridspec_kw={'hspace': 0, 'height_ratios': [3, 1]}, figsize=(7, 5))\n",
    "    axs[0].step(step_bin_centers, step_freq, label='Monte Carlo') \n",
    "    axs[0].set_title('Distance to Station '+str(i))\n",
    "    axs[0].set_ylabel('Event Frequency (Normalized)')\n",
    "    axs[0].set_yscale('log')\n",
    "    \n",
    "    # Scatter data by attribute\n",
    "    axs[0].scatter(data_hist.bin_centers, data_hist.freq, s=10, color='darkorange', label='Data')\n",
    "    axs[0].errorbar(data_hist.bin_centers, data_hist.freq, xerr=DR.bin_width/2, yerr=mc_hist.err, fmt='+')\n",
    "    axs[0].set_xlim(x1, x2)\n",
    "    axs[0].legend()\n",
    "\n",
    "    # Scatter ratio plot\n",
    "    axs[1].scatter(data_hist.bin_centers, ratio_freq, s=10)\n",
    "    axs[1].errorbar(data_hist.bin_centers, ratio_freq, yerr=ratio_err, fmt='+')\n",
    "    axs[1].set_ylim(0,2)\n",
    "    axs[1].set_ylabel('Ratio')\n",
    "    axs[1].set_xlabel('$\\Delta R$ to Station '+str(i))\n",
    "    \n",
    "    plt.savefig('Distance to Station '+str(i)+'.jpg')\n",
    "    plt.close()\n",
    "\n",
    "    return mc_hist, data_hist\n",
    "\n",
    "    #-------------------------------------------------------------------------------------------------------------------------------------\n",
    "    \n",
    "# Do the thing\n",
    "for i in range (4):\n",
    "    plot_hist(DR, i, 0, 0.35)\n",
    "\n",
    "print(mcEvents[:10])"
   ]
  },
  {
   "cell_type": "code",
   "execution_count": 2,
   "id": "10fa2c9d-ca53-46e7-b0f1-3b9a3cc37042",
   "metadata": {},
   "outputs": [
    {
     "name": "stdout",
     "output_type": "stream",
     "text": [
      "done\n"
     ]
    }
   ],
   "source": [
    "weights_Station = []\n",
    "\n",
    "def plot_hist_adj(DR, i, x1, x2, j): \n",
    "\n",
    "    if i == 0:\n",
    "        weights_Station.append(MC.EventWeight*mcEvents['Ratio_Station_'+str(j)].to_list())\n",
    "        \n",
    "    # Create numpy histogram data for Data & MC so ratio can be calculated by initializing each as NormalizedHist Class\n",
    "    data_hist = NormalizedHist(np.histogram(Data.DR_S[i], bins=DR.bins, range=(DR.x1, DR.x2), density=None), len(DR.bins), DR.bin_width)\n",
    "    mc_hist = NormalizedHist(np.histogram(MC.DR_S[i], bins=DR.bins, range=(DR.x1, DR.x2), density=None, weights=MC.EventWeight), len(DR.bins), DR.bin_width)\n",
    "    mc_hist_adj = NormalizedHist(np.histogram(MC.DR_S[i], bins=DR.bins, range=(DR.x1, DR.x2), density=None, weights=weights_Station[j]), len(DR.bins), DR.bin_width)\n",
    "\n",
    "    adj_factor = np.divide(mc_hist_adj.freq, mc_hist.freq + 1e-10)\n",
    "    \n",
    "    ratio_freq = np.divide(data_hist.freq, mc_hist_adj.freq + 1e-10)    # 1e-10 prevents divide by 0\n",
    "    ratio_err = ratio_freq * np.sqrt((data_hist.err / (data_hist.freq + 1e-10))**2 + (mc_hist_adj.err / (mc_hist_adj.freq + 1e-10))**2)\n",
    "    \n",
    "    # calculate ratio error -> propagation of uncertainty\n",
    "\n",
    "    #PLOT----------------------------------------------------------------------------------------------------------------------------------\n",
    "\n",
    "    # Adjusting axs[0] step from bin edge to bin center results in loss of first bar because it is shifted 1/2 bin width; this adds that point back at 0\n",
    "    step_bc = mc_hist_adj.bin_centers+DR.bin_width/2\n",
    "    step_f = mc_hist_adj.freq\n",
    "    step_bc.to_numpy\n",
    "    step_f.to_numpy\n",
    "    step_bin_centers = np.insert(step_bc, 0, 0.0)\n",
    "    step_freq = np.insert(step_f, 0, mc_hist_adj.freq[0])\n",
    "\n",
    "    # Set up histogram, use bars for MC\n",
    "    fig, axs = plt.subplots(2, sharex=True, gridspec_kw={'hspace': 0, 'height_ratios': [3, 1]}, figsize=(7, 5))\n",
    "    axs[0].step(step_bin_centers, step_freq, label='Monte Carlo') \n",
    "    axs[0].set_title('Distance to Station '+str(i)+' Weighted by Station '+str(j)+' Ratios')\n",
    "    axs[0].set_ylabel('Event Frequency (Normalized)')\n",
    "    axs[0].set_yscale('log')\n",
    "    \n",
    "    # Scatter data by attribute\n",
    "    axs[0].scatter(data_hist.bin_centers, data_hist.freq, s=10, color='darkorange', label='Data')\n",
    "    axs[0].errorbar(data_hist.bin_centers, data_hist.freq, xerr=DR.bin_width/2, yerr=mc_hist_adj.err, fmt='+')\n",
    "    axs[0].set_xlim(x1, x2)\n",
    "    axs[0].legend()\n",
    "\n",
    "    # Scatter ratio plot\n",
    "    axs[1].scatter(data_hist.bin_centers, ratio_freq, s=10)\n",
    "    axs[1].errorbar(data_hist.bin_centers, ratio_freq, yerr=ratio_err, fmt='+')\n",
    "    axs[1].set_ylim(0,2)\n",
    "    axs[1].set_ylabel('Ratio')\n",
    "    axs[1].set_xlabel('$\\Delta R$ to Station '+str(i))\n",
    "    \n",
    "    plt.savefig('Distance to Station '+str(i)+' Weighted by Station '+str(j)+' Ratios.jpg')\n",
    "    plt.close()  # prevents figure from being displayed when code cell is executed\n",
    "\n",
    "    plt.scatter(data_hist.bin_centers, adj_factor)\n",
    "    plt.xlabel('$\\Delta R$ to Station '+str(j))\n",
    "    plt.ylabel('Adjustment Factor')\n",
    "    plt.title('Net Adjustment by Station '+str(j)+' Ratios for Station '+str(i))\n",
    "\n",
    "    plt.savefig('Net Adjustment by Station '+str(j)+' Ratios for Station '+str(i)+'.jpg')\n",
    "    plt.close()\n",
    "\n",
    "    return mc_hist_adj, data_hist\n",
    "\n",
    "    #-------------------------------------------------------------------------------------------------------------------------------------\n",
    "\n",
    "for j in range (4):                          #j iterates through station weights\n",
    "    for i in range (4):                      #i iterates through stations\n",
    "        plot_hist_adj(DR, i, 0, 0.35, j)\n",
    "\n",
    "print('done')"
   ]
  },
  {
   "cell_type": "code",
   "execution_count": 3,
   "id": "f95cc831-312c-4609-931b-4334f1bf781b",
   "metadata": {},
   "outputs": [
    {
     "name": "stdout",
     "output_type": "stream",
     "text": [
      "done\n"
     ]
    }
   ],
   "source": [
    "def plot_hist_AR(DR, i, x1, x2): \n",
    "\n",
    "    all_ratios = np.multiply(np.multiply(applied_Ratio[0], applied_Ratio[1]), np.multiply(applied_Ratio[2], applied_Ratio[3])) # by bin\n",
    "\n",
    "    if i == 0:\n",
    "        mcEvents['All_Ratios'] = mcEvents['Ratio_Station_0']*mcEvents['Ratio_Station_1']*mcEvents['Ratio_Station_2']*mcEvents['Ratio_Station_3'] # by event\n",
    "        \n",
    "    all_Weights = MC.EventWeight*mcEvents['All_Ratios'].to_list()\n",
    "    \n",
    "    # Create numpy histogram data for Data & MC so ratio can be calculated by initializing each as NormalizedHist Class\n",
    "    data_hist = NormalizedHist(np.histogram(Data.DR_S[i], bins=DR.bins, range=(DR.x1, DR.x2), density=None), len(DR.bins), DR.bin_width)\n",
    "    mc_hist = NormalizedHist(np.histogram(MC.DR_S[i], bins=DR.bins, range=(DR.x1, DR.x2), density=None, weights=MC.EventWeight), len(DR.bins), DR.bin_width)\n",
    "    mc_hist_adj = NormalizedHist(np.histogram(MC.DR_S[i], bins=DR.bins, range=(DR.x1, DR.x2), density=None, weights=all_Weights), len(DR.bins), DR.bin_width)\n",
    "\n",
    "    adj_factor = np.divide(mc_hist_adj.freq, mc_hist.freq + 1e-10)\n",
    "    \n",
    "    ratio_freq = np.divide(data_hist.freq, mc_hist_adj.freq + 1e-10)    # 1e-10 prevents divide by 0\n",
    "    ratio_err = ratio_freq * np.sqrt((data_hist.err / (data_hist.freq + 1e-10))**2 + (mc_hist_adj.err / (mc_hist_adj.freq + 1e-10))**2)\n",
    "    \n",
    "    # calculate ratio error -> propagation of uncertainty\n",
    "\n",
    "    #PLOT----------------------------------------------------------------------------------------------------------------------------------\n",
    "\n",
    "    # Adjusting axs[0] step from bin edge to bin center results in loss of first bar because it is shifted 1/2 bin width; this adds that point back at 0\n",
    "    step_bc = mc_hist_adj.bin_centers+DR.bin_width/2\n",
    "    step_f = mc_hist_adj.freq\n",
    "    step_bc.to_numpy\n",
    "    step_f.to_numpy\n",
    "    step_bin_centers = np.insert(step_bc, 0, 0.0)\n",
    "    step_freq = np.insert(step_f, 0, mc_hist_adj.freq[0])\n",
    "\n",
    "    # Set up histogram, use bars for MC\n",
    "    fig, axs = plt.subplots(2, sharex=True, gridspec_kw={'hspace': 0, 'height_ratios': [3, 1]}, figsize=(7, 5))\n",
    "    axs[0].step(step_bin_centers, step_freq, label='Monte Carlo') \n",
    "    axs[0].set_title('Distance to Station '+str(i)+' Weighted by All Ratios')\n",
    "    axs[0].set_ylabel('Event Frequency (Normalized)')\n",
    "    axs[0].set_yscale('log')\n",
    "    \n",
    "    # Scatter data by attribute\n",
    "    axs[0].scatter(data_hist.bin_centers, data_hist.freq, s=10, color='darkorange', label='Data')\n",
    "    axs[0].errorbar(data_hist.bin_centers, data_hist.freq, xerr=DR.bin_width/2, yerr=mc_hist_adj.err, fmt='+')\n",
    "    axs[0].set_xlim(x1, x2)\n",
    "    axs[0].legend()\n",
    "\n",
    "    # Scatter ratio plot\n",
    "    axs[1].scatter(data_hist.bin_centers, ratio_freq, s=10)\n",
    "    axs[1].errorbar(data_hist.bin_centers, ratio_freq, yerr=ratio_err, fmt='+')\n",
    "    axs[1].set_ylim(0,2)\n",
    "    axs[1].set_ylabel('Ratio')\n",
    "    axs[1].set_xlabel('$\\Delta R$ to Station '+str(i))\n",
    "    \n",
    "    plt.savefig('Distance to Station '+str(i)+' Weighted by All Ratios.jpg')\n",
    "    plt.close()  # prevents figure from being displayed when code cell is executed\n",
    "        \n",
    "    plt.scatter(data_hist.bin_centers, adj_factor)\n",
    "    plt.xlabel('$\\Delta R$ to Station '+str(j))\n",
    "    plt.ylabel('Adjustment Factor')\n",
    "    plt.title('Net Adjustment by All Ratios for Station '+str(i))\n",
    "\n",
    "    plt.savefig('Net Adjustment by All Ratios for Station '+str(i)+'.jpg')\n",
    "    plt.close()\n",
    "\n",
    "    return mc_hist_adj, data_hist\n",
    "\n",
    "    #-------------------------------------------------------------------------------------------------------------------------------------\n",
    "\n",
    "for i in range (4):                    \n",
    "    plot_hist_AR(DR, i, 0, 0.35)\n",
    "\n",
    "print('done')\n",
    "\n",
    "\n",
    "#try saving each image w plt, then display as grid?"
   ]
  },
  {
   "cell_type": "code",
   "execution_count": 5,
   "id": "d0f60a0b-04fe-4f1d-a3cf-259700b1f027",
   "metadata": {},
   "outputs": [
    {
     "name": "stdout",
     "output_type": "stream",
     "text": [
      "\n",
      "\n",
      "\n",
      "\n",
      "                            ------------------------------------------------------------------------------- All Stations Weighted by Station 0 Ratios: -------------------------------------------------------------------------------\n",
      "\n",
      "\n",
      "\n",
      "\n"
     ]
    },
    {
     "data": {
      "text/html": [
       "<table><tr><td><img src='Distance to Station 0.jpg'></td><td><img src='Net Adjustment by Station 0 Ratios for Station 0.jpg'></td><td><img src='Distance to Station 0 Weighted by Station 0 Ratios.jpg'></td></tr></table>"
      ],
      "text/plain": [
       "<IPython.core.display.HTML object>"
      ]
     },
     "metadata": {},
     "output_type": "display_data"
    },
    {
     "data": {
      "text/html": [
       "<table><tr><td><img src='Distance to Station 1.jpg'></td><td><img src='Net Adjustment by Station 0 Ratios for Station 1.jpg'></td><td><img src='Distance to Station 1 Weighted by Station 0 Ratios.jpg'></td></tr></table>"
      ],
      "text/plain": [
       "<IPython.core.display.HTML object>"
      ]
     },
     "metadata": {},
     "output_type": "display_data"
    },
    {
     "data": {
      "text/html": [
       "<table><tr><td><img src='Distance to Station 2.jpg'></td><td><img src='Net Adjustment by Station 0 Ratios for Station 2.jpg'></td><td><img src='Distance to Station 2 Weighted by Station 0 Ratios.jpg'></td></tr></table>"
      ],
      "text/plain": [
       "<IPython.core.display.HTML object>"
      ]
     },
     "metadata": {},
     "output_type": "display_data"
    },
    {
     "data": {
      "text/html": [
       "<table><tr><td><img src='Distance to Station 3.jpg'></td><td><img src='Net Adjustment by Station 0 Ratios for Station 3.jpg'></td><td><img src='Distance to Station 3 Weighted by Station 0 Ratios.jpg'></td></tr></table>"
      ],
      "text/plain": [
       "<IPython.core.display.HTML object>"
      ]
     },
     "metadata": {},
     "output_type": "display_data"
    },
    {
     "name": "stdout",
     "output_type": "stream",
     "text": [
      "\n",
      "\n",
      "\n",
      "\n",
      "                            ------------------------------------------------------------------------------- All Stations Weighted by Station 1 Ratios: -------------------------------------------------------------------------------\n",
      "\n",
      "\n",
      "\n",
      "\n"
     ]
    },
    {
     "data": {
      "text/html": [
       "<table><tr><td><img src='Distance to Station 0.jpg'></td><td><img src='Net Adjustment by Station 1 Ratios for Station 0.jpg'></td><td><img src='Distance to Station 0 Weighted by Station 1 Ratios.jpg'></td></tr></table>"
      ],
      "text/plain": [
       "<IPython.core.display.HTML object>"
      ]
     },
     "metadata": {},
     "output_type": "display_data"
    },
    {
     "data": {
      "text/html": [
       "<table><tr><td><img src='Distance to Station 1.jpg'></td><td><img src='Net Adjustment by Station 1 Ratios for Station 1.jpg'></td><td><img src='Distance to Station 1 Weighted by Station 1 Ratios.jpg'></td></tr></table>"
      ],
      "text/plain": [
       "<IPython.core.display.HTML object>"
      ]
     },
     "metadata": {},
     "output_type": "display_data"
    },
    {
     "data": {
      "text/html": [
       "<table><tr><td><img src='Distance to Station 2.jpg'></td><td><img src='Net Adjustment by Station 1 Ratios for Station 2.jpg'></td><td><img src='Distance to Station 2 Weighted by Station 1 Ratios.jpg'></td></tr></table>"
      ],
      "text/plain": [
       "<IPython.core.display.HTML object>"
      ]
     },
     "metadata": {},
     "output_type": "display_data"
    },
    {
     "data": {
      "text/html": [
       "<table><tr><td><img src='Distance to Station 3.jpg'></td><td><img src='Net Adjustment by Station 1 Ratios for Station 3.jpg'></td><td><img src='Distance to Station 3 Weighted by Station 1 Ratios.jpg'></td></tr></table>"
      ],
      "text/plain": [
       "<IPython.core.display.HTML object>"
      ]
     },
     "metadata": {},
     "output_type": "display_data"
    },
    {
     "name": "stdout",
     "output_type": "stream",
     "text": [
      "\n",
      "\n",
      "\n",
      "\n",
      "                            ------------------------------------------------------------------------------- All Stations Weighted by Station 2 Ratios: -------------------------------------------------------------------------------\n",
      "\n",
      "\n",
      "\n",
      "\n"
     ]
    },
    {
     "data": {
      "text/html": [
       "<table><tr><td><img src='Distance to Station 0.jpg'></td><td><img src='Net Adjustment by Station 2 Ratios for Station 0.jpg'></td><td><img src='Distance to Station 0 Weighted by Station 2 Ratios.jpg'></td></tr></table>"
      ],
      "text/plain": [
       "<IPython.core.display.HTML object>"
      ]
     },
     "metadata": {},
     "output_type": "display_data"
    },
    {
     "data": {
      "text/html": [
       "<table><tr><td><img src='Distance to Station 1.jpg'></td><td><img src='Net Adjustment by Station 2 Ratios for Station 1.jpg'></td><td><img src='Distance to Station 1 Weighted by Station 2 Ratios.jpg'></td></tr></table>"
      ],
      "text/plain": [
       "<IPython.core.display.HTML object>"
      ]
     },
     "metadata": {},
     "output_type": "display_data"
    },
    {
     "data": {
      "text/html": [
       "<table><tr><td><img src='Distance to Station 2.jpg'></td><td><img src='Net Adjustment by Station 2 Ratios for Station 2.jpg'></td><td><img src='Distance to Station 2 Weighted by Station 2 Ratios.jpg'></td></tr></table>"
      ],
      "text/plain": [
       "<IPython.core.display.HTML object>"
      ]
     },
     "metadata": {},
     "output_type": "display_data"
    },
    {
     "data": {
      "text/html": [
       "<table><tr><td><img src='Distance to Station 3.jpg'></td><td><img src='Net Adjustment by Station 2 Ratios for Station 3.jpg'></td><td><img src='Distance to Station 3 Weighted by Station 2 Ratios.jpg'></td></tr></table>"
      ],
      "text/plain": [
       "<IPython.core.display.HTML object>"
      ]
     },
     "metadata": {},
     "output_type": "display_data"
    },
    {
     "name": "stdout",
     "output_type": "stream",
     "text": [
      "\n",
      "\n",
      "\n",
      "\n",
      "                            ------------------------------------------------------------------------------- All Stations Weighted by Station 3 Ratios: -------------------------------------------------------------------------------\n",
      "\n",
      "\n",
      "\n",
      "\n"
     ]
    },
    {
     "data": {
      "text/html": [
       "<table><tr><td><img src='Distance to Station 0.jpg'></td><td><img src='Net Adjustment by Station 3 Ratios for Station 0.jpg'></td><td><img src='Distance to Station 0 Weighted by Station 3 Ratios.jpg'></td></tr></table>"
      ],
      "text/plain": [
       "<IPython.core.display.HTML object>"
      ]
     },
     "metadata": {},
     "output_type": "display_data"
    },
    {
     "data": {
      "text/html": [
       "<table><tr><td><img src='Distance to Station 1.jpg'></td><td><img src='Net Adjustment by Station 3 Ratios for Station 1.jpg'></td><td><img src='Distance to Station 1 Weighted by Station 3 Ratios.jpg'></td></tr></table>"
      ],
      "text/plain": [
       "<IPython.core.display.HTML object>"
      ]
     },
     "metadata": {},
     "output_type": "display_data"
    },
    {
     "data": {
      "text/html": [
       "<table><tr><td><img src='Distance to Station 2.jpg'></td><td><img src='Net Adjustment by Station 3 Ratios for Station 2.jpg'></td><td><img src='Distance to Station 2 Weighted by Station 3 Ratios.jpg'></td></tr></table>"
      ],
      "text/plain": [
       "<IPython.core.display.HTML object>"
      ]
     },
     "metadata": {},
     "output_type": "display_data"
    },
    {
     "data": {
      "text/html": [
       "<table><tr><td><img src='Distance to Station 3.jpg'></td><td><img src='Net Adjustment by Station 3 Ratios for Station 3.jpg'></td><td><img src='Distance to Station 3 Weighted by Station 3 Ratios.jpg'></td></tr></table>"
      ],
      "text/plain": [
       "<IPython.core.display.HTML object>"
      ]
     },
     "metadata": {},
     "output_type": "display_data"
    },
    {
     "name": "stdout",
     "output_type": "stream",
     "text": [
      "\n",
      "\n",
      "\n",
      "\n",
      "                            ------------------------------------------------------------------------------- All Stations Weighted by All Ratios: -------------------------------------------------------------------------------\n",
      "\n",
      "\n",
      "\n",
      "\n"
     ]
    },
    {
     "data": {
      "text/html": [
       "<table><tr><td><img src='Distance to Station 0.jpg'></td><td><img src='Net Adjustment by All Ratios for Station 0.jpg'></td><td><img src='Distance to Station 0 Weighted by All Ratios.jpg'></td></tr></table>"
      ],
      "text/plain": [
       "<IPython.core.display.HTML object>"
      ]
     },
     "metadata": {},
     "output_type": "display_data"
    },
    {
     "data": {
      "text/html": [
       "<table><tr><td><img src='Distance to Station 1.jpg'></td><td><img src='Net Adjustment by All Ratios for Station 1.jpg'></td><td><img src='Distance to Station 1 Weighted by All Ratios.jpg'></td></tr></table>"
      ],
      "text/plain": [
       "<IPython.core.display.HTML object>"
      ]
     },
     "metadata": {},
     "output_type": "display_data"
    },
    {
     "data": {
      "text/html": [
       "<table><tr><td><img src='Distance to Station 2.jpg'></td><td><img src='Net Adjustment by All Ratios for Station 2.jpg'></td><td><img src='Distance to Station 2 Weighted by All Ratios.jpg'></td></tr></table>"
      ],
      "text/plain": [
       "<IPython.core.display.HTML object>"
      ]
     },
     "metadata": {},
     "output_type": "display_data"
    },
    {
     "data": {
      "text/html": [
       "<table><tr><td><img src='Distance to Station 3.jpg'></td><td><img src='Net Adjustment by All Ratios for Station 3.jpg'></td><td><img src='Distance to Station 3 Weighted by All Ratios.jpg'></td></tr></table>"
      ],
      "text/plain": [
       "<IPython.core.display.HTML object>"
      ]
     },
     "metadata": {},
     "output_type": "display_data"
    }
   ],
   "source": [
    "from IPython.display import Image, display\n",
    "from IPython.display import HTML\n",
    "\n",
    "for j in range(4):\n",
    "    for k in range(2):\n",
    "        print(\"\\n\") \n",
    "    print('                            ------------------------------------------------------------------------------- All Stations Weighted by Station '+str(j)+' Ratios: -------------------------------------------------------------------------------')\n",
    "    for k in range(2):\n",
    "        print(\"\\n\")\n",
    "    for i in range(4):\n",
    "        display(HTML(\"<table><tr><td><img src='Distance to Station \"+str(i)+\".jpg'></td><td><img src='Net Adjustment by Station \"+str(j)+\" Ratios for Station \"+str(i)+\".jpg'></td><td><img src='Distance to Station \"+str(i)+\" Weighted by Station \"+str(j)+\" Ratios.jpg'></td></tr></table>\"))\n",
    "\n",
    "\n",
    "\n",
    "for k in range(2):\n",
    "    print(\"\\n\") \n",
    "print('                            ------------------------------------------------------------------------------- All Stations Weighted by All Ratios: -------------------------------------------------------------------------------')\n",
    "for k in range(2):\n",
    "    print(\"\\n\")\n",
    "for i in range(4):\n",
    "    display(HTML(\"<table><tr><td><img src='Distance to Station \"+str(i)+\".jpg'></td><td><img src='Net Adjustment by All Ratios for Station \"+str(i)+\".jpg'></td><td><img src='Distance to Station \"+str(i)+\" Weighted by All Ratios.jpg'></td></tr></table>\"))\n"
   ]
  },
  {
   "cell_type": "code",
   "execution_count": null,
   "id": "91e8ecd3-74a9-4ff2-8317-576ef667c048",
   "metadata": {},
   "outputs": [],
   "source": []
  }
 ],
 "metadata": {
  "kernelspec": {
   "display_name": "Python 3 (ipykernel)",
   "language": "python",
   "name": "python3"
  },
  "language_info": {
   "codemirror_mode": {
    "name": "ipython",
    "version": 3
   },
   "file_extension": ".py",
   "mimetype": "text/x-python",
   "name": "python",
   "nbconvert_exporter": "python",
   "pygments_lexer": "ipython3",
   "version": "3.11.2"
  }
 },
 "nbformat": 4,
 "nbformat_minor": 5
}
